{
 "cells": [
  {
   "cell_type": "code",
   "execution_count": 1,
   "metadata": {},
   "outputs": [],
   "source": [
    "import pandas as pd"
   ]
  },
  {
   "cell_type": "code",
   "execution_count": 2,
   "metadata": {},
   "outputs": [
    {
     "name": "stdout",
     "output_type": "stream",
     "text": [
      "datos_ONU\n",
      "datos_PEPE\n"
     ]
    }
   ],
   "source": [
    "datos_ONU = pd.DataFrame()\n",
    "datos_PEPE = pd.DataFrame()\n",
    "for a in [datos_ONU, datos_PEPE]:\n",
    "    var_name = [ k for k,v in globals().items() if v is a][0]\n",
    "    print(var_name)"
   ]
  },
  {
   "cell_type": "code",
   "execution_count": 6,
   "metadata": {},
   "outputs": [
    {
     "data": {
      "text/plain": [
       "{'__name__': '__main__',\n",
       " '__doc__': 'Automatically created module for IPython interactive environment',\n",
       " '__package__': None,\n",
       " '__loader__': None,\n",
       " '__spec__': None,\n",
       " '__builtin__': <module 'builtins' (built-in)>,\n",
       " '__builtins__': <module 'builtins' (built-in)>,\n",
       " '_ih': ['',\n",
       "  'import pandas as pd',\n",
       "  'datos_ONU = pd.DataFrame()\\ndatos_PEPE = pd.DataFrame()\\nfor a in [datos_ONU, datos_PEPE]:\\n    var_name = [ k for k,v in globals().items() if v is a][0]\\n    print(var_name)',\n",
       "  'var_name',\n",
       "  'globals().items()',\n",
       "  'globals().items()[0]',\n",
       "  'globals()'],\n",
       " '_oh': {3: 'datos_PEPE',\n",
       "  4: dict_items([('__name__', '__main__'), ('__doc__', 'Automatically created module for IPython interactive environment'), ('__package__', None), ('__loader__', None), ('__spec__', None), ('__builtin__', <module 'builtins' (built-in)>), ('__builtins__', <module 'builtins' (built-in)>), ('_ih', ['', 'import pandas as pd', 'datos_ONU = pd.DataFrame()\\ndatos_PEPE = pd.DataFrame()\\nfor a in [datos_ONU, datos_PEPE]:\\n    var_name = [ k for k,v in globals().items() if v is a][0]\\n    print(var_name)', 'var_name', 'globals().items()', 'globals().items()[0]', 'globals()']), ('_oh', {3: 'datos_PEPE', 4: ...}), ('_dh', [WindowsPath('c:/Users/Francisco Cervantes/Documents/Henry/Grupal/Comision_Latinoamericana')]), ('In', ['', 'import pandas as pd', 'datos_ONU = pd.DataFrame()\\ndatos_PEPE = pd.DataFrame()\\nfor a in [datos_ONU, datos_PEPE]:\\n    var_name = [ k for k,v in globals().items() if v is a][0]\\n    print(var_name)', 'var_name', 'globals().items()', 'globals().items()[0]', 'globals()']), ('Out', {3: 'datos_PEPE', 4: ...}), ('get_ipython', <bound method InteractiveShell.get_ipython of <ipykernel.zmqshell.ZMQInteractiveShell object at 0x000002490FE595D0>>), ('exit', <IPython.core.autocall.ZMQExitAutocall object at 0x000002490FE5B0A0>), ('quit', <IPython.core.autocall.ZMQExitAutocall object at 0x000002490FE5B0A0>), ('_', ...), ('__', 'datos_PEPE'), ('___', ''), ('sys', <module 'sys' (built-in)>), ('os', <module 'os' from 'c:\\\\Users\\\\Francisco Cervantes\\\\AppData\\\\Local\\\\Programs\\\\Python\\\\Python310\\\\lib\\\\os.py'>), ('__vsc_ipynb_file__', 'c:\\\\Users\\\\Francisco Cervantes\\\\Documents\\\\Henry\\\\Grupal\\\\Comision_Latinoamericana\\\\check.ipynb'), ('_i', 'globals().items()[0]'), ('_ii', 'globals().items()'), ('_iii', 'var_name'), ('_i1', 'import pandas as pd'), ('pd', <module 'pandas' from 'c:\\\\Users\\\\Francisco Cervantes\\\\AppData\\\\Local\\\\Programs\\\\Python\\\\Python310\\\\lib\\\\site-packages\\\\pandas\\\\__init__.py'>), ('_i2', 'datos_ONU = pd.DataFrame()\\ndatos_PEPE = pd.DataFrame()\\nfor a in [datos_ONU, datos_PEPE]:\\n    var_name = [ k for k,v in globals().items() if v is a][0]\\n    print(var_name)'), ('datos_ONU', Empty DataFrame\n",
       "  Columns: []\n",
       "  Index: []), ('datos_PEPE', Empty DataFrame\n",
       "  Columns: []\n",
       "  Index: []), ('a', Empty DataFrame\n",
       "  Columns: []\n",
       "  Index: []), ('var_name', 'datos_PEPE'), ('_i3', 'var_name'), ('_3', 'datos_PEPE'), ('_i4', 'globals().items()'), ('_4', ...), ('_i5', 'globals().items()[0]'), ('_i6', 'globals()')])},\n",
       " '_dh': [WindowsPath('c:/Users/Francisco Cervantes/Documents/Henry/Grupal/Comision_Latinoamericana')],\n",
       " 'In': ['',\n",
       "  'import pandas as pd',\n",
       "  'datos_ONU = pd.DataFrame()\\ndatos_PEPE = pd.DataFrame()\\nfor a in [datos_ONU, datos_PEPE]:\\n    var_name = [ k for k,v in globals().items() if v is a][0]\\n    print(var_name)',\n",
       "  'var_name',\n",
       "  'globals().items()',\n",
       "  'globals().items()[0]',\n",
       "  'globals()'],\n",
       " 'Out': {3: 'datos_PEPE',\n",
       "  4: dict_items([('__name__', '__main__'), ('__doc__', 'Automatically created module for IPython interactive environment'), ('__package__', None), ('__loader__', None), ('__spec__', None), ('__builtin__', <module 'builtins' (built-in)>), ('__builtins__', <module 'builtins' (built-in)>), ('_ih', ['', 'import pandas as pd', 'datos_ONU = pd.DataFrame()\\ndatos_PEPE = pd.DataFrame()\\nfor a in [datos_ONU, datos_PEPE]:\\n    var_name = [ k for k,v in globals().items() if v is a][0]\\n    print(var_name)', 'var_name', 'globals().items()', 'globals().items()[0]', 'globals()']), ('_oh', {3: 'datos_PEPE', 4: ...}), ('_dh', [WindowsPath('c:/Users/Francisco Cervantes/Documents/Henry/Grupal/Comision_Latinoamericana')]), ('In', ['', 'import pandas as pd', 'datos_ONU = pd.DataFrame()\\ndatos_PEPE = pd.DataFrame()\\nfor a in [datos_ONU, datos_PEPE]:\\n    var_name = [ k for k,v in globals().items() if v is a][0]\\n    print(var_name)', 'var_name', 'globals().items()', 'globals().items()[0]', 'globals()']), ('Out', {3: 'datos_PEPE', 4: ...}), ('get_ipython', <bound method InteractiveShell.get_ipython of <ipykernel.zmqshell.ZMQInteractiveShell object at 0x000002490FE595D0>>), ('exit', <IPython.core.autocall.ZMQExitAutocall object at 0x000002490FE5B0A0>), ('quit', <IPython.core.autocall.ZMQExitAutocall object at 0x000002490FE5B0A0>), ('_', ...), ('__', 'datos_PEPE'), ('___', ''), ('sys', <module 'sys' (built-in)>), ('os', <module 'os' from 'c:\\\\Users\\\\Francisco Cervantes\\\\AppData\\\\Local\\\\Programs\\\\Python\\\\Python310\\\\lib\\\\os.py'>), ('__vsc_ipynb_file__', 'c:\\\\Users\\\\Francisco Cervantes\\\\Documents\\\\Henry\\\\Grupal\\\\Comision_Latinoamericana\\\\check.ipynb'), ('_i', 'globals().items()[0]'), ('_ii', 'globals().items()'), ('_iii', 'var_name'), ('_i1', 'import pandas as pd'), ('pd', <module 'pandas' from 'c:\\\\Users\\\\Francisco Cervantes\\\\AppData\\\\Local\\\\Programs\\\\Python\\\\Python310\\\\lib\\\\site-packages\\\\pandas\\\\__init__.py'>), ('_i2', 'datos_ONU = pd.DataFrame()\\ndatos_PEPE = pd.DataFrame()\\nfor a in [datos_ONU, datos_PEPE]:\\n    var_name = [ k for k,v in globals().items() if v is a][0]\\n    print(var_name)'), ('datos_ONU', Empty DataFrame\n",
       "  Columns: []\n",
       "  Index: []), ('datos_PEPE', Empty DataFrame\n",
       "  Columns: []\n",
       "  Index: []), ('a', Empty DataFrame\n",
       "  Columns: []\n",
       "  Index: []), ('var_name', 'datos_PEPE'), ('_i3', 'var_name'), ('_3', 'datos_PEPE'), ('_i4', 'globals().items()'), ('_4', ...), ('_i5', 'globals().items()[0]'), ('_i6', 'globals()')])},\n",
       " 'get_ipython': <bound method InteractiveShell.get_ipython of <ipykernel.zmqshell.ZMQInteractiveShell object at 0x000002490FE595D0>>,\n",
       " 'exit': <IPython.core.autocall.ZMQExitAutocall at 0x2490fe5b0a0>,\n",
       " 'quit': <IPython.core.autocall.ZMQExitAutocall at 0x2490fe5b0a0>,\n",
       " '_': dict_items([('__name__', '__main__'), ('__doc__', 'Automatically created module for IPython interactive environment'), ('__package__', None), ('__loader__', None), ('__spec__', None), ('__builtin__', <module 'builtins' (built-in)>), ('__builtins__', <module 'builtins' (built-in)>), ('_ih', ['', 'import pandas as pd', 'datos_ONU = pd.DataFrame()\\ndatos_PEPE = pd.DataFrame()\\nfor a in [datos_ONU, datos_PEPE]:\\n    var_name = [ k for k,v in globals().items() if v is a][0]\\n    print(var_name)', 'var_name', 'globals().items()', 'globals().items()[0]', 'globals()']), ('_oh', {3: 'datos_PEPE', 4: ...}), ('_dh', [WindowsPath('c:/Users/Francisco Cervantes/Documents/Henry/Grupal/Comision_Latinoamericana')]), ('In', ['', 'import pandas as pd', 'datos_ONU = pd.DataFrame()\\ndatos_PEPE = pd.DataFrame()\\nfor a in [datos_ONU, datos_PEPE]:\\n    var_name = [ k for k,v in globals().items() if v is a][0]\\n    print(var_name)', 'var_name', 'globals().items()', 'globals().items()[0]', 'globals()']), ('Out', {3: 'datos_PEPE', 4: ...}), ('get_ipython', <bound method InteractiveShell.get_ipython of <ipykernel.zmqshell.ZMQInteractiveShell object at 0x000002490FE595D0>>), ('exit', <IPython.core.autocall.ZMQExitAutocall object at 0x000002490FE5B0A0>), ('quit', <IPython.core.autocall.ZMQExitAutocall object at 0x000002490FE5B0A0>), ('_', ...), ('__', 'datos_PEPE'), ('___', ''), ('sys', <module 'sys' (built-in)>), ('os', <module 'os' from 'c:\\\\Users\\\\Francisco Cervantes\\\\AppData\\\\Local\\\\Programs\\\\Python\\\\Python310\\\\lib\\\\os.py'>), ('__vsc_ipynb_file__', 'c:\\\\Users\\\\Francisco Cervantes\\\\Documents\\\\Henry\\\\Grupal\\\\Comision_Latinoamericana\\\\check.ipynb'), ('_i', 'globals().items()[0]'), ('_ii', 'globals().items()'), ('_iii', 'var_name'), ('_i1', 'import pandas as pd'), ('pd', <module 'pandas' from 'c:\\\\Users\\\\Francisco Cervantes\\\\AppData\\\\Local\\\\Programs\\\\Python\\\\Python310\\\\lib\\\\site-packages\\\\pandas\\\\__init__.py'>), ('_i2', 'datos_ONU = pd.DataFrame()\\ndatos_PEPE = pd.DataFrame()\\nfor a in [datos_ONU, datos_PEPE]:\\n    var_name = [ k for k,v in globals().items() if v is a][0]\\n    print(var_name)'), ('datos_ONU', Empty DataFrame\n",
       " Columns: []\n",
       " Index: []), ('datos_PEPE', Empty DataFrame\n",
       " Columns: []\n",
       " Index: []), ('a', Empty DataFrame\n",
       " Columns: []\n",
       " Index: []), ('var_name', 'datos_PEPE'), ('_i3', 'var_name'), ('_3', 'datos_PEPE'), ('_i4', 'globals().items()'), ('_4', ...), ('_i5', 'globals().items()[0]'), ('_i6', 'globals()')]),\n",
       " '__': 'datos_PEPE',\n",
       " '___': '',\n",
       " 'sys': <module 'sys' (built-in)>,\n",
       " 'os': <module 'os' from 'c:\\\\Users\\\\Francisco Cervantes\\\\AppData\\\\Local\\\\Programs\\\\Python\\\\Python310\\\\lib\\\\os.py'>,\n",
       " '__vsc_ipynb_file__': 'c:\\\\Users\\\\Francisco Cervantes\\\\Documents\\\\Henry\\\\Grupal\\\\Comision_Latinoamericana\\\\check.ipynb',\n",
       " '_i': 'globals().items()[0]',\n",
       " '_ii': 'globals().items()',\n",
       " '_iii': 'var_name',\n",
       " '_i1': 'import pandas as pd',\n",
       " 'pd': <module 'pandas' from 'c:\\\\Users\\\\Francisco Cervantes\\\\AppData\\\\Local\\\\Programs\\\\Python\\\\Python310\\\\lib\\\\site-packages\\\\pandas\\\\__init__.py'>,\n",
       " '_i2': 'datos_ONU = pd.DataFrame()\\ndatos_PEPE = pd.DataFrame()\\nfor a in [datos_ONU, datos_PEPE]:\\n    var_name = [ k for k,v in globals().items() if v is a][0]\\n    print(var_name)',\n",
       " 'datos_ONU': Empty DataFrame\n",
       " Columns: []\n",
       " Index: [],\n",
       " 'datos_PEPE': Empty DataFrame\n",
       " Columns: []\n",
       " Index: [],\n",
       " 'a': Empty DataFrame\n",
       " Columns: []\n",
       " Index: [],\n",
       " 'var_name': 'datos_PEPE',\n",
       " '_i3': 'var_name',\n",
       " '_3': 'datos_PEPE',\n",
       " '_i4': 'globals().items()',\n",
       " '_4': dict_items([('__name__', '__main__'), ('__doc__', 'Automatically created module for IPython interactive environment'), ('__package__', None), ('__loader__', None), ('__spec__', None), ('__builtin__', <module 'builtins' (built-in)>), ('__builtins__', <module 'builtins' (built-in)>), ('_ih', ['', 'import pandas as pd', 'datos_ONU = pd.DataFrame()\\ndatos_PEPE = pd.DataFrame()\\nfor a in [datos_ONU, datos_PEPE]:\\n    var_name = [ k for k,v in globals().items() if v is a][0]\\n    print(var_name)', 'var_name', 'globals().items()', 'globals().items()[0]', 'globals()']), ('_oh', {3: 'datos_PEPE', 4: ...}), ('_dh', [WindowsPath('c:/Users/Francisco Cervantes/Documents/Henry/Grupal/Comision_Latinoamericana')]), ('In', ['', 'import pandas as pd', 'datos_ONU = pd.DataFrame()\\ndatos_PEPE = pd.DataFrame()\\nfor a in [datos_ONU, datos_PEPE]:\\n    var_name = [ k for k,v in globals().items() if v is a][0]\\n    print(var_name)', 'var_name', 'globals().items()', 'globals().items()[0]', 'globals()']), ('Out', {3: 'datos_PEPE', 4: ...}), ('get_ipython', <bound method InteractiveShell.get_ipython of <ipykernel.zmqshell.ZMQInteractiveShell object at 0x000002490FE595D0>>), ('exit', <IPython.core.autocall.ZMQExitAutocall object at 0x000002490FE5B0A0>), ('quit', <IPython.core.autocall.ZMQExitAutocall object at 0x000002490FE5B0A0>), ('_', ...), ('__', 'datos_PEPE'), ('___', ''), ('sys', <module 'sys' (built-in)>), ('os', <module 'os' from 'c:\\\\Users\\\\Francisco Cervantes\\\\AppData\\\\Local\\\\Programs\\\\Python\\\\Python310\\\\lib\\\\os.py'>), ('__vsc_ipynb_file__', 'c:\\\\Users\\\\Francisco Cervantes\\\\Documents\\\\Henry\\\\Grupal\\\\Comision_Latinoamericana\\\\check.ipynb'), ('_i', 'globals().items()[0]'), ('_ii', 'globals().items()'), ('_iii', 'var_name'), ('_i1', 'import pandas as pd'), ('pd', <module 'pandas' from 'c:\\\\Users\\\\Francisco Cervantes\\\\AppData\\\\Local\\\\Programs\\\\Python\\\\Python310\\\\lib\\\\site-packages\\\\pandas\\\\__init__.py'>), ('_i2', 'datos_ONU = pd.DataFrame()\\ndatos_PEPE = pd.DataFrame()\\nfor a in [datos_ONU, datos_PEPE]:\\n    var_name = [ k for k,v in globals().items() if v is a][0]\\n    print(var_name)'), ('datos_ONU', Empty DataFrame\n",
       " Columns: []\n",
       " Index: []), ('datos_PEPE', Empty DataFrame\n",
       " Columns: []\n",
       " Index: []), ('a', Empty DataFrame\n",
       " Columns: []\n",
       " Index: []), ('var_name', 'datos_PEPE'), ('_i3', 'var_name'), ('_3', 'datos_PEPE'), ('_i4', 'globals().items()'), ('_4', ...), ('_i5', 'globals().items()[0]'), ('_i6', 'globals()')]),\n",
       " '_i5': 'globals().items()[0]',\n",
       " '_i6': 'globals()'}"
      ]
     },
     "execution_count": 6,
     "metadata": {},
     "output_type": "execute_result"
    }
   ],
   "source": [
    "globals()"
   ]
  }
 ],
 "metadata": {
  "kernelspec": {
   "display_name": "Python 3.10.2 64-bit",
   "language": "python",
   "name": "python3"
  },
  "language_info": {
   "codemirror_mode": {
    "name": "ipython",
    "version": 3
   },
   "file_extension": ".py",
   "mimetype": "text/x-python",
   "name": "python",
   "nbconvert_exporter": "python",
   "pygments_lexer": "ipython3",
   "version": "3.10.2"
  },
  "orig_nbformat": 4,
  "vscode": {
   "interpreter": {
    "hash": "ed449d678b2c1eb2d054f3ecf73eb9588e3708dcf99ab7b6fdac6947a13ce72b"
   }
  }
 },
 "nbformat": 4,
 "nbformat_minor": 2
}

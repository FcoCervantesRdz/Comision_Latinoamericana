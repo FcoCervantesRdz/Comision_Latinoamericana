{
 "cells": [
  {
   "cell_type": "code",
   "execution_count": 22,
   "metadata": {},
   "outputs": [],
   "source": [
    "import pandas as pd \n",
    "import numpy as np\n",
    "import matplotlib as plt \n",
    "import seaborn as sns "
   ]
  },
  {
   "cell_type": "code",
   "execution_count": 23,
   "metadata": {},
   "outputs": [],
   "source": [
    "df = pd.read_csv('energy_intensity_measured_in_terms_of_primary_energy_and_GDP.csv', index_col=0, encoding='latin-1')\n"
   ]
  },
  {
   "cell_type": "markdown",
   "metadata": {},
   "source": [
    "Identificación de tipos de datos"
   ]
  },
  {
   "cell_type": "code",
   "execution_count": 24,
   "metadata": {},
   "outputs": [
    {
     "data": {
      "text/plain": [
       "Target               float64\n",
       "Indicator             object\n",
       "SeriesCode            object\n",
       "SeriesDescription     object\n",
       "GeoAreaCode            int64\n",
       "GeoAreaName           object\n",
       "TimePeriod             int64\n",
       "Value                float64\n",
       "Time_Detail            int64\n",
       "TimeCoverage         float64\n",
       "UpperBound           float64\n",
       "LowerBound           float64\n",
       "BasePeriod             int64\n",
       "Source                object\n",
       "GeoInfoUrl           float64\n",
       "FootNote              object\n",
       "Nature                object\n",
       "Reporting Type        object\n",
       "Units                 object\n",
       "Unnamed: 20          float64\n",
       "Unnamed: 21          float64\n",
       "Unnamed: 22          float64\n",
       "Unnamed: 23          float64\n",
       "Unnamed: 24          float64\n",
       "Unnamed: 25          float64\n",
       "Unnamed: 26          float64\n",
       "Unnamed: 27          float64\n",
       "Unnamed: 28          float64\n",
       "Unnamed: 29          float64\n",
       "Unnamed: 30          float64\n",
       "Unnamed: 31          float64\n",
       "Unnamed: 32          float64\n",
       "Unnamed: 33          float64\n",
       "Unnamed: 34          float64\n",
       "Unnamed: 35          float64\n",
       "Unnamed: 36          float64\n",
       "Unnamed: 37          float64\n",
       "Unnamed: 38          float64\n",
       "Unnamed: 39          float64\n",
       "Unnamed: 40          float64\n",
       "Unnamed: 41          float64\n",
       "Unnamed: 42          float64\n",
       "Unnamed: 43          float64\n",
       "Unnamed: 44          float64\n",
       "Unnamed: 45          float64\n",
       "Unnamed: 46          float64\n",
       "Unnamed: 47          float64\n",
       "Unnamed: 48          float64\n",
       "Unnamed: 49          float64\n",
       "Unnamed: 50          float64\n",
       "Unnamed: 51          float64\n",
       "dtype: object"
      ]
     },
     "execution_count": 24,
     "metadata": {},
     "output_type": "execute_result"
    }
   ],
   "source": [
    "df.dtypes"
   ]
  },
  {
   "cell_type": "markdown",
   "metadata": {},
   "source": [
    "En una primera mirada rápida, habría que borrar todsa las columnas Unnamed ya que parecen no tener datos"
   ]
  },
  {
   "cell_type": "markdown",
   "metadata": {},
   "source": [
    "Tamaño del dataset"
   ]
  },
  {
   "cell_type": "code",
   "execution_count": 25,
   "metadata": {},
   "outputs": [
    {
     "data": {
      "text/plain": [
       "(5480, 51)"
      ]
     },
     "execution_count": 25,
     "metadata": {},
     "output_type": "execute_result"
    }
   ],
   "source": [
    "df.shape"
   ]
  },
  {
   "cell_type": "markdown",
   "metadata": {},
   "source": [
    "Ver estadísticas del dataset"
   ]
  },
  {
   "cell_type": "code",
   "execution_count": 26,
   "metadata": {},
   "outputs": [
    {
     "data": {
      "text/html": [
       "<div>\n",
       "<style scoped>\n",
       "    .dataframe tbody tr th:only-of-type {\n",
       "        vertical-align: middle;\n",
       "    }\n",
       "\n",
       "    .dataframe tbody tr th {\n",
       "        vertical-align: top;\n",
       "    }\n",
       "\n",
       "    .dataframe thead th {\n",
       "        text-align: right;\n",
       "    }\n",
       "</style>\n",
       "<table border=\"1\" class=\"dataframe\">\n",
       "  <thead>\n",
       "    <tr style=\"text-align: right;\">\n",
       "      <th></th>\n",
       "      <th>Target</th>\n",
       "      <th>GeoAreaCode</th>\n",
       "      <th>TimePeriod</th>\n",
       "      <th>Value</th>\n",
       "      <th>Time_Detail</th>\n",
       "      <th>TimeCoverage</th>\n",
       "      <th>UpperBound</th>\n",
       "      <th>LowerBound</th>\n",
       "      <th>BasePeriod</th>\n",
       "      <th>GeoInfoUrl</th>\n",
       "      <th>Unnamed: 20</th>\n",
       "      <th>Unnamed: 21</th>\n",
       "      <th>Unnamed: 22</th>\n",
       "      <th>Unnamed: 23</th>\n",
       "      <th>Unnamed: 24</th>\n",
       "      <th>Unnamed: 25</th>\n",
       "      <th>Unnamed: 26</th>\n",
       "      <th>Unnamed: 27</th>\n",
       "      <th>Unnamed: 28</th>\n",
       "      <th>Unnamed: 29</th>\n",
       "      <th>Unnamed: 30</th>\n",
       "      <th>Unnamed: 31</th>\n",
       "      <th>Unnamed: 32</th>\n",
       "      <th>Unnamed: 33</th>\n",
       "      <th>Unnamed: 34</th>\n",
       "      <th>Unnamed: 35</th>\n",
       "      <th>Unnamed: 36</th>\n",
       "      <th>Unnamed: 37</th>\n",
       "      <th>Unnamed: 38</th>\n",
       "      <th>Unnamed: 39</th>\n",
       "      <th>Unnamed: 40</th>\n",
       "      <th>Unnamed: 41</th>\n",
       "      <th>Unnamed: 42</th>\n",
       "      <th>Unnamed: 43</th>\n",
       "      <th>Unnamed: 44</th>\n",
       "      <th>Unnamed: 45</th>\n",
       "      <th>Unnamed: 46</th>\n",
       "      <th>Unnamed: 47</th>\n",
       "      <th>Unnamed: 48</th>\n",
       "      <th>Unnamed: 49</th>\n",
       "      <th>Unnamed: 50</th>\n",
       "      <th>Unnamed: 51</th>\n",
       "    </tr>\n",
       "  </thead>\n",
       "  <tbody>\n",
       "    <tr>\n",
       "      <th>count</th>\n",
       "      <td>5.480000e+03</td>\n",
       "      <td>5480.000000</td>\n",
       "      <td>5480.000000</td>\n",
       "      <td>4741.000000</td>\n",
       "      <td>5480.000000</td>\n",
       "      <td>0.0</td>\n",
       "      <td>0.0</td>\n",
       "      <td>0.0</td>\n",
       "      <td>5480.0</td>\n",
       "      <td>0.0</td>\n",
       "      <td>0.0</td>\n",
       "      <td>0.0</td>\n",
       "      <td>0.0</td>\n",
       "      <td>0.0</td>\n",
       "      <td>0.0</td>\n",
       "      <td>0.0</td>\n",
       "      <td>0.0</td>\n",
       "      <td>0.0</td>\n",
       "      <td>0.0</td>\n",
       "      <td>0.0</td>\n",
       "      <td>0.0</td>\n",
       "      <td>0.0</td>\n",
       "      <td>0.0</td>\n",
       "      <td>0.0</td>\n",
       "      <td>0.0</td>\n",
       "      <td>0.0</td>\n",
       "      <td>0.0</td>\n",
       "      <td>0.0</td>\n",
       "      <td>0.0</td>\n",
       "      <td>0.0</td>\n",
       "      <td>0.0</td>\n",
       "      <td>0.0</td>\n",
       "      <td>0.0</td>\n",
       "      <td>0.0</td>\n",
       "      <td>0.0</td>\n",
       "      <td>0.0</td>\n",
       "      <td>0.0</td>\n",
       "      <td>0.0</td>\n",
       "      <td>0.0</td>\n",
       "      <td>0.0</td>\n",
       "      <td>0.0</td>\n",
       "      <td>0.0</td>\n",
       "    </tr>\n",
       "    <tr>\n",
       "      <th>mean</th>\n",
       "      <td>7.300000e+00</td>\n",
       "      <td>400.321168</td>\n",
       "      <td>2009.500000</td>\n",
       "      <td>5.577404</td>\n",
       "      <td>2009.500000</td>\n",
       "      <td>NaN</td>\n",
       "      <td>NaN</td>\n",
       "      <td>NaN</td>\n",
       "      <td>2017.0</td>\n",
       "      <td>NaN</td>\n",
       "      <td>NaN</td>\n",
       "      <td>NaN</td>\n",
       "      <td>NaN</td>\n",
       "      <td>NaN</td>\n",
       "      <td>NaN</td>\n",
       "      <td>NaN</td>\n",
       "      <td>NaN</td>\n",
       "      <td>NaN</td>\n",
       "      <td>NaN</td>\n",
       "      <td>NaN</td>\n",
       "      <td>NaN</td>\n",
       "      <td>NaN</td>\n",
       "      <td>NaN</td>\n",
       "      <td>NaN</td>\n",
       "      <td>NaN</td>\n",
       "      <td>NaN</td>\n",
       "      <td>NaN</td>\n",
       "      <td>NaN</td>\n",
       "      <td>NaN</td>\n",
       "      <td>NaN</td>\n",
       "      <td>NaN</td>\n",
       "      <td>NaN</td>\n",
       "      <td>NaN</td>\n",
       "      <td>NaN</td>\n",
       "      <td>NaN</td>\n",
       "      <td>NaN</td>\n",
       "      <td>NaN</td>\n",
       "      <td>NaN</td>\n",
       "      <td>NaN</td>\n",
       "      <td>NaN</td>\n",
       "      <td>NaN</td>\n",
       "      <td>NaN</td>\n",
       "    </tr>\n",
       "    <tr>\n",
       "      <th>std</th>\n",
       "      <td>8.882595e-16</td>\n",
       "      <td>264.628035</td>\n",
       "      <td>5.766807</td>\n",
       "      <td>3.521451</td>\n",
       "      <td>5.766807</td>\n",
       "      <td>NaN</td>\n",
       "      <td>NaN</td>\n",
       "      <td>NaN</td>\n",
       "      <td>0.0</td>\n",
       "      <td>NaN</td>\n",
       "      <td>NaN</td>\n",
       "      <td>NaN</td>\n",
       "      <td>NaN</td>\n",
       "      <td>NaN</td>\n",
       "      <td>NaN</td>\n",
       "      <td>NaN</td>\n",
       "      <td>NaN</td>\n",
       "      <td>NaN</td>\n",
       "      <td>NaN</td>\n",
       "      <td>NaN</td>\n",
       "      <td>NaN</td>\n",
       "      <td>NaN</td>\n",
       "      <td>NaN</td>\n",
       "      <td>NaN</td>\n",
       "      <td>NaN</td>\n",
       "      <td>NaN</td>\n",
       "      <td>NaN</td>\n",
       "      <td>NaN</td>\n",
       "      <td>NaN</td>\n",
       "      <td>NaN</td>\n",
       "      <td>NaN</td>\n",
       "      <td>NaN</td>\n",
       "      <td>NaN</td>\n",
       "      <td>NaN</td>\n",
       "      <td>NaN</td>\n",
       "      <td>NaN</td>\n",
       "      <td>NaN</td>\n",
       "      <td>NaN</td>\n",
       "      <td>NaN</td>\n",
       "      <td>NaN</td>\n",
       "      <td>NaN</td>\n",
       "      <td>NaN</td>\n",
       "    </tr>\n",
       "    <tr>\n",
       "      <th>min</th>\n",
       "      <td>7.300000e+00</td>\n",
       "      <td>1.000000</td>\n",
       "      <td>2000.000000</td>\n",
       "      <td>0.110000</td>\n",
       "      <td>2000.000000</td>\n",
       "      <td>NaN</td>\n",
       "      <td>NaN</td>\n",
       "      <td>NaN</td>\n",
       "      <td>2017.0</td>\n",
       "      <td>NaN</td>\n",
       "      <td>NaN</td>\n",
       "      <td>NaN</td>\n",
       "      <td>NaN</td>\n",
       "      <td>NaN</td>\n",
       "      <td>NaN</td>\n",
       "      <td>NaN</td>\n",
       "      <td>NaN</td>\n",
       "      <td>NaN</td>\n",
       "      <td>NaN</td>\n",
       "      <td>NaN</td>\n",
       "      <td>NaN</td>\n",
       "      <td>NaN</td>\n",
       "      <td>NaN</td>\n",
       "      <td>NaN</td>\n",
       "      <td>NaN</td>\n",
       "      <td>NaN</td>\n",
       "      <td>NaN</td>\n",
       "      <td>NaN</td>\n",
       "      <td>NaN</td>\n",
       "      <td>NaN</td>\n",
       "      <td>NaN</td>\n",
       "      <td>NaN</td>\n",
       "      <td>NaN</td>\n",
       "      <td>NaN</td>\n",
       "      <td>NaN</td>\n",
       "      <td>NaN</td>\n",
       "      <td>NaN</td>\n",
       "      <td>NaN</td>\n",
       "      <td>NaN</td>\n",
       "      <td>NaN</td>\n",
       "      <td>NaN</td>\n",
       "      <td>NaN</td>\n",
       "    </tr>\n",
       "    <tr>\n",
       "      <th>25%</th>\n",
       "      <td>7.300000e+00</td>\n",
       "      <td>154.000000</td>\n",
       "      <td>2004.750000</td>\n",
       "      <td>3.390000</td>\n",
       "      <td>2004.750000</td>\n",
       "      <td>NaN</td>\n",
       "      <td>NaN</td>\n",
       "      <td>NaN</td>\n",
       "      <td>2017.0</td>\n",
       "      <td>NaN</td>\n",
       "      <td>NaN</td>\n",
       "      <td>NaN</td>\n",
       "      <td>NaN</td>\n",
       "      <td>NaN</td>\n",
       "      <td>NaN</td>\n",
       "      <td>NaN</td>\n",
       "      <td>NaN</td>\n",
       "      <td>NaN</td>\n",
       "      <td>NaN</td>\n",
       "      <td>NaN</td>\n",
       "      <td>NaN</td>\n",
       "      <td>NaN</td>\n",
       "      <td>NaN</td>\n",
       "      <td>NaN</td>\n",
       "      <td>NaN</td>\n",
       "      <td>NaN</td>\n",
       "      <td>NaN</td>\n",
       "      <td>NaN</td>\n",
       "      <td>NaN</td>\n",
       "      <td>NaN</td>\n",
       "      <td>NaN</td>\n",
       "      <td>NaN</td>\n",
       "      <td>NaN</td>\n",
       "      <td>NaN</td>\n",
       "      <td>NaN</td>\n",
       "      <td>NaN</td>\n",
       "      <td>NaN</td>\n",
       "      <td>NaN</td>\n",
       "      <td>NaN</td>\n",
       "      <td>NaN</td>\n",
       "      <td>NaN</td>\n",
       "      <td>NaN</td>\n",
       "    </tr>\n",
       "    <tr>\n",
       "      <th>50%</th>\n",
       "      <td>7.300000e+00</td>\n",
       "      <td>409.000000</td>\n",
       "      <td>2009.500000</td>\n",
       "      <td>4.680000</td>\n",
       "      <td>2009.500000</td>\n",
       "      <td>NaN</td>\n",
       "      <td>NaN</td>\n",
       "      <td>NaN</td>\n",
       "      <td>2017.0</td>\n",
       "      <td>NaN</td>\n",
       "      <td>NaN</td>\n",
       "      <td>NaN</td>\n",
       "      <td>NaN</td>\n",
       "      <td>NaN</td>\n",
       "      <td>NaN</td>\n",
       "      <td>NaN</td>\n",
       "      <td>NaN</td>\n",
       "      <td>NaN</td>\n",
       "      <td>NaN</td>\n",
       "      <td>NaN</td>\n",
       "      <td>NaN</td>\n",
       "      <td>NaN</td>\n",
       "      <td>NaN</td>\n",
       "      <td>NaN</td>\n",
       "      <td>NaN</td>\n",
       "      <td>NaN</td>\n",
       "      <td>NaN</td>\n",
       "      <td>NaN</td>\n",
       "      <td>NaN</td>\n",
       "      <td>NaN</td>\n",
       "      <td>NaN</td>\n",
       "      <td>NaN</td>\n",
       "      <td>NaN</td>\n",
       "      <td>NaN</td>\n",
       "      <td>NaN</td>\n",
       "      <td>NaN</td>\n",
       "      <td>NaN</td>\n",
       "      <td>NaN</td>\n",
       "      <td>NaN</td>\n",
       "      <td>NaN</td>\n",
       "      <td>NaN</td>\n",
       "      <td>NaN</td>\n",
       "    </tr>\n",
       "    <tr>\n",
       "      <th>75%</th>\n",
       "      <td>7.300000e+00</td>\n",
       "      <td>626.000000</td>\n",
       "      <td>2014.250000</td>\n",
       "      <td>6.450000</td>\n",
       "      <td>2014.250000</td>\n",
       "      <td>NaN</td>\n",
       "      <td>NaN</td>\n",
       "      <td>NaN</td>\n",
       "      <td>2017.0</td>\n",
       "      <td>NaN</td>\n",
       "      <td>NaN</td>\n",
       "      <td>NaN</td>\n",
       "      <td>NaN</td>\n",
       "      <td>NaN</td>\n",
       "      <td>NaN</td>\n",
       "      <td>NaN</td>\n",
       "      <td>NaN</td>\n",
       "      <td>NaN</td>\n",
       "      <td>NaN</td>\n",
       "      <td>NaN</td>\n",
       "      <td>NaN</td>\n",
       "      <td>NaN</td>\n",
       "      <td>NaN</td>\n",
       "      <td>NaN</td>\n",
       "      <td>NaN</td>\n",
       "      <td>NaN</td>\n",
       "      <td>NaN</td>\n",
       "      <td>NaN</td>\n",
       "      <td>NaN</td>\n",
       "      <td>NaN</td>\n",
       "      <td>NaN</td>\n",
       "      <td>NaN</td>\n",
       "      <td>NaN</td>\n",
       "      <td>NaN</td>\n",
       "      <td>NaN</td>\n",
       "      <td>NaN</td>\n",
       "      <td>NaN</td>\n",
       "      <td>NaN</td>\n",
       "      <td>NaN</td>\n",
       "      <td>NaN</td>\n",
       "      <td>NaN</td>\n",
       "      <td>NaN</td>\n",
       "    </tr>\n",
       "    <tr>\n",
       "      <th>max</th>\n",
       "      <td>7.300000e+00</td>\n",
       "      <td>894.000000</td>\n",
       "      <td>2019.000000</td>\n",
       "      <td>32.570000</td>\n",
       "      <td>2019.000000</td>\n",
       "      <td>NaN</td>\n",
       "      <td>NaN</td>\n",
       "      <td>NaN</td>\n",
       "      <td>2017.0</td>\n",
       "      <td>NaN</td>\n",
       "      <td>NaN</td>\n",
       "      <td>NaN</td>\n",
       "      <td>NaN</td>\n",
       "      <td>NaN</td>\n",
       "      <td>NaN</td>\n",
       "      <td>NaN</td>\n",
       "      <td>NaN</td>\n",
       "      <td>NaN</td>\n",
       "      <td>NaN</td>\n",
       "      <td>NaN</td>\n",
       "      <td>NaN</td>\n",
       "      <td>NaN</td>\n",
       "      <td>NaN</td>\n",
       "      <td>NaN</td>\n",
       "      <td>NaN</td>\n",
       "      <td>NaN</td>\n",
       "      <td>NaN</td>\n",
       "      <td>NaN</td>\n",
       "      <td>NaN</td>\n",
       "      <td>NaN</td>\n",
       "      <td>NaN</td>\n",
       "      <td>NaN</td>\n",
       "      <td>NaN</td>\n",
       "      <td>NaN</td>\n",
       "      <td>NaN</td>\n",
       "      <td>NaN</td>\n",
       "      <td>NaN</td>\n",
       "      <td>NaN</td>\n",
       "      <td>NaN</td>\n",
       "      <td>NaN</td>\n",
       "      <td>NaN</td>\n",
       "      <td>NaN</td>\n",
       "    </tr>\n",
       "  </tbody>\n",
       "</table>\n",
       "</div>"
      ],
      "text/plain": [
       "             Target  GeoAreaCode   TimePeriod        Value  Time_Detail  \\\n",
       "count  5.480000e+03  5480.000000  5480.000000  4741.000000  5480.000000   \n",
       "mean   7.300000e+00   400.321168  2009.500000     5.577404  2009.500000   \n",
       "std    8.882595e-16   264.628035     5.766807     3.521451     5.766807   \n",
       "min    7.300000e+00     1.000000  2000.000000     0.110000  2000.000000   \n",
       "25%    7.300000e+00   154.000000  2004.750000     3.390000  2004.750000   \n",
       "50%    7.300000e+00   409.000000  2009.500000     4.680000  2009.500000   \n",
       "75%    7.300000e+00   626.000000  2014.250000     6.450000  2014.250000   \n",
       "max    7.300000e+00   894.000000  2019.000000    32.570000  2019.000000   \n",
       "\n",
       "       TimeCoverage  UpperBound  LowerBound  BasePeriod  GeoInfoUrl  \\\n",
       "count           0.0         0.0         0.0      5480.0         0.0   \n",
       "mean            NaN         NaN         NaN      2017.0         NaN   \n",
       "std             NaN         NaN         NaN         0.0         NaN   \n",
       "min             NaN         NaN         NaN      2017.0         NaN   \n",
       "25%             NaN         NaN         NaN      2017.0         NaN   \n",
       "50%             NaN         NaN         NaN      2017.0         NaN   \n",
       "75%             NaN         NaN         NaN      2017.0         NaN   \n",
       "max             NaN         NaN         NaN      2017.0         NaN   \n",
       "\n",
       "       Unnamed: 20  Unnamed: 21  Unnamed: 22  Unnamed: 23  Unnamed: 24  \\\n",
       "count          0.0          0.0          0.0          0.0          0.0   \n",
       "mean           NaN          NaN          NaN          NaN          NaN   \n",
       "std            NaN          NaN          NaN          NaN          NaN   \n",
       "min            NaN          NaN          NaN          NaN          NaN   \n",
       "25%            NaN          NaN          NaN          NaN          NaN   \n",
       "50%            NaN          NaN          NaN          NaN          NaN   \n",
       "75%            NaN          NaN          NaN          NaN          NaN   \n",
       "max            NaN          NaN          NaN          NaN          NaN   \n",
       "\n",
       "       Unnamed: 25  Unnamed: 26  Unnamed: 27  Unnamed: 28  Unnamed: 29  \\\n",
       "count          0.0          0.0          0.0          0.0          0.0   \n",
       "mean           NaN          NaN          NaN          NaN          NaN   \n",
       "std            NaN          NaN          NaN          NaN          NaN   \n",
       "min            NaN          NaN          NaN          NaN          NaN   \n",
       "25%            NaN          NaN          NaN          NaN          NaN   \n",
       "50%            NaN          NaN          NaN          NaN          NaN   \n",
       "75%            NaN          NaN          NaN          NaN          NaN   \n",
       "max            NaN          NaN          NaN          NaN          NaN   \n",
       "\n",
       "       Unnamed: 30  Unnamed: 31  Unnamed: 32  Unnamed: 33  Unnamed: 34  \\\n",
       "count          0.0          0.0          0.0          0.0          0.0   \n",
       "mean           NaN          NaN          NaN          NaN          NaN   \n",
       "std            NaN          NaN          NaN          NaN          NaN   \n",
       "min            NaN          NaN          NaN          NaN          NaN   \n",
       "25%            NaN          NaN          NaN          NaN          NaN   \n",
       "50%            NaN          NaN          NaN          NaN          NaN   \n",
       "75%            NaN          NaN          NaN          NaN          NaN   \n",
       "max            NaN          NaN          NaN          NaN          NaN   \n",
       "\n",
       "       Unnamed: 35  Unnamed: 36  Unnamed: 37  Unnamed: 38  Unnamed: 39  \\\n",
       "count          0.0          0.0          0.0          0.0          0.0   \n",
       "mean           NaN          NaN          NaN          NaN          NaN   \n",
       "std            NaN          NaN          NaN          NaN          NaN   \n",
       "min            NaN          NaN          NaN          NaN          NaN   \n",
       "25%            NaN          NaN          NaN          NaN          NaN   \n",
       "50%            NaN          NaN          NaN          NaN          NaN   \n",
       "75%            NaN          NaN          NaN          NaN          NaN   \n",
       "max            NaN          NaN          NaN          NaN          NaN   \n",
       "\n",
       "       Unnamed: 40  Unnamed: 41  Unnamed: 42  Unnamed: 43  Unnamed: 44  \\\n",
       "count          0.0          0.0          0.0          0.0          0.0   \n",
       "mean           NaN          NaN          NaN          NaN          NaN   \n",
       "std            NaN          NaN          NaN          NaN          NaN   \n",
       "min            NaN          NaN          NaN          NaN          NaN   \n",
       "25%            NaN          NaN          NaN          NaN          NaN   \n",
       "50%            NaN          NaN          NaN          NaN          NaN   \n",
       "75%            NaN          NaN          NaN          NaN          NaN   \n",
       "max            NaN          NaN          NaN          NaN          NaN   \n",
       "\n",
       "       Unnamed: 45  Unnamed: 46  Unnamed: 47  Unnamed: 48  Unnamed: 49  \\\n",
       "count          0.0          0.0          0.0          0.0          0.0   \n",
       "mean           NaN          NaN          NaN          NaN          NaN   \n",
       "std            NaN          NaN          NaN          NaN          NaN   \n",
       "min            NaN          NaN          NaN          NaN          NaN   \n",
       "25%            NaN          NaN          NaN          NaN          NaN   \n",
       "50%            NaN          NaN          NaN          NaN          NaN   \n",
       "75%            NaN          NaN          NaN          NaN          NaN   \n",
       "max            NaN          NaN          NaN          NaN          NaN   \n",
       "\n",
       "       Unnamed: 50  Unnamed: 51  \n",
       "count          0.0          0.0  \n",
       "mean           NaN          NaN  \n",
       "std            NaN          NaN  \n",
       "min            NaN          NaN  \n",
       "25%            NaN          NaN  \n",
       "50%            NaN          NaN  \n",
       "75%            NaN          NaN  \n",
       "max            NaN          NaN  "
      ]
     },
     "execution_count": 26,
     "metadata": {},
     "output_type": "execute_result"
    }
   ],
   "source": [
    "df.describe()"
   ]
  },
  {
   "cell_type": "markdown",
   "metadata": {},
   "source": [
    "Según esta descripción también habría que borrar las columnas TimeCoverage, UpperBound, LowerBound y GeoInfoUrl\n"
   ]
  },
  {
   "cell_type": "markdown",
   "metadata": {},
   "source": [
    "Analizar datos columna por columna"
   ]
  },
  {
   "cell_type": "code",
   "execution_count": 29,
   "metadata": {},
   "outputs": [
    {
     "data": {
      "text/plain": [
       "E    5480\n",
       "Name: Nature, dtype: int64"
      ]
     },
     "execution_count": 29,
     "metadata": {},
     "output_type": "execute_result"
    }
   ],
   "source": [
    "df['Nature'].value_counts()"
   ]
  },
  {
   "cell_type": "code",
   "execution_count": 30,
   "metadata": {},
   "outputs": [
    {
     "data": {
      "text/plain": [
       "G    5480\n",
       "Name: Reporting Type, dtype: int64"
      ]
     },
     "execution_count": 30,
     "metadata": {},
     "output_type": "execute_result"
    }
   ],
   "source": [
    "df['Reporting Type'].value_counts()"
   ]
  },
  {
   "cell_type": "code",
   "execution_count": 31,
   "metadata": {},
   "outputs": [
    {
     "data": {
      "text/plain": [
       "MJ_PER_GDP_CON_PPP_USD    5480\n",
       "Name: Units, dtype: int64"
      ]
     },
     "execution_count": 31,
     "metadata": {},
     "output_type": "execute_result"
    }
   ],
   "source": [
    "df['Units'].value_counts()"
   ]
  },
  {
   "cell_type": "code",
   "execution_count": 41,
   "metadata": {},
   "outputs": [
    {
     "data": {
      "text/plain": [
       "EG_EGY_PRIM    5480\n",
       "Name: SeriesCode, dtype: int64"
      ]
     },
     "execution_count": 41,
     "metadata": {},
     "output_type": "execute_result"
    }
   ],
   "source": [
    "df['SeriesCode'].value_counts()"
   ]
  },
  {
   "cell_type": "code",
   "execution_count": 40,
   "metadata": {},
   "outputs": [
    {
     "data": {
      "text/plain": [
       "Energy intensity level of primary energy (megajoules per constant 2017 purchasing power parity GDP)    5480\n",
       "Name: SeriesDescription, dtype: int64"
      ]
     },
     "execution_count": 40,
     "metadata": {},
     "output_type": "execute_result"
    }
   ],
   "source": [
    "df['SeriesDescription'].value_counts()"
   ]
  },
  {
   "cell_type": "code",
   "execution_count": 44,
   "metadata": {},
   "outputs": [
    {
     "data": {
      "text/plain": [
       "7.3    5480\n",
       "Name: Target, dtype: int64"
      ]
     },
     "execution_count": 44,
     "metadata": {},
     "output_type": "execute_result"
    }
   ],
   "source": [
    "df['Target'].value_counts()"
   ]
  },
  {
   "cell_type": "code",
   "execution_count": 46,
   "metadata": {},
   "outputs": [
    {
     "data": {
      "text/plain": [
       "array(['7.3.1'], dtype=object)"
      ]
     },
     "execution_count": 46,
     "metadata": {},
     "output_type": "execute_result"
    }
   ],
   "source": [
    "df['Indicator'].unique()"
   ]
  },
  {
   "cell_type": "markdown",
   "metadata": {},
   "source": [
    "Estas seis columnas ('Nature', 'Reporting Type', 'Units', 'SeriesCode', 'SeriesDescription', 'Target' e 'Indicator') tienen el mismo tipo de dato en todas las filas, por lo que se podría evaluar borrarlas."
   ]
  },
  {
   "cell_type": "code",
   "execution_count": 50,
   "metadata": {},
   "outputs": [
    {
     "data": {
      "text/plain": [
       "array(['IEA (2021), World Energy Balances; Energy Balances, UN Statistics Division (2021)',\n",
       "       'Energy Balances, UN Statistics Division (2021)',\n",
       "       'IEA (2021), World Energy Balances'], dtype=object)"
      ]
     },
     "execution_count": 50,
     "metadata": {},
     "output_type": "execute_result"
    }
   ],
   "source": [
    "df['Source'].unique()"
   ]
  },
  {
   "cell_type": "code",
   "execution_count": 35,
   "metadata": {},
   "outputs": [
    {
     "data": {
      "text/plain": [
       "array([  1,   2,   4,   5,   8,   9,  11,  12,  13,  14,  15,  16,  17,\n",
       "        18,  19,  20,  21,  24,  28,  29,  30,  31,  32,  34,  35,  36,\n",
       "        39,  40,  44,  48,  50,  51,  52,  53,  54,  56,  57,  60,  61,\n",
       "        62,  64,  68,  70,  72,  76,  84,  90,  92,  96, 100, 104, 108,\n",
       "       112, 116, 120, 124, 132, 135, 136, 140, 142, 143, 144, 145, 148,\n",
       "       150, 151, 152, 154, 155, 156, 170, 174, 175, 178, 180, 184, 188,\n",
       "       191, 192, 196, 199, 202, 203, 204, 208, 212, 214, 218, 222, 226,\n",
       "       231, 232, 233, 234, 238, 242, 246, 250, 254, 258, 262, 266, 268,\n",
       "       270, 275, 276, 288, 292, 296, 300, 304, 308, 312, 316, 320, 324,\n",
       "       328, 332, 340, 344, 348, 352, 356, 360, 364, 368, 372, 376, 380,\n",
       "       384, 388, 392, 398, 400, 404, 408, 410, 412, 414, 417, 418, 419,\n",
       "       422, 426, 428, 430, 432, 434, 438, 440, 442, 446, 450, 454, 458,\n",
       "       462, 466, 470, 474, 478, 480, 484, 485, 496, 498, 499, 500, 504,\n",
       "       508, 512, 513, 514, 515, 516, 518, 520, 524, 528, 531, 533, 534,\n",
       "       535, 540, 543, 548, 554, 558, 562, 566, 570, 578, 580, 583, 584,\n",
       "       585, 586, 591, 598, 600, 604, 608, 616, 620, 624, 626, 630, 634,\n",
       "       638, 642, 643, 646, 654, 659, 660, 662, 666, 670, 678, 682, 686,\n",
       "       688, 690, 694, 702, 703, 704, 705, 706, 710, 716, 722, 724, 728,\n",
       "       729, 738, 740, 746, 747, 748, 752, 753, 756, 760, 762, 764, 768,\n",
       "       776, 780, 784, 788, 792, 795, 796, 798, 800, 804, 807, 818, 826,\n",
       "       831, 832, 833, 834, 840, 850, 854, 858, 860, 862, 876, 882, 887,\n",
       "       894], dtype=int64)"
      ]
     },
     "execution_count": 35,
     "metadata": {},
     "output_type": "execute_result"
    }
   ],
   "source": [
    "df['GeoAreaCode'].unique()"
   ]
  },
  {
   "cell_type": "code",
   "execution_count": 52,
   "metadata": {},
   "outputs": [
    {
     "data": {
      "text/plain": [
       "array(['World', 'Africa', 'Afghanistan', 'South America', 'Albania',\n",
       "       'Oceania', 'Western Africa', 'Algeria', 'Central America',\n",
       "       'Eastern Africa', 'Northern Africa', 'American Samoa',\n",
       "       'Middle Africa', 'Southern Africa', 'Americas', 'Andorra',\n",
       "       'Northern America', 'Angola', 'Antigua and Barbuda', 'Caribbean',\n",
       "       'Eastern Asia', 'Azerbaijan', 'Argentina', 'Southern Asia',\n",
       "       'South-Eastern Asia', 'Australia', 'Southern Europe', 'Austria',\n",
       "       'Bahamas', 'Bahrain', 'Bangladesh', 'Armenia', 'Barbados',\n",
       "       'Australia and New Zealand', 'Melanesia', 'Belgium', 'Micronesia',\n",
       "       'Bermuda', 'Polynesia', 'Central and Southern Asia', 'Bhutan',\n",
       "       'Bolivia (Plurinational State of)', 'Bosnia and Herzegovina',\n",
       "       'Botswana', 'Brazil', 'Belize', 'Solomon Islands',\n",
       "       'British Virgin Islands', 'Brunei Darussalam', 'Bulgaria',\n",
       "       'Myanmar', 'Burundi', 'Belarus', 'Cambodia', 'Cameroon', 'Canada',\n",
       "       'Cabo Verde', 'Caucasus and Central Asia', 'Cayman Islands',\n",
       "       'Central African Republic', 'Asia', 'Central Asia', 'Sri Lanka',\n",
       "       'Western Asia', 'Chad', 'Europe', 'Eastern Europe', 'Chile',\n",
       "       'Northern Europe', 'Western Europe', 'China', 'Colombia',\n",
       "       'Comoros', 'Mayotte', 'Congo', 'Democratic Republic of the Congo',\n",
       "       'Cook Islands', 'Costa Rica', 'Croatia', 'Cuba', 'Cyprus',\n",
       "       'Least Developed Countries (LDCs)', 'Sub-Saharan Africa',\n",
       "       'Czechia', 'Benin', 'Denmark', 'Dominica', 'Dominican Republic',\n",
       "       'Ecuador', 'El Salvador', 'Equatorial Guinea', 'Ethiopia',\n",
       "       'Eritrea', 'Estonia', 'Faroe Islands',\n",
       "       'Falkland Islands (Malvinas)', 'Fiji', 'Finland', 'France',\n",
       "       'French Guiana', 'French Polynesia', 'Djibouti', 'Gabon',\n",
       "       'Georgia', 'Gambia', 'State of Palestine', 'Germany', 'Ghana',\n",
       "       'Gibraltar', 'Kiribati', 'Greece', 'Greenland', 'Grenada',\n",
       "       'Guadeloupe', 'Guam', 'Guatemala', 'Guinea', 'Guyana', 'Haiti',\n",
       "       'Honduras', 'China, Hong Kong Special Administrative Region',\n",
       "       'Hungary', 'Iceland', 'India', 'Indonesia',\n",
       "       'Iran (Islamic Republic of)', 'Iraq', 'Ireland', 'Israel', 'Italy',\n",
       "       \"Côte d'Ivoire\", 'Jamaica', 'Japan', 'Kazakhstan', 'Jordan',\n",
       "       'Kenya', \"Democratic People's Republic of Korea\",\n",
       "       'Republic of Korea', 'Kosovo', 'Kuwait', 'Kyrgyzstan',\n",
       "       \"Lao People's Democratic Republic\",\n",
       "       'Latin America and the Caribbean', 'Lebanon', 'Lesotho', 'Latvia',\n",
       "       'Liberia', 'Landlocked developing countries (LLDCs)', 'Libya',\n",
       "       'Liechtenstein', 'Lithuania', 'Luxembourg',\n",
       "       'China, Macao Special Administrative Region', 'Madagascar',\n",
       "       'Malawi', 'Malaysia', 'Maldives', 'Mali', 'Malta', 'Martinique',\n",
       "       'Mauritania', 'Mauritius', 'Mexico',\n",
       "       'Western Asia (exc. Armenia, Azerbaijan, Cyprus, Israel and Georgia)',\n",
       "       'Mongolia', 'Republic of Moldova', 'Montenegro', 'Montserrat',\n",
       "       'Morocco', 'Mozambique', 'Oman', 'Europe and Northern America',\n",
       "       'Developed regions (Europe, Cyprus, Israel, Northern America, Japan, Australia & New Zealand)',\n",
       "       'Developing regions', 'Namibia', 'Eastern Asia (excluding Japan)',\n",
       "       'Nauru', 'Nepal', 'Netherlands', 'Curaçao', 'Aruba',\n",
       "       'Sint Maarten (Dutch part)', 'Bonaire, Sint Eustatius and Saba',\n",
       "       'New Caledonia', 'Oceania (exc. Australia and New Zealand)',\n",
       "       'Vanuatu', 'New Zealand', 'Nicaragua', 'Niger', 'Nigeria', 'Niue',\n",
       "       'Norway', 'Northern Mariana Islands',\n",
       "       'Micronesia (Federated States of)', 'Marshall Islands', 'Palau',\n",
       "       'Pakistan', 'Panama', 'Papua New Guinea', 'Paraguay', 'Peru',\n",
       "       'Philippines', 'Poland', 'Portugal', 'Guinea-Bissau',\n",
       "       'Timor-Leste', 'Puerto Rico', 'Qatar', 'Réunion', 'Romania',\n",
       "       'Russian Federation', 'Rwanda', 'Saint Helena',\n",
       "       'Saint Kitts and Nevis', 'Anguilla', 'Saint Lucia',\n",
       "       'Saint Pierre and Miquelon', 'Saint Vincent and the Grenadines',\n",
       "       'Sao Tome and Principe', 'Saudi Arabia', 'Senegal', 'Serbia',\n",
       "       'Seychelles', 'Sierra Leone', 'Singapore', 'Slovakia', 'Viet Nam',\n",
       "       'Slovenia', 'Somalia', 'South Africa', 'Zimbabwe',\n",
       "       'Small island developing States (SIDS)', 'Spain', 'South Sudan',\n",
       "       'Sudan', 'Sub-Saharan Africa (inc. Sudan)', 'Suriname',\n",
       "       'Northern Africa (exc. Sudan)', 'Northern Africa and Western Asia',\n",
       "       'Eswatini', 'Sweden', 'Eastern and South-Eastern Asia',\n",
       "       'Switzerland', 'Syrian Arab Republic', 'Tajikistan', 'Thailand',\n",
       "       'Togo', 'Tonga', 'Trinidad and Tobago', 'United Arab Emirates',\n",
       "       'Tunisia', 'Türkiye', 'Turkmenistan', 'Turks and Caicos Islands',\n",
       "       'Tuvalu', 'Uganda', 'Ukraine', 'North Macedonia', 'Egypt',\n",
       "       'United Kingdom of Great Britain and Northern Ireland', 'Guernsey',\n",
       "       'Jersey', 'Isle of Man', 'United Republic of Tanzania',\n",
       "       'United States of America', 'United States Virgin Islands',\n",
       "       'Burkina Faso', 'Uruguay', 'Uzbekistan',\n",
       "       'Venezuela (Bolivarian Republic of)', 'Wallis and Futuna Islands',\n",
       "       'Samoa', 'Yemen', 'Zambia'], dtype=object)"
      ]
     },
     "execution_count": 52,
     "metadata": {},
     "output_type": "execute_result"
    }
   ],
   "source": [
    "df['GeoAreaName'].unique()"
   ]
  },
  {
   "cell_type": "code",
   "execution_count": 39,
   "metadata": {},
   "outputs": [
    {
     "data": {
      "text/plain": [
       "array([ 6.16,  6.08,  6.04, ..., 11.81, 11.29, 10.81])"
      ]
     },
     "execution_count": 39,
     "metadata": {},
     "output_type": "execute_result"
    }
   ],
   "source": [
    "df['Value'].unique()"
   ]
  },
  {
   "cell_type": "code",
   "execution_count": 36,
   "metadata": {},
   "outputs": [
    {
     "data": {
      "text/plain": [
       "array([2000, 2001, 2002, 2003, 2004, 2005, 2006, 2007, 2008, 2009, 2010,\n",
       "       2011, 2012, 2013, 2014, 2015, 2016, 2017, 2018, 2019], dtype=int64)"
      ]
     },
     "execution_count": 36,
     "metadata": {},
     "output_type": "execute_result"
    }
   ],
   "source": [
    "df['TimePeriod'].unique()"
   ]
  },
  {
   "cell_type": "code",
   "execution_count": 37,
   "metadata": {},
   "outputs": [
    {
     "data": {
      "text/plain": [
       "array([2000, 2001, 2002, 2003, 2004, 2005, 2006, 2007, 2008, 2009, 2010,\n",
       "       2011, 2012, 2013, 2014, 2015, 2016, 2017, 2018, 2019], dtype=int64)"
      ]
     },
     "execution_count": 37,
     "metadata": {},
     "output_type": "execute_result"
    }
   ],
   "source": [
    "df['Time_Detail'].unique()"
   ]
  },
  {
   "cell_type": "code",
   "execution_count": 38,
   "metadata": {},
   "outputs": [
    {
     "data": {
      "text/plain": [
       "array([2017], dtype=int64)"
      ]
     },
     "execution_count": 38,
     "metadata": {},
     "output_type": "execute_result"
    }
   ],
   "source": [
    "df['BasePeriod'].unique()"
   ]
  },
  {
   "cell_type": "markdown",
   "metadata": {},
   "source": [
    "Los periodos de tiempo 'TimePeriod' y 'Time_Detail' van ambos desde el 2000 al 2019, pero 'BasePeriod' solamente el 2017, por lo que habría que evaluar si conviene dejar o no esta ultima columna."
   ]
  },
  {
   "cell_type": "markdown",
   "metadata": {},
   "source": [
    "Antes de seguir con la exploración, genero un subdataset con las columnas que considero que deberían quedar"
   ]
  },
  {
   "cell_type": "code",
   "execution_count": 53,
   "metadata": {},
   "outputs": [
    {
     "data": {
      "text/html": [
       "<div>\n",
       "<style scoped>\n",
       "    .dataframe tbody tr th:only-of-type {\n",
       "        vertical-align: middle;\n",
       "    }\n",
       "\n",
       "    .dataframe tbody tr th {\n",
       "        vertical-align: top;\n",
       "    }\n",
       "\n",
       "    .dataframe thead th {\n",
       "        text-align: right;\n",
       "    }\n",
       "</style>\n",
       "<table border=\"1\" class=\"dataframe\">\n",
       "  <thead>\n",
       "    <tr style=\"text-align: right;\">\n",
       "      <th></th>\n",
       "      <th>GeoAreaCode</th>\n",
       "      <th>GeoAreaName</th>\n",
       "      <th>Source</th>\n",
       "      <th>Value</th>\n",
       "      <th>TimePeriod</th>\n",
       "      <th>Time_Detail</th>\n",
       "    </tr>\n",
       "    <tr>\n",
       "      <th>Goal</th>\n",
       "      <th></th>\n",
       "      <th></th>\n",
       "      <th></th>\n",
       "      <th></th>\n",
       "      <th></th>\n",
       "      <th></th>\n",
       "    </tr>\n",
       "  </thead>\n",
       "  <tbody>\n",
       "    <tr>\n",
       "      <th>7</th>\n",
       "      <td>1</td>\n",
       "      <td>World</td>\n",
       "      <td>IEA (2021), World Energy Balances; Energy Bala...</td>\n",
       "      <td>6.16</td>\n",
       "      <td>2000</td>\n",
       "      <td>2000</td>\n",
       "    </tr>\n",
       "    <tr>\n",
       "      <th>7</th>\n",
       "      <td>1</td>\n",
       "      <td>World</td>\n",
       "      <td>IEA (2021), World Energy Balances; Energy Bala...</td>\n",
       "      <td>6.08</td>\n",
       "      <td>2001</td>\n",
       "      <td>2001</td>\n",
       "    </tr>\n",
       "    <tr>\n",
       "      <th>7</th>\n",
       "      <td>1</td>\n",
       "      <td>World</td>\n",
       "      <td>IEA (2021), World Energy Balances; Energy Bala...</td>\n",
       "      <td>6.04</td>\n",
       "      <td>2002</td>\n",
       "      <td>2002</td>\n",
       "    </tr>\n",
       "    <tr>\n",
       "      <th>7</th>\n",
       "      <td>1</td>\n",
       "      <td>World</td>\n",
       "      <td>IEA (2021), World Energy Balances; Energy Bala...</td>\n",
       "      <td>6.03</td>\n",
       "      <td>2003</td>\n",
       "      <td>2003</td>\n",
       "    </tr>\n",
       "    <tr>\n",
       "      <th>7</th>\n",
       "      <td>1</td>\n",
       "      <td>World</td>\n",
       "      <td>IEA (2021), World Energy Balances; Energy Bala...</td>\n",
       "      <td>6.00</td>\n",
       "      <td>2004</td>\n",
       "      <td>2004</td>\n",
       "    </tr>\n",
       "  </tbody>\n",
       "</table>\n",
       "</div>"
      ],
      "text/plain": [
       "      GeoAreaCode GeoAreaName  \\\n",
       "Goal                            \n",
       "7               1       World   \n",
       "7               1       World   \n",
       "7               1       World   \n",
       "7               1       World   \n",
       "7               1       World   \n",
       "\n",
       "                                                 Source  Value  TimePeriod  \\\n",
       "Goal                                                                         \n",
       "7     IEA (2021), World Energy Balances; Energy Bala...   6.16        2000   \n",
       "7     IEA (2021), World Energy Balances; Energy Bala...   6.08        2001   \n",
       "7     IEA (2021), World Energy Balances; Energy Bala...   6.04        2002   \n",
       "7     IEA (2021), World Energy Balances; Energy Bala...   6.03        2003   \n",
       "7     IEA (2021), World Energy Balances; Energy Bala...   6.00        2004   \n",
       "\n",
       "      Time_Detail  \n",
       "Goal               \n",
       "7            2000  \n",
       "7            2001  \n",
       "7            2002  \n",
       "7            2003  \n",
       "7            2004  "
      ]
     },
     "execution_count": 53,
     "metadata": {},
     "output_type": "execute_result"
    }
   ],
   "source": [
    "dff = df.filter(items=['GeoAreaCode','GeoAreaName','Source','Value','TimePeriod','Time_Detail'])\n",
    "dff.head()"
   ]
  },
  {
   "cell_type": "markdown",
   "metadata": {},
   "source": [
    "Con respecto a las columnas 'GeoAreaName' y asociada a ella 'GeoAreaCode', habría que seleccionar las filas que sean países de Latinoamerica solamente."
   ]
  },
  {
   "cell_type": "markdown",
   "metadata": {},
   "source": [
    "Busco nulos"
   ]
  },
  {
   "cell_type": "code",
   "execution_count": 54,
   "metadata": {},
   "outputs": [
    {
     "data": {
      "text/plain": [
       "GeoAreaCode      0\n",
       "GeoAreaName      0\n",
       "Source           0\n",
       "Value          739\n",
       "TimePeriod       0\n",
       "Time_Detail      0\n",
       "dtype: int64"
      ]
     },
     "execution_count": 54,
     "metadata": {},
     "output_type": "execute_result"
    }
   ],
   "source": [
    "dff.apply(lambda x: sum(x.isnull()),axis=0)"
   ]
  },
  {
   "cell_type": "markdown",
   "metadata": {},
   "source": [
    "Solo en 'Value' aparecen nulos, son 739 nulos en 5480 filas. Antes que nada, habría que ver si al filtrar por países de Latinoamerica los nulos quedan o no."
   ]
  },
  {
   "cell_type": "markdown",
   "metadata": {},
   "source": [
    "Habría que pasar a datetime TimePeriod y Time_Detail."
   ]
  },
  {
   "cell_type": "code",
   "execution_count": 55,
   "metadata": {},
   "outputs": [
    {
     "data": {
      "text/plain": [
       "<AxesSubplot:>"
      ]
     },
     "execution_count": 55,
     "metadata": {},
     "output_type": "execute_result"
    },
    {
     "data": {
      "image/png": "[encoded data removed]",
      "text/plain": [
       "<Figure size 432x288 with 1 Axes>"
      ]
     },
     "metadata": {
      "needs_background": "light"
     },
     "output_type": "display_data"
    }
   ],
   "source": [
    "dff['Value'].hist(bins=25)"
   ]
  },
  {
   "cell_type": "markdown",
   "metadata": {},
   "source": [
    "Se puede ver que la mayoría de los datos están concentrados entre el 4 y el 5 y menos cantidad entre 0 y 15. Los pocos datos en 20 0 25 podrían ser outliers a analizar."
   ]
  },
  {
   "cell_type": "code",
   "execution_count": 56,
   "metadata": {},
   "outputs": [
    {
     "name": "stdout",
     "output_type": "stream",
     "text": [
      "AxesSubplot(0.125,0.125;0.775x0.755)\n"
     ]
    },
    {
     "data": {
      "image/png": "[encoded data removed]",
      "text/plain": [
       "<Figure size 432x288 with 1 Axes>"
      ]
     },
     "metadata": {
      "needs_background": "light"
     },
     "output_type": "display_data"
    }
   ],
   "source": [
    "print(dff.boxplot(column='Value'))"
   ]
  },
  {
   "cell_type": "code",
   "execution_count": 57,
   "metadata": {},
   "outputs": [
    {
     "data": {
      "text/plain": [
       "<AxesSubplot:xlabel='Value'>"
      ]
     },
     "execution_count": 57,
     "metadata": {},
     "output_type": "execute_result"
    },
    {
     "data": {
      "image/png": "[encoded data removed]",
      "text/plain": [
       "<Figure size 432x288 with 1 Axes>"
      ]
     },
     "metadata": {
      "needs_background": "light"
     },
     "output_type": "display_data"
    }
   ],
   "source": [
    "sns.boxplot(x=dff['Value'])"
   ]
  },
  {
   "cell_type": "code",
   "execution_count": 59,
   "metadata": {},
   "outputs": [
    {
     "name": "stderr",
     "output_type": "stream",
     "text": [
      "c:\\Users\\AliPC\\AppData\\Local\\Programs\\Python\\Python310\\lib\\site-packages\\seaborn\\_decorators.py:36: FutureWarning: Pass the following variable as a keyword arg: x. From version 0.12, the only valid positional argument will be `data`, and passing other arguments without an explicit keyword will result in an error or misinterpretation.\n",
      "  warnings.warn(\n"
     ]
    },
    {
     "data": {
      "text/plain": [
       "<AxesSubplot:xlabel='Value', ylabel='count'>"
      ]
     },
     "execution_count": 59,
     "metadata": {},
     "output_type": "execute_result"
    },
    {
     "data": {
      "image/png": "[encoded data removed]",
      "text/plain": [
       "<Figure size 432x288 with 1 Axes>"
      ]
     },
     "metadata": {
      "needs_background": "light"
     },
     "output_type": "display_data"
    }
   ],
   "source": [
    "sns.countplot(dff.Value)"
   ]
  }
 ],
 "metadata": {
  "kernelspec": {
   "display_name": "Python 3.10.4 64-bit",
   "language": "python",
   "name": "python3"
  },
  "language_info": {
   "codemirror_mode": {
    "name": "ipython",
    "version": 3
   },
   "file_extension": ".py",
   "mimetype": "text/x-python",
   "name": "python",
   "nbconvert_exporter": "python",
   "pygments_lexer": "ipython3",
   "version": "3.10.4"
  },
  "orig_nbformat": 4,
  "vscode": {
   "interpreter": {
    "hash": "4f32d63f9d9db13e564df6c5cb9e6c17ef77e8d0920b01224c6a637534aac612"
   }
  }
 },
 "nbformat": 4,
 "nbformat_minor": 2
}

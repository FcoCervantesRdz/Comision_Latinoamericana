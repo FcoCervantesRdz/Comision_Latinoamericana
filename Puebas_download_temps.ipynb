{
 "cells": [
  {
   "cell_type": "code",
   "execution_count": 2,
   "metadata": {},
   "outputs": [],
   "source": [
    "import pandas as pd\n",
    "import requests"
   ]
  },
  {
   "cell_type": "code",
   "execution_count": 3,
   "metadata": {},
   "outputs": [],
   "source": [
    "url = 'https://climateknowledgeportal.worldbank.org/cru/cru/timeseries/tas/annual/climatology/historical/country/'\n",
    "country_iso = 'ARG'\n",
    "page = requests.get(url+country_iso)"
   ]
  },
  {
   "cell_type": "code",
   "execution_count": 46,
   "metadata": {},
   "outputs": [
    {
     "data": {
      "text/plain": [
       "int"
      ]
     },
     "execution_count": 46,
     "metadata": {},
     "output_type": "execute_result"
    }
   ],
   "source": [
    "type(page.status_code)"
   ]
  },
  {
   "cell_type": "code",
   "execution_count": 39,
   "metadata": {},
   "outputs": [],
   "source": [
    "txt = 'year' + str(page.content)[2:].replace('\\\\n', '\\n').split('\\n', 1)[1][:-1]"
   ]
  },
  {
   "cell_type": "code",
   "execution_count": 40,
   "metadata": {},
   "outputs": [],
   "source": [
    "archivo = open('temporal.csv', 'w')\n",
    "archivo.write(txt)\n",
    "archivo.close()"
   ]
  },
  {
   "cell_type": "code",
   "execution_count": 41,
   "metadata": {},
   "outputs": [],
   "source": [
    "tabla = pd.read_csv('temporal.csv', index_col=0)"
   ]
  },
  {
   "cell_type": "code",
   "execution_count": 44,
   "metadata": {},
   "outputs": [
    {
     "data": {
      "text/plain": [
       "year\n",
       "1901    15.20\n",
       "1902    14.84\n",
       "1903    14.49\n",
       "1904    14.72\n",
       "1905    14.34\n",
       "        ...  \n",
       "2017    15.52\n",
       "2018    15.20\n",
       "2019    15.18\n",
       "2020    15.52\n",
       "2021    15.40\n",
       "Name: Argentina, Length: 121, dtype: float64"
      ]
     },
     "execution_count": 44,
     "metadata": {},
     "output_type": "execute_result"
    }
   ],
   "source": [
    "tabla[tabla.columns[0]]"
   ]
  },
  {
   "cell_type": "code",
   "execution_count": 3,
   "metadata": {},
   "outputs": [],
   "source": [
    "def get_table(iso_code):\n",
    "    url = 'https://climateknowledgeportal.worldbank.org/cru/cru/timeseries/tas/annual/climatology/historical/country/'\n",
    "    page = requests.get(url+iso_code)\n",
    "    if page.status_code == 200:\n",
    "        txt = 'year' + str(page.content)[2:].replace('\\\\n', '\\n').split('\\n', 1)[1][:-1]\n",
    "        archivo = open('temporal.csv', 'w')\n",
    "        archivo.write(txt)\n",
    "        archivo.close()\n",
    "        tabla = pd.read_csv('temporal.csv', index_col=0)\n",
    "        return tabla[tabla.columns[0]].rename(iso_code)\n",
    "    else:\n",
    "        print('No se encontró', iso_code)\n"
   ]
  },
  {
   "cell_type": "code",
   "execution_count": 4,
   "metadata": {},
   "outputs": [],
   "source": [
    "Series = []\n",
    "codes = ['ATG', 'ARG', 'BHS', 'BRB', 'BLZ', 'BOL', 'BRA', 'CHL', 'COL', 'CRI', 'CUB', 'DMA', 'ECU', 'SLV', 'GTM', 'GUY', 'HTI', 'HND', 'JAM', 'MEX', 'NIC', 'PAN', 'PRY', 'PER', 'DOM', 'KNA', 'VCT', 'LCA', 'SUR', 'TTO', 'URY', 'VEN']\n",
    "for code in codes:\n",
    "    Series.append(get_table(code))"
   ]
  },
  {
   "cell_type": "code",
   "execution_count": 11,
   "metadata": {},
   "outputs": [
    {
     "data": {
      "text/html": [
       "<div>\n",
       "<style scoped>\n",
       "    .dataframe tbody tr th:only-of-type {\n",
       "        vertical-align: middle;\n",
       "    }\n",
       "\n",
       "    .dataframe tbody tr th {\n",
       "        vertical-align: top;\n",
       "    }\n",
       "\n",
       "    .dataframe thead th {\n",
       "        text-align: right;\n",
       "    }\n",
       "</style>\n",
       "<table border=\"1\" class=\"dataframe\">\n",
       "  <thead>\n",
       "    <tr style=\"text-align: right;\">\n",
       "      <th></th>\n",
       "      <th>year</th>\n",
       "      <th>pais</th>\n",
       "      <th>codigo</th>\n",
       "    </tr>\n",
       "  </thead>\n",
       "  <tbody>\n",
       "    <tr>\n",
       "      <th>0</th>\n",
       "      <td>1901</td>\n",
       "      <td>26.23</td>\n",
       "      <td>ATG</td>\n",
       "    </tr>\n",
       "    <tr>\n",
       "      <th>1</th>\n",
       "      <td>1902</td>\n",
       "      <td>25.87</td>\n",
       "      <td>ATG</td>\n",
       "    </tr>\n",
       "    <tr>\n",
       "      <th>2</th>\n",
       "      <td>1903</td>\n",
       "      <td>25.98</td>\n",
       "      <td>ATG</td>\n",
       "    </tr>\n",
       "    <tr>\n",
       "      <th>3</th>\n",
       "      <td>1904</td>\n",
       "      <td>25.50</td>\n",
       "      <td>ATG</td>\n",
       "    </tr>\n",
       "    <tr>\n",
       "      <th>4</th>\n",
       "      <td>1905</td>\n",
       "      <td>25.83</td>\n",
       "      <td>ATG</td>\n",
       "    </tr>\n",
       "    <tr>\n",
       "      <th>...</th>\n",
       "      <td>...</td>\n",
       "      <td>...</td>\n",
       "      <td>...</td>\n",
       "    </tr>\n",
       "    <tr>\n",
       "      <th>116</th>\n",
       "      <td>2017</td>\n",
       "      <td>27.36</td>\n",
       "      <td>ATG</td>\n",
       "    </tr>\n",
       "    <tr>\n",
       "      <th>117</th>\n",
       "      <td>2018</td>\n",
       "      <td>27.03</td>\n",
       "      <td>ATG</td>\n",
       "    </tr>\n",
       "    <tr>\n",
       "      <th>118</th>\n",
       "      <td>2019</td>\n",
       "      <td>27.43</td>\n",
       "      <td>ATG</td>\n",
       "    </tr>\n",
       "    <tr>\n",
       "      <th>119</th>\n",
       "      <td>2020</td>\n",
       "      <td>27.44</td>\n",
       "      <td>ATG</td>\n",
       "    </tr>\n",
       "    <tr>\n",
       "      <th>120</th>\n",
       "      <td>2021</td>\n",
       "      <td>27.33</td>\n",
       "      <td>ATG</td>\n",
       "    </tr>\n",
       "  </tbody>\n",
       "</table>\n",
       "<p>121 rows × 3 columns</p>\n",
       "</div>"
      ],
      "text/plain": [
       "     year   pais codigo\n",
       "0    1901  26.23    ATG\n",
       "1    1902  25.87    ATG\n",
       "2    1903  25.98    ATG\n",
       "3    1904  25.50    ATG\n",
       "4    1905  25.83    ATG\n",
       "..    ...    ...    ...\n",
       "116  2017  27.36    ATG\n",
       "117  2018  27.03    ATG\n",
       "118  2019  27.43    ATG\n",
       "119  2020  27.44    ATG\n",
       "120  2021  27.33    ATG\n",
       "\n",
       "[121 rows x 3 columns]"
      ]
     },
     "execution_count": 11,
     "metadata": {},
     "output_type": "execute_result"
    }
   ],
   "source": [
    "serie = Series[0].copy()\n",
    "pais = serie.name\n",
    "serie = serie.reset_index()\n",
    "serie.rename(columns={pais: 'pais'}, inplace=True)\n",
    "serie['codigo'] = pais\n",
    "serie"
   ]
  },
  {
   "cell_type": "code",
   "execution_count": 12,
   "metadata": {},
   "outputs": [],
   "source": [
    "for i in range(len(Series)):\n",
    "    serie = Series[i].copy()\n",
    "    pais = serie.name\n",
    "    serie = serie.reset_index()\n",
    "    serie.rename(columns={pais: 'pais'}, inplace=True)\n",
    "    serie['codigo'] = pais\n",
    "    Series[i] = serie\n"
   ]
  },
  {
   "cell_type": "code",
   "execution_count": 13,
   "metadata": {},
   "outputs": [],
   "source": [
    "tabla = pd.concat(Series, axis = 0)"
   ]
  },
  {
   "cell_type": "code",
   "execution_count": 14,
   "metadata": {},
   "outputs": [
    {
     "data": {
      "text/html": [
       "<div>\n",
       "<style scoped>\n",
       "    .dataframe tbody tr th:only-of-type {\n",
       "        vertical-align: middle;\n",
       "    }\n",
       "\n",
       "    .dataframe tbody tr th {\n",
       "        vertical-align: top;\n",
       "    }\n",
       "\n",
       "    .dataframe thead th {\n",
       "        text-align: right;\n",
       "    }\n",
       "</style>\n",
       "<table border=\"1\" class=\"dataframe\">\n",
       "  <thead>\n",
       "    <tr style=\"text-align: right;\">\n",
       "      <th></th>\n",
       "      <th>year</th>\n",
       "      <th>pais</th>\n",
       "      <th>codigo</th>\n",
       "    </tr>\n",
       "  </thead>\n",
       "  <tbody>\n",
       "    <tr>\n",
       "      <th>0</th>\n",
       "      <td>1901</td>\n",
       "      <td>26.23</td>\n",
       "      <td>ATG</td>\n",
       "    </tr>\n",
       "    <tr>\n",
       "      <th>1</th>\n",
       "      <td>1902</td>\n",
       "      <td>25.87</td>\n",
       "      <td>ATG</td>\n",
       "    </tr>\n",
       "    <tr>\n",
       "      <th>2</th>\n",
       "      <td>1903</td>\n",
       "      <td>25.98</td>\n",
       "      <td>ATG</td>\n",
       "    </tr>\n",
       "    <tr>\n",
       "      <th>3</th>\n",
       "      <td>1904</td>\n",
       "      <td>25.50</td>\n",
       "      <td>ATG</td>\n",
       "    </tr>\n",
       "    <tr>\n",
       "      <th>4</th>\n",
       "      <td>1905</td>\n",
       "      <td>25.83</td>\n",
       "      <td>ATG</td>\n",
       "    </tr>\n",
       "    <tr>\n",
       "      <th>...</th>\n",
       "      <td>...</td>\n",
       "      <td>...</td>\n",
       "      <td>...</td>\n",
       "    </tr>\n",
       "    <tr>\n",
       "      <th>116</th>\n",
       "      <td>2017</td>\n",
       "      <td>25.88</td>\n",
       "      <td>VEN</td>\n",
       "    </tr>\n",
       "    <tr>\n",
       "      <th>117</th>\n",
       "      <td>2018</td>\n",
       "      <td>25.57</td>\n",
       "      <td>VEN</td>\n",
       "    </tr>\n",
       "    <tr>\n",
       "      <th>118</th>\n",
       "      <td>2019</td>\n",
       "      <td>25.87</td>\n",
       "      <td>VEN</td>\n",
       "    </tr>\n",
       "    <tr>\n",
       "      <th>119</th>\n",
       "      <td>2020</td>\n",
       "      <td>25.93</td>\n",
       "      <td>VEN</td>\n",
       "    </tr>\n",
       "    <tr>\n",
       "      <th>120</th>\n",
       "      <td>2021</td>\n",
       "      <td>25.61</td>\n",
       "      <td>VEN</td>\n",
       "    </tr>\n",
       "  </tbody>\n",
       "</table>\n",
       "<p>3872 rows × 3 columns</p>\n",
       "</div>"
      ],
      "text/plain": [
       "     year   pais codigo\n",
       "0    1901  26.23    ATG\n",
       "1    1902  25.87    ATG\n",
       "2    1903  25.98    ATG\n",
       "3    1904  25.50    ATG\n",
       "4    1905  25.83    ATG\n",
       "..    ...    ...    ...\n",
       "116  2017  25.88    VEN\n",
       "117  2018  25.57    VEN\n",
       "118  2019  25.87    VEN\n",
       "119  2020  25.93    VEN\n",
       "120  2021  25.61    VEN\n",
       "\n",
       "[3872 rows x 3 columns]"
      ]
     },
     "execution_count": 14,
     "metadata": {},
     "output_type": "execute_result"
    }
   ],
   "source": [
    "tabla"
   ]
  },
  {
   "cell_type": "code",
   "execution_count": 16,
   "metadata": {},
   "outputs": [],
   "source": [
    "tabla.to_csv('Temperatures.csv', index=False)"
   ]
  }
 ],
 "metadata": {
  "kernelspec": {
   "display_name": "Python 3.10.2 64-bit",
   "language": "python",
   "name": "python3"
  },
  "language_info": {
   "codemirror_mode": {
    "name": "ipython",
    "version": 3
   },
   "file_extension": ".py",
   "mimetype": "text/x-python",
   "name": "python",
   "nbconvert_exporter": "python",
   "pygments_lexer": "ipython3",
   "version": "3.10.2"
  },
  "orig_nbformat": 4,
  "vscode": {
   "interpreter": {
    "hash": "ed449d678b2c1eb2d054f3ecf73eb9588e3708dcf99ab7b6fdac6947a13ce72b"
   }
  }
 },
 "nbformat": 4,
 "nbformat_minor": 2
}

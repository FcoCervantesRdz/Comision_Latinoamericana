{
 "cells": [
  {
   "cell_type": "code",
   "execution_count": 1,
   "metadata": {},
   "outputs": [],
   "source": [
    "from google.cloud import bigquery\n",
    "from google.oauth2 import service_account\n",
    "import pandas as pd\n",
    "from sklearn.metrics import r2_score, mean_squared_error, mean_absolute_error\n",
    "from keras import layers, models, optimizers\n",
    "from sklearn.model_selection import train_test_split\n",
    "from tqdm.keras import TqdmCallback\n",
    "import plotly.graph_objects as go\n",
    "import numpy as np\n",
    "import tensorflow as tf\n",
    "from tqdm import tqdm"
   ]
  },
  {
   "cell_type": "code",
   "execution_count": 2,
   "metadata": {},
   "outputs": [],
   "source": [
    "def build_model_regression(lr_=0.05,  num_input_data=7, last_activation='relu'):\n",
    "    model = models.Sequential()\n",
    "    model.add(layers.Dense(32, activation='relu', input_shape=(num_input_data,)))\n",
    "    model.add(layers.Dense(32, activation='relu'))\n",
    "    model.add(layers.Dense(10, activation='relu'))\n",
    "    model.add(layers.Dense(1,  activation=last_activation)) # sigmoid\n",
    "    model.compile(optimizer = optimizers.RMSprop(learning_rate= lr_),\n",
    "                loss = 'mse',\n",
    "                metrics = 'mse')\n",
    "    return model\n",
    "\n",
    "def preparar_datos(time_series, window = 5):\n",
    "    time = time_series[time_series.columns[0]].values\n",
    "    values = time_series[time_series.columns[1]].values\n",
    "    X_list = []\n",
    "    Y_list = []\n",
    "    for i in range(len(time)-window):\n",
    "        X_i = values[i:i+window]\n",
    "        mean = np.array(X_i).mean()\n",
    "        std = np.array(X_i).std()\n",
    "        X_i = np.append(X_i, std)\n",
    "        X_i = np.append(X_i, mean)\n",
    "        X_list.append(X_i)\n",
    "        Y_list.append(values[i+window])\n",
    "    X = np.vstack(X_list)\n",
    "    Y = np.vstack(Y_list)\n",
    "    return X, Y"
   ]
  },
  {
   "cell_type": "code",
   "execution_count": 3,
   "metadata": {},
   "outputs": [],
   "source": [
    "credentials = service_account.Credentials.from_service_account_file('tidy-hold-359719-964ba4f0d1d8.json') #credenciales\n",
    "project_id = 'tidy-hold-359719' #nombre del proyecto\n",
    "client = bigquery.Client(credentials= credentials,project=project_id)\n",
    "query=\"\"\"SELECT * FROM `tidy-hold-359719.comision_latinoamericana.temperatura`\"\"\"\n",
    "temperatura = client.query(query).to_dataframe()\n",
    "query=\"\"\"SELECT * FROM `tidy-hold-359719.comision_latinoamericana.datos_ONU`\"\"\"\n",
    "datos_ONU = client.query(query).to_dataframe()\n",
    "query=\"\"\"SELECT * FROM `tidy-hold-359719.comision_latinoamericana.energyco2`\"\"\"\n",
    "energyco2 = client.query(query).to_dataframe()"
   ]
  },
  {
   "cell_type": "code",
   "execution_count": 4,
   "metadata": {},
   "outputs": [],
   "source": [
    "ts1 = temperatura.groupby('Anio').mean().reset_index()"
   ]
  },
  {
   "cell_type": "code",
   "execution_count": 5,
   "metadata": {},
   "outputs": [],
   "source": [
    "tabla = energyco2[(energyco2.Pais != 'Estados Unidos') & (energyco2.Pais != 'Canadá')]\n",
    "ts2 = tabla.drop(tabla[tabla['Emisiones_de_CO2'] == -1].index).groupby('Anio').sum().reset_index()"
   ]
  },
  {
   "cell_type": "code",
   "execution_count": 6,
   "metadata": {},
   "outputs": [],
   "source": [
    "datos_ONU = datos_ONU[(datos_ONU.Pais != 'Estados Unidos') & (datos_ONU.Pais != 'Canadá')]"
   ]
  },
  {
   "cell_type": "code",
   "execution_count": 7,
   "metadata": {},
   "outputs": [],
   "source": [
    "\n",
    "tabla = datos_ONU[['Anio','intensidad_energetica_medida_en_terminos_de_energia_primaria_y_PBI']]\n",
    "ts3 = tabla.drop(tabla[tabla['intensidad_energetica_medida_en_terminos_de_energia_primaria_y_PBI']==-1].index).groupby('Anio').mean().reset_index().rename(columns={'intensidad_energetica_medida_en_terminos_de_energia_primaria_y_PBI':'intensidad'})"
   ]
  },
  {
   "cell_type": "code",
   "execution_count": 8,
   "metadata": {},
   "outputs": [],
   "source": [
    "datos_ONU['prom'] = (datos_ONU['proporcion_de_la_poblacion_con_acceso_a_elecricidad'] + datos_ONU['proporcion_de_la_poblacion_con_dependencia_primaria_a_energias_limpias'])/2\n",
    "ts4 = datos_ONU[['Anio','prom']].groupby('Anio').mean().reset_index()"
   ]
  },
  {
   "cell_type": "code",
   "execution_count": 9,
   "metadata": {},
   "outputs": [],
   "source": [
    "ts5 = datos_ONU[['Anio', 'proporcion_de_energias_renovables_del_total_consumido']].groupby('Anio').mean().reset_index().rename(columns={'proporcion_de_energias_renovables_del_total_consumido':'prop_ren'})"
   ]
  },
  {
   "cell_type": "code",
   "execution_count": 10,
   "metadata": {},
   "outputs": [],
   "source": [
    "# Preparamos datos\n",
    "X_1, Y_1 = preparar_datos(ts1)\n",
    "X_2, Y_2 = preparar_datos(ts2)\n",
    "X_3, Y_3 = preparar_datos(ts3)\n",
    "X_4, Y_4 = preparar_datos(ts4)\n",
    "X_5, Y_5 = preparar_datos(ts5)\n",
    "\n",
    "# Arreglamos el tipo de dato de X_4\n",
    "X_4 = np.array(X_4, dtype=float)\n"
   ]
  },
  {
   "cell_type": "markdown",
   "metadata": {},
   "source": [
    "----\n",
    "## Ts1"
   ]
  },
  {
   "cell_type": "code",
   "execution_count": 11,
   "metadata": {},
   "outputs": [
    {
     "name": "stderr",
     "output_type": "stream",
     "text": [
      "¡Estamos trabajando en encontrar un mejor modelo!: 100%|██████████| 30/30 [00:31<00:00,  1.06s/it]"
     ]
    },
    {
     "name": "stdout",
     "output_type": "stream",
     "text": [
      "Hemos encontrado el mejor modelo, lo puedes encontrar como \"model_1.h5\"\n"
     ]
    },
    {
     "name": "stderr",
     "output_type": "stream",
     "text": [
      "\n"
     ]
    }
   ],
   "source": [
    "# Entrenamos modelo\n",
    "intentos = 30\n",
    "min_calif = 9999999\n",
    "for i in tqdm(range(intentos), desc='¡Estamos trabajando en encontrar un mejor modelo!: '):\n",
    "    x_train,x_test,y_train,y_test=train_test_split(X_1,Y_1,test_size=0.25)\n",
    "    x_train = tf.convert_to_tensor(x_train)\n",
    "    x_test = tf.convert_to_tensor(x_test)\n",
    "    y_train = tf.convert_to_tensor(y_train)\n",
    "    y_test = tf.convert_to_tensor(y_test)\n",
    "\n",
    "    model_=build_model_regression(0.001)\n",
    "    hist = model_.fit(x_train, y_train,\n",
    "            batch_size=100,\n",
    "            epochs= 50,\n",
    "            verbose = 0)\n",
    "    Y_1_p = model_.predict(tf.convert_to_tensor(X_1), verbose = 0)\n",
    "    calif = mean_squared_error(Y_1, Y_1_p, squared=False)\n",
    "    if min_calif > calif:\n",
    "        min_calif = calif\n",
    "        model_1 = model_\n",
    "        x_train_1 = x_train\n",
    "        y_train_1 = y_train\n",
    "        x_test_1 = x_test\n",
    "        y_test_1 = y_test\n",
    "model_1.save('model_1.h5')\n",
    "print('Hemos encontrado el mejor modelo, lo puedes encontrar como \"model_1.h5\"')"
   ]
  },
  {
   "cell_type": "code",
   "execution_count": 12,
   "metadata": {},
   "outputs": [
    {
     "name": "stdout",
     "output_type": "stream",
     "text": [
      "RMSE: 0.1698390777406583 0.17009920032774825 0.1690563085329002\n",
      "MSE: 0.02884531232779737 0.028933737952139434 0.028580035454771145\n",
      "MAE: 0.13286085918031906 0.13294696764014238 0.13260253380084908\n",
      "R2: 0.7818627618680417 0.7807835450475606 0.7757153738882653\n"
     ]
    },
    {
     "data": {
      "application/vnd.plotly.v1+json": {
       "config": {
        "plotlyServerURL": "https://plot.ly"
       },
       "data": [
        {
         "line": {
          "color": "rgba(0,0,0,0)"
         },
         "mode": "lines",
         "showlegend": false,
         "type": "scatter",
         "y": [
          23.644115447998047,
          23.560260772705078,
          23.502635955810547,
          23.526538848876953,
          23.496538162231445,
          23.405155181884766,
          23.479373931884766,
          23.547725677490234,
          23.429759979248047,
          23.464004516601562,
          23.584192276000977,
          23.463638305664062,
          23.444278717041016,
          23.491756439208984,
          23.532238006591797,
          23.437110900878906,
          23.45144271850586,
          23.462966918945312,
          23.470359802246094,
          23.483028411865234,
          23.4774227142334,
          23.666732788085938,
          23.547969818115234,
          23.591304779052734,
          23.611186981201172,
          23.60713005065918,
          23.614391326904297,
          23.712841033935547,
          23.643203735351562,
          23.64379119873047,
          23.66223907470703,
          23.740018844604492,
          23.696916580200195,
          23.57603645324707,
          23.7082462310791,
          23.759361267089844,
          23.835338592529297,
          23.77847671508789,
          23.760562896728516,
          23.88442611694336,
          23.8009090423584,
          23.763324737548828,
          23.80084228515625,
          23.806373596191406,
          23.675003051757812,
          23.603355407714844,
          23.77080726623535,
          23.70319366455078,
          23.741436004638672,
          23.580902099609375,
          23.64679718017578,
          23.56332015991211,
          23.772254943847656,
          23.811302185058594,
          23.77063751220703,
          23.862808227539062,
          23.899642944335938,
          23.81493377685547,
          23.874088287353516,
          23.737796783447266,
          23.797401428222656,
          23.75372314453125,
          23.701740264892578,
          23.63028335571289,
          23.906354904174805,
          23.678348541259766,
          23.615253448486328,
          23.866714477539062,
          23.787433624267578,
          23.593215942382812,
          23.684402465820312,
          23.602067947387695,
          23.815807342529297,
          23.724863052368164,
          23.835784912109375,
          24.00619888305664,
          23.932859420776367,
          24.032150268554688,
          24.14528465270996,
          23.871519088745117,
          23.996530532836914,
          23.9962100982666,
          24.192123413085938,
          23.98050308227539,
          24.019397735595703,
          24.180200576782227,
          24.16521453857422,
          24.04645347595215,
          24.135753631591797,
          24.203094482421875,
          24.213504791259766,
          24.06302261352539,
          24.349632263183594,
          24.41927719116211,
          24.12762451171875,
          24.21541976928711,
          24.342201232910156,
          24.323062896728516,
          24.292354583740234,
          24.270408630371094,
          24.358497619628906,
          24.369747161865234,
          24.250408172607422,
          24.237951278686523,
          24.37551498413086,
          24.26032257080078,
          24.251976013183594,
          24.33367156982422,
          24.31717300415039,
          24.41244125366211,
          24.60300064086914,
          24.560970306396484,
          24.615413665771484,
          24.49924087524414,
          24.697763442993164,
          24.646574020385742
         ]
        },
        {
         "fill": "tonexty",
         "line": {
          "color": "rgba(100,100,255,1)",
          "width": 0
         },
         "mode": "lines",
         "showlegend": false,
         "type": "scatter",
         "y": [
          22.964759826660156,
          22.880905151367188,
          22.823280334472656,
          22.847183227539062,
          22.817182540893555,
          22.725799560546875,
          22.800018310546875,
          22.868370056152344,
          22.750404357910156,
          22.784648895263672,
          22.904836654663086,
          22.784282684326172,
          22.764923095703125,
          22.812400817871094,
          22.852882385253906,
          22.757755279541016,
          22.77208709716797,
          22.783611297607422,
          22.791004180908203,
          22.803672790527344,
          22.798067092895508,
          22.987377166748047,
          22.868614196777344,
          22.911949157714844,
          22.93183135986328,
          22.92777442932129,
          22.935035705566406,
          23.033485412597656,
          22.963848114013672,
          22.964435577392578,
          22.98288345336914,
          23.0606632232666,
          23.017560958862305,
          22.89668083190918,
          23.02889060974121,
          23.080005645751953,
          23.155982971191406,
          23.09912109375,
          23.081207275390625,
          23.20507049560547,
          23.121553421020508,
          23.083969116210938,
          23.12148666381836,
          23.127017974853516,
          22.995647430419922,
          22.923999786376953,
          23.09145164489746,
          23.02383804321289,
          23.06208038330078,
          22.901546478271484,
          22.96744155883789,
          22.88396453857422,
          23.092899322509766,
          23.131946563720703,
          23.09128189086914,
          23.183452606201172,
          23.220287322998047,
          23.135578155517578,
          23.194732666015625,
          23.058441162109375,
          23.118045806884766,
          23.07436752319336,
          23.022384643554688,
          22.950927734375,
          23.226999282836914,
          22.998992919921875,
          22.935897827148438,
          23.187358856201172,
          23.108078002929688,
          22.913860321044922,
          23.005046844482422,
          22.922712326049805,
          23.136451721191406,
          23.045507431030273,
          23.156429290771484,
          23.32684326171875,
          23.253503799438477,
          23.352794647216797,
          23.46592903137207,
          23.192163467407227,
          23.317174911499023,
          23.31685447692871,
          23.512767791748047,
          23.3011474609375,
          23.340042114257812,
          23.500844955444336,
          23.485858917236328,
          23.367097854614258,
          23.456398010253906,
          23.523738861083984,
          23.534149169921875,
          23.3836669921875,
          23.670276641845703,
          23.73992156982422,
          23.44826889038086,
          23.53606414794922,
          23.662845611572266,
          23.643707275390625,
          23.612998962402344,
          23.591053009033203,
          23.679141998291016,
          23.690391540527344,
          23.57105255126953,
          23.558595657348633,
          23.69615936279297,
          23.58096694946289,
          23.572620391845703,
          23.654315948486328,
          23.6378173828125,
          23.73308563232422,
          23.92364501953125,
          23.881614685058594,
          23.936058044433594,
          23.81988525390625,
          24.018407821655273,
          23.96721839904785
         ]
        },
        {
         "line": {
          "color": "black"
         },
         "mode": "markers",
         "name": "Real",
         "type": "scatter",
         "y": [
          23.1959375,
          23.110625,
          23.174062499999998,
          23.1378125,
          22.9628125,
          23.111875,
          23.2965625,
          23.1015625,
          23.075625,
          23.285625,
          23.0934375,
          23.0221875,
          23.1259375,
          23.233125,
          23.115625,
          23.0746875,
          23.0840625,
          23.119062500000002,
          23.194375,
          23.1825,
          23.458125,
          23.2415625,
          23.18125,
          23.220625,
          23.228125,
          23.3296875,
          23.4959375,
          23.3378125,
          23.224375000000002,
          23.2340625,
          23.4221875,
          23.4371875,
          23.1628125,
          23.3228125,
          23.4775,
          23.6284375,
          23.50125,
          23.3303125,
          23.5215625,
          23.438125,
          23.3865625,
          23.4784375,
          23.4965625,
          23.236250000000002,
          23.0115625,
          23.3803125,
          23.4425,
          23.515625,
          23.1434375,
          23.09875,
          23.02625,
          23.5153125,
          23.743125,
          23.5353125,
          23.4965625,
          23.5078125,
          23.343125,
          23.5346875,
          23.3603125,
          23.4309375,
          23.415,
          23.2784375,
          23.1571875,
          23.67375,
          23.3828125,
          23.0915625,
          23.53125,
          23.4809375,
          23.1228125,
          23.22875,
          23.1121875,
          23.580625,
          23.5528125,
          23.5878125,
          23.806875,
          23.621875,
          23.700937500000002,
          23.905625,
          23.343125,
          23.470937499999998,
          23.614375,
          24.0334375,
          23.739375,
          23.5640625,
          23.818125,
          23.8528125,
          23.69875,
          23.8078125,
          23.9359375,
          23.9521875,
          23.618125,
          24.0453125,
          24.269375,
          23.669375,
          23.6384375,
          23.93375,
          24.046875,
          24.085625,
          23.94,
          24.01125,
          24.055625,
          23.821875,
          23.769375,
          24.0746875,
          23.9615625,
          23.9053125,
          24.0246875,
          23.995625,
          24.1625,
          24.4746875,
          24.341875,
          24.28,
          23.9615625,
          24.29,
          24.4046875,
          24.156875
         ]
        },
        {
         "line": {
          "color": "rgb(50,50,255)"
         },
         "name": "Model",
         "type": "scatter",
         "y": [
          23.3044376373291,
          23.220582962036133,
          23.1629581451416,
          23.186861038208008,
          23.1568603515625,
          23.06547737121582,
          23.13969612121582,
          23.20804786682129,
          23.0900821685791,
          23.124326705932617,
          23.24451446533203,
          23.123960494995117,
          23.10460090637207,
          23.15207862854004,
          23.19256019592285,
          23.09743309020996,
          23.111764907836914,
          23.123289108276367,
          23.13068199157715,
          23.14335060119629,
          23.137744903564453,
          23.327054977416992,
          23.20829200744629,
          23.25162696838379,
          23.271509170532227,
          23.267452239990234,
          23.27471351623535,
          23.3731632232666,
          23.303525924682617,
          23.304113388061523,
          23.322561264038086,
          23.400341033935547,
          23.35723876953125,
          23.236358642578125,
          23.368568420410156,
          23.4196834564209,
          23.49566078186035,
          23.438798904418945,
          23.42088508605957,
          23.544748306274414,
          23.461231231689453,
          23.423646926879883,
          23.461164474487305,
          23.46669578552246,
          23.335325241088867,
          23.2636775970459,
          23.431129455566406,
          23.363515853881836,
          23.401758193969727,
          23.24122428894043,
          23.307119369506836,
          23.223642349243164,
          23.43257713317871,
          23.47162437438965,
          23.430959701538086,
          23.523130416870117,
          23.559965133666992,
          23.475255966186523,
          23.53441047668457,
          23.39811897277832,
          23.45772361755371,
          23.414045333862305,
          23.362062454223633,
          23.290605545043945,
          23.56667709350586,
          23.33867073059082,
          23.275575637817383,
          23.527036666870117,
          23.447755813598633,
          23.253538131713867,
          23.344724655151367,
          23.26239013671875,
          23.47612953186035,
          23.38518524169922,
          23.49610710144043,
          23.666521072387695,
          23.593181610107422,
          23.692472457885742,
          23.805606842041016,
          23.531841278076172,
          23.65685272216797,
          23.656532287597656,
          23.852445602416992,
          23.640825271606445,
          23.679719924926758,
          23.84052276611328,
          23.825536727905273,
          23.706775665283203,
          23.79607582092285,
          23.86341667175293,
          23.87382698059082,
          23.723344802856445,
          24.00995445251465,
          24.079599380493164,
          23.787946701049805,
          23.875741958618164,
          24.00252342224121,
          23.98338508605957,
          23.95267677307129,
          23.93073081970215,
          24.01881980895996,
          24.03006935119629,
          23.910730361938477,
          23.898273468017578,
          24.035837173461914,
          23.920644760131836,
          23.91229820251465,
          23.993993759155273,
          23.977495193481445,
          24.072763442993164,
          24.263322830200195,
          24.22129249572754,
          24.27573585510254,
          24.159563064575195,
          24.35808563232422,
          24.306896209716797
         ]
        }
       ],
       "layout": {
        "template": {
         "data": {
          "bar": [
           {
            "error_x": {
             "color": "#2a3f5f"
            },
            "error_y": {
             "color": "#2a3f5f"
            },
            "marker": {
             "line": {
              "color": "#E5ECF6",
              "width": 0.5
             },
             "pattern": {
              "fillmode": "overlay",
              "size": 10,
              "solidity": 0.2
             }
            },
            "type": "bar"
           }
          ],
          "barpolar": [
           {
            "marker": {
             "line": {
              "color": "#E5ECF6",
              "width": 0.5
             },
             "pattern": {
              "fillmode": "overlay",
              "size": 10,
              "solidity": 0.2
             }
            },
            "type": "barpolar"
           }
          ],
          "carpet": [
           {
            "aaxis": {
             "endlinecolor": "#2a3f5f",
             "gridcolor": "white",
             "linecolor": "white",
             "minorgridcolor": "white",
             "startlinecolor": "#2a3f5f"
            },
            "baxis": {
             "endlinecolor": "#2a3f5f",
             "gridcolor": "white",
             "linecolor": "white",
             "minorgridcolor": "white",
             "startlinecolor": "#2a3f5f"
            },
            "type": "carpet"
           }
          ],
          "choropleth": [
           {
            "colorbar": {
             "outlinewidth": 0,
             "ticks": ""
            },
            "type": "choropleth"
           }
          ],
          "contour": [
           {
            "colorbar": {
             "outlinewidth": 0,
             "ticks": ""
            },
            "colorscale": [
             [
              0,
              "#0d0887"
             ],
             [
              0.1111111111111111,
              "#46039f"
             ],
             [
              0.2222222222222222,
              "#7201a8"
             ],
             [
              0.3333333333333333,
              "#9c179e"
             ],
             [
              0.4444444444444444,
              "#bd3786"
             ],
             [
              0.5555555555555556,
              "#d8576b"
             ],
             [
              0.6666666666666666,
              "#ed7953"
             ],
             [
              0.7777777777777778,
              "#fb9f3a"
             ],
             [
              0.8888888888888888,
              "#fdca26"
             ],
             [
              1,
              "#f0f921"
             ]
            ],
            "type": "contour"
           }
          ],
          "contourcarpet": [
           {
            "colorbar": {
             "outlinewidth": 0,
             "ticks": ""
            },
            "type": "contourcarpet"
           }
          ],
          "heatmap": [
           {
            "colorbar": {
             "outlinewidth": 0,
             "ticks": ""
            },
            "colorscale": [
             [
              0,
              "#0d0887"
             ],
             [
              0.1111111111111111,
              "#46039f"
             ],
             [
              0.2222222222222222,
              "#7201a8"
             ],
             [
              0.3333333333333333,
              "#9c179e"
             ],
             [
              0.4444444444444444,
              "#bd3786"
             ],
             [
              0.5555555555555556,
              "#d8576b"
             ],
             [
              0.6666666666666666,
              "#ed7953"
             ],
             [
              0.7777777777777778,
              "#fb9f3a"
             ],
             [
              0.8888888888888888,
              "#fdca26"
             ],
             [
              1,
              "#f0f921"
             ]
            ],
            "type": "heatmap"
           }
          ],
          "heatmapgl": [
           {
            "colorbar": {
             "outlinewidth": 0,
             "ticks": ""
            },
            "colorscale": [
             [
              0,
              "#0d0887"
             ],
             [
              0.1111111111111111,
              "#46039f"
             ],
             [
              0.2222222222222222,
              "#7201a8"
             ],
             [
              0.3333333333333333,
              "#9c179e"
             ],
             [
              0.4444444444444444,
              "#bd3786"
             ],
             [
              0.5555555555555556,
              "#d8576b"
             ],
             [
              0.6666666666666666,
              "#ed7953"
             ],
             [
              0.7777777777777778,
              "#fb9f3a"
             ],
             [
              0.8888888888888888,
              "#fdca26"
             ],
             [
              1,
              "#f0f921"
             ]
            ],
            "type": "heatmapgl"
           }
          ],
          "histogram": [
           {
            "marker": {
             "pattern": {
              "fillmode": "overlay",
              "size": 10,
              "solidity": 0.2
             }
            },
            "type": "histogram"
           }
          ],
          "histogram2d": [
           {
            "colorbar": {
             "outlinewidth": 0,
             "ticks": ""
            },
            "colorscale": [
             [
              0,
              "#0d0887"
             ],
             [
              0.1111111111111111,
              "#46039f"
             ],
             [
              0.2222222222222222,
              "#7201a8"
             ],
             [
              0.3333333333333333,
              "#9c179e"
             ],
             [
              0.4444444444444444,
              "#bd3786"
             ],
             [
              0.5555555555555556,
              "#d8576b"
             ],
             [
              0.6666666666666666,
              "#ed7953"
             ],
             [
              0.7777777777777778,
              "#fb9f3a"
             ],
             [
              0.8888888888888888,
              "#fdca26"
             ],
             [
              1,
              "#f0f921"
             ]
            ],
            "type": "histogram2d"
           }
          ],
          "histogram2dcontour": [
           {
            "colorbar": {
             "outlinewidth": 0,
             "ticks": ""
            },
            "colorscale": [
             [
              0,
              "#0d0887"
             ],
             [
              0.1111111111111111,
              "#46039f"
             ],
             [
              0.2222222222222222,
              "#7201a8"
             ],
             [
              0.3333333333333333,
              "#9c179e"
             ],
             [
              0.4444444444444444,
              "#bd3786"
             ],
             [
              0.5555555555555556,
              "#d8576b"
             ],
             [
              0.6666666666666666,
              "#ed7953"
             ],
             [
              0.7777777777777778,
              "#fb9f3a"
             ],
             [
              0.8888888888888888,
              "#fdca26"
             ],
             [
              1,
              "#f0f921"
             ]
            ],
            "type": "histogram2dcontour"
           }
          ],
          "mesh3d": [
           {
            "colorbar": {
             "outlinewidth": 0,
             "ticks": ""
            },
            "type": "mesh3d"
           }
          ],
          "parcoords": [
           {
            "line": {
             "colorbar": {
              "outlinewidth": 0,
              "ticks": ""
             }
            },
            "type": "parcoords"
           }
          ],
          "pie": [
           {
            "automargin": true,
            "type": "pie"
           }
          ],
          "scatter": [
           {
            "fillpattern": {
             "fillmode": "overlay",
             "size": 10,
             "solidity": 0.2
            },
            "type": "scatter"
           }
          ],
          "scatter3d": [
           {
            "line": {
             "colorbar": {
              "outlinewidth": 0,
              "ticks": ""
             }
            },
            "marker": {
             "colorbar": {
              "outlinewidth": 0,
              "ticks": ""
             }
            },
            "type": "scatter3d"
           }
          ],
          "scattercarpet": [
           {
            "marker": {
             "colorbar": {
              "outlinewidth": 0,
              "ticks": ""
             }
            },
            "type": "scattercarpet"
           }
          ],
          "scattergeo": [
           {
            "marker": {
             "colorbar": {
              "outlinewidth": 0,
              "ticks": ""
             }
            },
            "type": "scattergeo"
           }
          ],
          "scattergl": [
           {
            "marker": {
             "colorbar": {
              "outlinewidth": 0,
              "ticks": ""
             }
            },
            "type": "scattergl"
           }
          ],
          "scattermapbox": [
           {
            "marker": {
             "colorbar": {
              "outlinewidth": 0,
              "ticks": ""
             }
            },
            "type": "scattermapbox"
           }
          ],
          "scatterpolar": [
           {
            "marker": {
             "colorbar": {
              "outlinewidth": 0,
              "ticks": ""
             }
            },
            "type": "scatterpolar"
           }
          ],
          "scatterpolargl": [
           {
            "marker": {
             "colorbar": {
              "outlinewidth": 0,
              "ticks": ""
             }
            },
            "type": "scatterpolargl"
           }
          ],
          "scatterternary": [
           {
            "marker": {
             "colorbar": {
              "outlinewidth": 0,
              "ticks": ""
             }
            },
            "type": "scatterternary"
           }
          ],
          "surface": [
           {
            "colorbar": {
             "outlinewidth": 0,
             "ticks": ""
            },
            "colorscale": [
             [
              0,
              "#0d0887"
             ],
             [
              0.1111111111111111,
              "#46039f"
             ],
             [
              0.2222222222222222,
              "#7201a8"
             ],
             [
              0.3333333333333333,
              "#9c179e"
             ],
             [
              0.4444444444444444,
              "#bd3786"
             ],
             [
              0.5555555555555556,
              "#d8576b"
             ],
             [
              0.6666666666666666,
              "#ed7953"
             ],
             [
              0.7777777777777778,
              "#fb9f3a"
             ],
             [
              0.8888888888888888,
              "#fdca26"
             ],
             [
              1,
              "#f0f921"
             ]
            ],
            "type": "surface"
           }
          ],
          "table": [
           {
            "cells": {
             "fill": {
              "color": "#EBF0F8"
             },
             "line": {
              "color": "white"
             }
            },
            "header": {
             "fill": {
              "color": "#C8D4E3"
             },
             "line": {
              "color": "white"
             }
            },
            "type": "table"
           }
          ]
         },
         "layout": {
          "annotationdefaults": {
           "arrowcolor": "#2a3f5f",
           "arrowhead": 0,
           "arrowwidth": 1
          },
          "autotypenumbers": "strict",
          "coloraxis": {
           "colorbar": {
            "outlinewidth": 0,
            "ticks": ""
           }
          },
          "colorscale": {
           "diverging": [
            [
             0,
             "#8e0152"
            ],
            [
             0.1,
             "#c51b7d"
            ],
            [
             0.2,
             "#de77ae"
            ],
            [
             0.3,
             "#f1b6da"
            ],
            [
             0.4,
             "#fde0ef"
            ],
            [
             0.5,
             "#f7f7f7"
            ],
            [
             0.6,
             "#e6f5d0"
            ],
            [
             0.7,
             "#b8e186"
            ],
            [
             0.8,
             "#7fbc41"
            ],
            [
             0.9,
             "#4d9221"
            ],
            [
             1,
             "#276419"
            ]
           ],
           "sequential": [
            [
             0,
             "#0d0887"
            ],
            [
             0.1111111111111111,
             "#46039f"
            ],
            [
             0.2222222222222222,
             "#7201a8"
            ],
            [
             0.3333333333333333,
             "#9c179e"
            ],
            [
             0.4444444444444444,
             "#bd3786"
            ],
            [
             0.5555555555555556,
             "#d8576b"
            ],
            [
             0.6666666666666666,
             "#ed7953"
            ],
            [
             0.7777777777777778,
             "#fb9f3a"
            ],
            [
             0.8888888888888888,
             "#fdca26"
            ],
            [
             1,
             "#f0f921"
            ]
           ],
           "sequentialminus": [
            [
             0,
             "#0d0887"
            ],
            [
             0.1111111111111111,
             "#46039f"
            ],
            [
             0.2222222222222222,
             "#7201a8"
            ],
            [
             0.3333333333333333,
             "#9c179e"
            ],
            [
             0.4444444444444444,
             "#bd3786"
            ],
            [
             0.5555555555555556,
             "#d8576b"
            ],
            [
             0.6666666666666666,
             "#ed7953"
            ],
            [
             0.7777777777777778,
             "#fb9f3a"
            ],
            [
             0.8888888888888888,
             "#fdca26"
            ],
            [
             1,
             "#f0f921"
            ]
           ]
          },
          "colorway": [
           "#636efa",
           "#EF553B",
           "#00cc96",
           "#ab63fa",
           "#FFA15A",
           "#19d3f3",
           "#FF6692",
           "#B6E880",
           "#FF97FF",
           "#FECB52"
          ],
          "font": {
           "color": "#2a3f5f"
          },
          "geo": {
           "bgcolor": "white",
           "lakecolor": "white",
           "landcolor": "#E5ECF6",
           "showlakes": true,
           "showland": true,
           "subunitcolor": "white"
          },
          "hoverlabel": {
           "align": "left"
          },
          "hovermode": "closest",
          "mapbox": {
           "style": "light"
          },
          "paper_bgcolor": "white",
          "plot_bgcolor": "#E5ECF6",
          "polar": {
           "angularaxis": {
            "gridcolor": "white",
            "linecolor": "white",
            "ticks": ""
           },
           "bgcolor": "#E5ECF6",
           "radialaxis": {
            "gridcolor": "white",
            "linecolor": "white",
            "ticks": ""
           }
          },
          "scene": {
           "xaxis": {
            "backgroundcolor": "#E5ECF6",
            "gridcolor": "white",
            "gridwidth": 2,
            "linecolor": "white",
            "showbackground": true,
            "ticks": "",
            "zerolinecolor": "white"
           },
           "yaxis": {
            "backgroundcolor": "#E5ECF6",
            "gridcolor": "white",
            "gridwidth": 2,
            "linecolor": "white",
            "showbackground": true,
            "ticks": "",
            "zerolinecolor": "white"
           },
           "zaxis": {
            "backgroundcolor": "#E5ECF6",
            "gridcolor": "white",
            "gridwidth": 2,
            "linecolor": "white",
            "showbackground": true,
            "ticks": "",
            "zerolinecolor": "white"
           }
          },
          "shapedefaults": {
           "line": {
            "color": "#2a3f5f"
           }
          },
          "ternary": {
           "aaxis": {
            "gridcolor": "white",
            "linecolor": "white",
            "ticks": ""
           },
           "baxis": {
            "gridcolor": "white",
            "linecolor": "white",
            "ticks": ""
           },
           "bgcolor": "#E5ECF6",
           "caxis": {
            "gridcolor": "white",
            "linecolor": "white",
            "ticks": ""
           }
          },
          "title": {
           "x": 0.05
          },
          "xaxis": {
           "automargin": true,
           "gridcolor": "white",
           "linecolor": "white",
           "ticks": "",
           "title": {
            "standoff": 15
           },
           "zerolinecolor": "white",
           "zerolinewidth": 2
          },
          "yaxis": {
           "automargin": true,
           "gridcolor": "white",
           "linecolor": "white",
           "ticks": "",
           "title": {
            "standoff": 15
           },
           "zerolinecolor": "white",
           "zerolinewidth": 2
          }
         }
        }
       }
      }
     },
     "metadata": {},
     "output_type": "display_data"
    }
   ],
   "source": [
    "# Graficamos Resultados\n",
    "model = models.load_model('model_1.h5')\n",
    "\n",
    "Y_1_p = model.predict(tf.convert_to_tensor(X_1), verbose = 0)\n",
    "rmse_1 = mean_squared_error(Y_1, Y_1_p, squared=False)\n",
    "mse_1 = mean_squared_error(Y_1, Y_1_p)\n",
    "mae_1 = mean_absolute_error(Y_1, Y_1_p)\n",
    "r2_1 = r2_score(Y_1, Y_1_p)\n",
    "y_train_1_p = model.predict(tf.convert_to_tensor(x_train_1), verbose = 0)\n",
    "rmse_1_tr = mean_squared_error(y_train_1, y_train_1_p, squared=False)\n",
    "mse_1_tr = mean_squared_error(y_train_1, y_train_1_p)\n",
    "mae_1_tr = mean_absolute_error(y_train_1, y_train_1_p)\n",
    "r2_1_tr = r2_score(y_train_1, y_train_1_p)\n",
    "y_test_1_p = model.predict(tf.convert_to_tensor(x_test_1), verbose = 0)\n",
    "rmse_1_te = mean_squared_error(y_test_1, y_test_1_p, squared=False)\n",
    "mse_1_te = mean_squared_error(y_test_1, y_test_1_p)\n",
    "mae_1_te = mean_absolute_error(y_test_1, y_test_1_p)\n",
    "r2_1_te = r2_score(y_test_1, y_test_1_p)\n",
    "\n",
    "print('RMSE:',rmse_1, rmse_1_tr, rmse_1_te)\n",
    "print('MSE:',mse_1, mse_1_tr, mse_1_te)\n",
    "print('MAE:',mae_1, mae_1_tr, mae_1_te)\n",
    "print('R2:',r2_1, r2_1_tr, r2_1_te)\n",
    "\n",
    "\n",
    "fig = go.Figure()\n",
    "fig.add_trace(go.Scatter(y = Y_1_p.reshape(-1)+2*rmse_1, mode = 'lines',line_color='rgba(0,0,0,0)',showlegend=False))\n",
    "fig.add_trace(go.Scatter(y = Y_1_p.reshape(-1)-2*rmse_1, fill='tonexty', mode = 'lines',line_color='rgba(100,100,255,1)', line_width=0,showlegend=False))\n",
    "fig.add_trace(go.Scatter(y = Y_1.reshape(-1), name='Real', mode = 'markers', line_color='black'))\n",
    "fig.add_trace(go.Scatter(y = Y_1_p.reshape(-1), name='Model', line_color='rgb(50,50,255)'))\n",
    "fig.show()"
   ]
  },
  {
   "cell_type": "markdown",
   "metadata": {},
   "source": [
    "----\n",
    "## Ts2"
   ]
  },
  {
   "cell_type": "code",
   "execution_count": 13,
   "metadata": {},
   "outputs": [
    {
     "name": "stderr",
     "output_type": "stream",
     "text": [
      "¡Estamos trabajando en encontrar un mejor modelo!:  10%|█         | 3/30 [00:03<00:31,  1.17s/it]"
     ]
    },
    {
     "name": "stdout",
     "output_type": "stream",
     "text": [
      "WARNING:tensorflow:5 out of the last 15 calls to <function Model.make_predict_function.<locals>.predict_function at 0x00000153066813F0> triggered tf.function retracing. Tracing is expensive and the excessive number of tracings could be due to (1) creating @tf.function repeatedly in a loop, (2) passing tensors with different shapes, (3) passing Python objects instead of tensors. For (1), please define your @tf.function outside of the loop. For (2), @tf.function has reduce_retracing=True option that can avoid unnecessary retracing. For (3), please refer to https://www.tensorflow.org/guide/function#controlling_retracing and https://www.tensorflow.org/api_docs/python/tf/function for  more details.\n"
     ]
    },
    {
     "name": "stderr",
     "output_type": "stream",
     "text": [
      "¡Estamos trabajando en encontrar un mejor modelo!:  13%|█▎        | 4/30 [00:04<00:29,  1.12s/it]"
     ]
    },
    {
     "name": "stdout",
     "output_type": "stream",
     "text": [
      "WARNING:tensorflow:6 out of the last 17 calls to <function Model.make_predict_function.<locals>.predict_function at 0x00000153066831C0> triggered tf.function retracing. Tracing is expensive and the excessive number of tracings could be due to (1) creating @tf.function repeatedly in a loop, (2) passing tensors with different shapes, (3) passing Python objects instead of tensors. For (1), please define your @tf.function outside of the loop. For (2), @tf.function has reduce_retracing=True option that can avoid unnecessary retracing. For (3), please refer to https://www.tensorflow.org/guide/function#controlling_retracing and https://www.tensorflow.org/api_docs/python/tf/function for  more details.\n"
     ]
    },
    {
     "name": "stderr",
     "output_type": "stream",
     "text": [
      "¡Estamos trabajando en encontrar un mejor modelo!: 100%|██████████| 30/30 [00:32<00:00,  1.09s/it]"
     ]
    },
    {
     "name": "stdout",
     "output_type": "stream",
     "text": [
      "Hemos encontrado el mejor modelo, lo puedes encontrar como \"model_2.h5\"\n"
     ]
    },
    {
     "name": "stderr",
     "output_type": "stream",
     "text": [
      "\n"
     ]
    }
   ],
   "source": [
    "# Entrenamos modelo\n",
    "intentos = 30\n",
    "min_calif = 9999999\n",
    "for i in tqdm(range(intentos), desc='¡Estamos trabajando en encontrar un mejor modelo!: '):\n",
    "    x_train,x_test,y_train,y_test=train_test_split(X_2,Y_2,test_size=0.25)\n",
    "    x_train = tf.convert_to_tensor(x_train)\n",
    "    x_test = tf.convert_to_tensor(x_test)\n",
    "    y_train = tf.convert_to_tensor(y_train)\n",
    "    y_test = tf.convert_to_tensor(y_test)\n",
    "\n",
    "    model_=build_model_regression(0.01)\n",
    "    hist = model_.fit(x_train, y_train,\n",
    "            batch_size=100,\n",
    "            epochs= 50,\n",
    "            verbose = 0)\n",
    "    Y_2_p = model_.predict(tf.convert_to_tensor(X_2), verbose = 0)\n",
    "    calif = mean_squared_error(Y_2, Y_2_p, squared=False)\n",
    "    if min_calif > calif:\n",
    "        min_calif = calif\n",
    "        model_2 = model_\n",
    "        hist_3 = hist\n",
    "        x_train_2 = x_train\n",
    "        y_train_2 = y_train\n",
    "        x_test_2 = x_test\n",
    "        y_test_2 = y_test\n",
    "        \n",
    "model_2.save('model_2.h5')\n",
    "print('Hemos encontrado el mejor modelo, lo puedes encontrar como \"model_2.h5\"')"
   ]
  },
  {
   "cell_type": "code",
   "execution_count": 14,
   "metadata": {},
   "outputs": [
    {
     "name": "stdout",
     "output_type": "stream",
     "text": [
      "RMSE: 53.534496501134264 58.3353086145968 37.06875436628575\n",
      "MSE: 2865.9423156299567 3403.0082311602514 1374.0925502680288\n",
      "MAE: 40.528207341381446 43.49230228531252 32.29461027490624\n",
      "R2: 0.969303618356432 0.9578656017946376 0.9876790471590952\n"
     ]
    },
    {
     "data": {
      "application/vnd.plotly.v1+json": {
       "config": {
        "plotlyServerURL": "https://plot.ly"
       },
       "data": [
        {
         "line": {
          "color": "rgba(0,0,0,0)"
         },
         "mode": "lines",
         "showlegend": false,
         "type": "scatter",
         "y": [
          906.1232299804688,
          930.1987915039062,
          964.5636596679688,
          983.0197143554688,
          1024.1314697265625,
          1041.4324951171875,
          1073.302734375,
          1094.2562255859375,
          1108.330810546875,
          1138.8485107421875,
          1169.846435546875,
          1220.45703125,
          1251.4814453125,
          1296.33935546875,
          1354.6851806640625,
          1394.676025390625,
          1420.0185546875,
          1441.2373046875,
          1462.817626953125,
          1471.7845458984375,
          1488.2171630859375,
          1524.356689453125,
          1557.5291748046875,
          1595.3145751953125,
          1635.3616943359375,
          1663.285888671875,
          1702.6683349609375,
          1735.9814453125,
          1819.78466796875,
          1851.7431640625,
          1916.13330078125,
          1947.7281494140625,
          1980.651123046875,
          1984.9124755859375
         ]
        },
        {
         "fill": "tonexty",
         "line": {
          "color": "rgba(100,100,255,1)",
          "width": 0
         },
         "mode": "lines",
         "showlegend": false,
         "type": "scatter",
         "y": [
          691.9852905273438,
          716.0608520507812,
          750.4257202148438,
          768.8817749023438,
          809.9934692382812,
          827.2944946289062,
          859.1647338867188,
          880.1182250976562,
          894.1928100585938,
          924.7105712890625,
          955.70849609375,
          1006.319091796875,
          1037.343505859375,
          1082.201416015625,
          1140.5472412109375,
          1180.5380859375,
          1205.880615234375,
          1227.099365234375,
          1248.6796875,
          1257.6466064453125,
          1274.0792236328125,
          1310.21875,
          1343.3912353515625,
          1381.1766357421875,
          1421.2237548828125,
          1449.14794921875,
          1488.5303955078125,
          1521.843505859375,
          1605.646728515625,
          1637.605224609375,
          1701.995361328125,
          1733.5902099609375,
          1766.51318359375,
          1770.7745361328125
         ]
        },
        {
         "line": {
          "color": "black"
         },
         "mode": "markers",
         "name": "Real",
         "type": "scatter",
         "y": [
          819.876573046,
          871.131178246,
          889.880876486,
          899.679335183,
          935.321162747,
          938.654901335,
          968.376763304,
          976.111259468,
          1029.904108987,
          1088.98940496,
          1113.867685287,
          1156.294620936,
          1214.368043858,
          1261.033203313,
          1267.873162938,
          1272.9842508850002,
          1289.44011605,
          1286.322828627,
          1311.301048596,
          1358.374038731,
          1393.541069797,
          1453.464909281,
          1455.894923491,
          1522.599223894,
          1488.9907856529999,
          1588.017555596,
          1642.236614543,
          1717.2497738,
          1754.146611902,
          1767.585820989,
          1798.206210386,
          1775.135326975,
          1739.550029199,
          1708.3754581599999
         ]
        },
        {
         "line": {
          "color": "rgb(50,50,255)"
         },
         "name": "Model",
         "type": "scatter",
         "y": [
          799.0542602539062,
          823.1298217773438,
          857.4946899414062,
          875.9507446289062,
          917.0624389648438,
          934.3634643554688,
          966.2337036132812,
          987.1871948242188,
          1001.2617797851562,
          1031.779541015625,
          1062.7774658203125,
          1113.3880615234375,
          1144.4124755859375,
          1189.2703857421875,
          1247.6162109375,
          1287.6070556640625,
          1312.9495849609375,
          1334.1683349609375,
          1355.7486572265625,
          1364.715576171875,
          1381.148193359375,
          1417.2877197265625,
          1450.460205078125,
          1488.24560546875,
          1528.292724609375,
          1556.2169189453125,
          1595.599365234375,
          1628.9124755859375,
          1712.7156982421875,
          1744.6741943359375,
          1809.0643310546875,
          1840.6591796875,
          1873.5821533203125,
          1877.843505859375
         ]
        }
       ],
       "layout": {
        "template": {
         "data": {
          "bar": [
           {
            "error_x": {
             "color": "#2a3f5f"
            },
            "error_y": {
             "color": "#2a3f5f"
            },
            "marker": {
             "line": {
              "color": "#E5ECF6",
              "width": 0.5
             },
             "pattern": {
              "fillmode": "overlay",
              "size": 10,
              "solidity": 0.2
             }
            },
            "type": "bar"
           }
          ],
          "barpolar": [
           {
            "marker": {
             "line": {
              "color": "#E5ECF6",
              "width": 0.5
             },
             "pattern": {
              "fillmode": "overlay",
              "size": 10,
              "solidity": 0.2
             }
            },
            "type": "barpolar"
           }
          ],
          "carpet": [
           {
            "aaxis": {
             "endlinecolor": "#2a3f5f",
             "gridcolor": "white",
             "linecolor": "white",
             "minorgridcolor": "white",
             "startlinecolor": "#2a3f5f"
            },
            "baxis": {
             "endlinecolor": "#2a3f5f",
             "gridcolor": "white",
             "linecolor": "white",
             "minorgridcolor": "white",
             "startlinecolor": "#2a3f5f"
            },
            "type": "carpet"
           }
          ],
          "choropleth": [
           {
            "colorbar": {
             "outlinewidth": 0,
             "ticks": ""
            },
            "type": "choropleth"
           }
          ],
          "contour": [
           {
            "colorbar": {
             "outlinewidth": 0,
             "ticks": ""
            },
            "colorscale": [
             [
              0,
              "#0d0887"
             ],
             [
              0.1111111111111111,
              "#46039f"
             ],
             [
              0.2222222222222222,
              "#7201a8"
             ],
             [
              0.3333333333333333,
              "#9c179e"
             ],
             [
              0.4444444444444444,
              "#bd3786"
             ],
             [
              0.5555555555555556,
              "#d8576b"
             ],
             [
              0.6666666666666666,
              "#ed7953"
             ],
             [
              0.7777777777777778,
              "#fb9f3a"
             ],
             [
              0.8888888888888888,
              "#fdca26"
             ],
             [
              1,
              "#f0f921"
             ]
            ],
            "type": "contour"
           }
          ],
          "contourcarpet": [
           {
            "colorbar": {
             "outlinewidth": 0,
             "ticks": ""
            },
            "type": "contourcarpet"
           }
          ],
          "heatmap": [
           {
            "colorbar": {
             "outlinewidth": 0,
             "ticks": ""
            },
            "colorscale": [
             [
              0,
              "#0d0887"
             ],
             [
              0.1111111111111111,
              "#46039f"
             ],
             [
              0.2222222222222222,
              "#7201a8"
             ],
             [
              0.3333333333333333,
              "#9c179e"
             ],
             [
              0.4444444444444444,
              "#bd3786"
             ],
             [
              0.5555555555555556,
              "#d8576b"
             ],
             [
              0.6666666666666666,
              "#ed7953"
             ],
             [
              0.7777777777777778,
              "#fb9f3a"
             ],
             [
              0.8888888888888888,
              "#fdca26"
             ],
             [
              1,
              "#f0f921"
             ]
            ],
            "type": "heatmap"
           }
          ],
          "heatmapgl": [
           {
            "colorbar": {
             "outlinewidth": 0,
             "ticks": ""
            },
            "colorscale": [
             [
              0,
              "#0d0887"
             ],
             [
              0.1111111111111111,
              "#46039f"
             ],
             [
              0.2222222222222222,
              "#7201a8"
             ],
             [
              0.3333333333333333,
              "#9c179e"
             ],
             [
              0.4444444444444444,
              "#bd3786"
             ],
             [
              0.5555555555555556,
              "#d8576b"
             ],
             [
              0.6666666666666666,
              "#ed7953"
             ],
             [
              0.7777777777777778,
              "#fb9f3a"
             ],
             [
              0.8888888888888888,
              "#fdca26"
             ],
             [
              1,
              "#f0f921"
             ]
            ],
            "type": "heatmapgl"
           }
          ],
          "histogram": [
           {
            "marker": {
             "pattern": {
              "fillmode": "overlay",
              "size": 10,
              "solidity": 0.2
             }
            },
            "type": "histogram"
           }
          ],
          "histogram2d": [
           {
            "colorbar": {
             "outlinewidth": 0,
             "ticks": ""
            },
            "colorscale": [
             [
              0,
              "#0d0887"
             ],
             [
              0.1111111111111111,
              "#46039f"
             ],
             [
              0.2222222222222222,
              "#7201a8"
             ],
             [
              0.3333333333333333,
              "#9c179e"
             ],
             [
              0.4444444444444444,
              "#bd3786"
             ],
             [
              0.5555555555555556,
              "#d8576b"
             ],
             [
              0.6666666666666666,
              "#ed7953"
             ],
             [
              0.7777777777777778,
              "#fb9f3a"
             ],
             [
              0.8888888888888888,
              "#fdca26"
             ],
             [
              1,
              "#f0f921"
             ]
            ],
            "type": "histogram2d"
           }
          ],
          "histogram2dcontour": [
           {
            "colorbar": {
             "outlinewidth": 0,
             "ticks": ""
            },
            "colorscale": [
             [
              0,
              "#0d0887"
             ],
             [
              0.1111111111111111,
              "#46039f"
             ],
             [
              0.2222222222222222,
              "#7201a8"
             ],
             [
              0.3333333333333333,
              "#9c179e"
             ],
             [
              0.4444444444444444,
              "#bd3786"
             ],
             [
              0.5555555555555556,
              "#d8576b"
             ],
             [
              0.6666666666666666,
              "#ed7953"
             ],
             [
              0.7777777777777778,
              "#fb9f3a"
             ],
             [
              0.8888888888888888,
              "#fdca26"
             ],
             [
              1,
              "#f0f921"
             ]
            ],
            "type": "histogram2dcontour"
           }
          ],
          "mesh3d": [
           {
            "colorbar": {
             "outlinewidth": 0,
             "ticks": ""
            },
            "type": "mesh3d"
           }
          ],
          "parcoords": [
           {
            "line": {
             "colorbar": {
              "outlinewidth": 0,
              "ticks": ""
             }
            },
            "type": "parcoords"
           }
          ],
          "pie": [
           {
            "automargin": true,
            "type": "pie"
           }
          ],
          "scatter": [
           {
            "fillpattern": {
             "fillmode": "overlay",
             "size": 10,
             "solidity": 0.2
            },
            "type": "scatter"
           }
          ],
          "scatter3d": [
           {
            "line": {
             "colorbar": {
              "outlinewidth": 0,
              "ticks": ""
             }
            },
            "marker": {
             "colorbar": {
              "outlinewidth": 0,
              "ticks": ""
             }
            },
            "type": "scatter3d"
           }
          ],
          "scattercarpet": [
           {
            "marker": {
             "colorbar": {
              "outlinewidth": 0,
              "ticks": ""
             }
            },
            "type": "scattercarpet"
           }
          ],
          "scattergeo": [
           {
            "marker": {
             "colorbar": {
              "outlinewidth": 0,
              "ticks": ""
             }
            },
            "type": "scattergeo"
           }
          ],
          "scattergl": [
           {
            "marker": {
             "colorbar": {
              "outlinewidth": 0,
              "ticks": ""
             }
            },
            "type": "scattergl"
           }
          ],
          "scattermapbox": [
           {
            "marker": {
             "colorbar": {
              "outlinewidth": 0,
              "ticks": ""
             }
            },
            "type": "scattermapbox"
           }
          ],
          "scatterpolar": [
           {
            "marker": {
             "colorbar": {
              "outlinewidth": 0,
              "ticks": ""
             }
            },
            "type": "scatterpolar"
           }
          ],
          "scatterpolargl": [
           {
            "marker": {
             "colorbar": {
              "outlinewidth": 0,
              "ticks": ""
             }
            },
            "type": "scatterpolargl"
           }
          ],
          "scatterternary": [
           {
            "marker": {
             "colorbar": {
              "outlinewidth": 0,
              "ticks": ""
             }
            },
            "type": "scatterternary"
           }
          ],
          "surface": [
           {
            "colorbar": {
             "outlinewidth": 0,
             "ticks": ""
            },
            "colorscale": [
             [
              0,
              "#0d0887"
             ],
             [
              0.1111111111111111,
              "#46039f"
             ],
             [
              0.2222222222222222,
              "#7201a8"
             ],
             [
              0.3333333333333333,
              "#9c179e"
             ],
             [
              0.4444444444444444,
              "#bd3786"
             ],
             [
              0.5555555555555556,
              "#d8576b"
             ],
             [
              0.6666666666666666,
              "#ed7953"
             ],
             [
              0.7777777777777778,
              "#fb9f3a"
             ],
             [
              0.8888888888888888,
              "#fdca26"
             ],
             [
              1,
              "#f0f921"
             ]
            ],
            "type": "surface"
           }
          ],
          "table": [
           {
            "cells": {
             "fill": {
              "color": "#EBF0F8"
             },
             "line": {
              "color": "white"
             }
            },
            "header": {
             "fill": {
              "color": "#C8D4E3"
             },
             "line": {
              "color": "white"
             }
            },
            "type": "table"
           }
          ]
         },
         "layout": {
          "annotationdefaults": {
           "arrowcolor": "#2a3f5f",
           "arrowhead": 0,
           "arrowwidth": 1
          },
          "autotypenumbers": "strict",
          "coloraxis": {
           "colorbar": {
            "outlinewidth": 0,
            "ticks": ""
           }
          },
          "colorscale": {
           "diverging": [
            [
             0,
             "#8e0152"
            ],
            [
             0.1,
             "#c51b7d"
            ],
            [
             0.2,
             "#de77ae"
            ],
            [
             0.3,
             "#f1b6da"
            ],
            [
             0.4,
             "#fde0ef"
            ],
            [
             0.5,
             "#f7f7f7"
            ],
            [
             0.6,
             "#e6f5d0"
            ],
            [
             0.7,
             "#b8e186"
            ],
            [
             0.8,
             "#7fbc41"
            ],
            [
             0.9,
             "#4d9221"
            ],
            [
             1,
             "#276419"
            ]
           ],
           "sequential": [
            [
             0,
             "#0d0887"
            ],
            [
             0.1111111111111111,
             "#46039f"
            ],
            [
             0.2222222222222222,
             "#7201a8"
            ],
            [
             0.3333333333333333,
             "#9c179e"
            ],
            [
             0.4444444444444444,
             "#bd3786"
            ],
            [
             0.5555555555555556,
             "#d8576b"
            ],
            [
             0.6666666666666666,
             "#ed7953"
            ],
            [
             0.7777777777777778,
             "#fb9f3a"
            ],
            [
             0.8888888888888888,
             "#fdca26"
            ],
            [
             1,
             "#f0f921"
            ]
           ],
           "sequentialminus": [
            [
             0,
             "#0d0887"
            ],
            [
             0.1111111111111111,
             "#46039f"
            ],
            [
             0.2222222222222222,
             "#7201a8"
            ],
            [
             0.3333333333333333,
             "#9c179e"
            ],
            [
             0.4444444444444444,
             "#bd3786"
            ],
            [
             0.5555555555555556,
             "#d8576b"
            ],
            [
             0.6666666666666666,
             "#ed7953"
            ],
            [
             0.7777777777777778,
             "#fb9f3a"
            ],
            [
             0.8888888888888888,
             "#fdca26"
            ],
            [
             1,
             "#f0f921"
            ]
           ]
          },
          "colorway": [
           "#636efa",
           "#EF553B",
           "#00cc96",
           "#ab63fa",
           "#FFA15A",
           "#19d3f3",
           "#FF6692",
           "#B6E880",
           "#FF97FF",
           "#FECB52"
          ],
          "font": {
           "color": "#2a3f5f"
          },
          "geo": {
           "bgcolor": "white",
           "lakecolor": "white",
           "landcolor": "#E5ECF6",
           "showlakes": true,
           "showland": true,
           "subunitcolor": "white"
          },
          "hoverlabel": {
           "align": "left"
          },
          "hovermode": "closest",
          "mapbox": {
           "style": "light"
          },
          "paper_bgcolor": "white",
          "plot_bgcolor": "#E5ECF6",
          "polar": {
           "angularaxis": {
            "gridcolor": "white",
            "linecolor": "white",
            "ticks": ""
           },
           "bgcolor": "#E5ECF6",
           "radialaxis": {
            "gridcolor": "white",
            "linecolor": "white",
            "ticks": ""
           }
          },
          "scene": {
           "xaxis": {
            "backgroundcolor": "#E5ECF6",
            "gridcolor": "white",
            "gridwidth": 2,
            "linecolor": "white",
            "showbackground": true,
            "ticks": "",
            "zerolinecolor": "white"
           },
           "yaxis": {
            "backgroundcolor": "#E5ECF6",
            "gridcolor": "white",
            "gridwidth": 2,
            "linecolor": "white",
            "showbackground": true,
            "ticks": "",
            "zerolinecolor": "white"
           },
           "zaxis": {
            "backgroundcolor": "#E5ECF6",
            "gridcolor": "white",
            "gridwidth": 2,
            "linecolor": "white",
            "showbackground": true,
            "ticks": "",
            "zerolinecolor": "white"
           }
          },
          "shapedefaults": {
           "line": {
            "color": "#2a3f5f"
           }
          },
          "ternary": {
           "aaxis": {
            "gridcolor": "white",
            "linecolor": "white",
            "ticks": ""
           },
           "baxis": {
            "gridcolor": "white",
            "linecolor": "white",
            "ticks": ""
           },
           "bgcolor": "#E5ECF6",
           "caxis": {
            "gridcolor": "white",
            "linecolor": "white",
            "ticks": ""
           }
          },
          "title": {
           "x": 0.05
          },
          "xaxis": {
           "automargin": true,
           "gridcolor": "white",
           "linecolor": "white",
           "ticks": "",
           "title": {
            "standoff": 15
           },
           "zerolinecolor": "white",
           "zerolinewidth": 2
          },
          "yaxis": {
           "automargin": true,
           "gridcolor": "white",
           "linecolor": "white",
           "ticks": "",
           "title": {
            "standoff": 15
           },
           "zerolinecolor": "white",
           "zerolinewidth": 2
          }
         }
        }
       }
      }
     },
     "metadata": {},
     "output_type": "display_data"
    }
   ],
   "source": [
    "# Graficamos Resultados\n",
    "model = models.load_model('model_2.h5')\n",
    "Y_2_p = model.predict(tf.convert_to_tensor(X_2), verbose = 0)\n",
    "rmse_2 = mean_squared_error(Y_2, Y_2_p, squared=False)\n",
    "mse_2 = mean_squared_error(Y_2, Y_2_p)\n",
    "mae_2 = mean_absolute_error(Y_2, Y_2_p)\n",
    "r2_2 = r2_score(Y_2, Y_2_p)\n",
    "y_train_2_p = model.predict(tf.convert_to_tensor(x_train_2), verbose = 0)\n",
    "rmse_2_tr = mean_squared_error(y_train_2, y_train_2_p, squared=False)\n",
    "mse_2_tr = mean_squared_error(y_train_2, y_train_2_p)\n",
    "mae_2_tr = mean_absolute_error(y_train_2, y_train_2_p)\n",
    "r2_2_tr = r2_score(y_train_2, y_train_2_p)\n",
    "y_test_2_p = model.predict(tf.convert_to_tensor(x_test_2), verbose = 0)\n",
    "rmse_2_te = mean_squared_error(y_test_2, y_test_2_p, squared=False)\n",
    "mse_2_te = mean_squared_error(y_test_2, y_test_2_p)\n",
    "mae_2_te = mean_absolute_error(y_test_2, y_test_2_p)\n",
    "r2_2_te = r2_score(y_test_2, y_test_2_p)\n",
    "\n",
    "print('RMSE:',rmse_2, rmse_2_tr, rmse_2_te)\n",
    "print('MSE:',mse_2, mse_2_tr, mse_2_te)\n",
    "print('MAE:',mae_2, mae_2_tr, mae_2_te)\n",
    "print('R2:',r2_2, r2_2_tr, r2_2_te)\n",
    "\n",
    "\n",
    "fig = go.Figure()\n",
    "fig.add_trace(go.Scatter(y = Y_2_p.reshape(-1)+2*rmse_2, mode = 'lines',line_color='rgba(0,0,0,0)',showlegend=False))\n",
    "fig.add_trace(go.Scatter(y = Y_2_p.reshape(-1)-2*rmse_2, fill='tonexty', mode = 'lines',line_color='rgba(100,100,255,1)', line_width=0,showlegend=False))\n",
    "fig.add_trace(go.Scatter(y = Y_2.reshape(-1), name='Real', mode = 'markers', line_color='black'))\n",
    "fig.add_trace(go.Scatter(y = Y_2_p.reshape(-1), name='Model', line_color='rgb(50,50,255)'))\n",
    "fig.show()"
   ]
  },
  {
   "cell_type": "code",
   "execution_count": null,
   "metadata": {},
   "outputs": [],
   "source": []
  },
  {
   "cell_type": "markdown",
   "metadata": {},
   "source": [
    "----\n",
    "## Ts3"
   ]
  },
  {
   "cell_type": "code",
   "execution_count": 15,
   "metadata": {},
   "outputs": [
    {
     "name": "stderr",
     "output_type": "stream",
     "text": [
      "¡Estamos trabajando en encontrar un mejor modelo!: 100%|██████████| 30/30 [00:32<00:00,  1.10s/it]"
     ]
    },
    {
     "name": "stdout",
     "output_type": "stream",
     "text": [
      "Hemos encontrado el mejor modelo, lo puedes encontrar como \"model_3.h5\"\n"
     ]
    },
    {
     "name": "stderr",
     "output_type": "stream",
     "text": [
      "\n"
     ]
    }
   ],
   "source": [
    "# Entrenamos modelo\n",
    "intentos = 30\n",
    "min_calif = 9999999\n",
    "for i in tqdm(range(intentos), desc='¡Estamos trabajando en encontrar un mejor modelo!: '):\n",
    "    x_train,x_test,y_train,y_test=train_test_split(X_3,Y_3,test_size=0.25)\n",
    "    x_train = tf.convert_to_tensor(x_train)\n",
    "    x_test = tf.convert_to_tensor(x_test)\n",
    "    y_train = tf.convert_to_tensor(y_train)\n",
    "    y_test = tf.convert_to_tensor(y_test)\n",
    "\n",
    "    model_=build_model_regression(0.01)\n",
    "    hist = model_.fit(x_train, y_train,\n",
    "            batch_size=100,\n",
    "            epochs= 50,\n",
    "            verbose = 0)\n",
    "    Y_3_p = model_.predict(tf.convert_to_tensor(X_3), verbose = 0)\n",
    "    calif = mean_squared_error(Y_3, Y_3_p, squared=False)\n",
    "    if min_calif > calif:\n",
    "        min_calif = calif\n",
    "        hist_3 = hist\n",
    "        model_3 = model_\n",
    "        x_train_3 = x_train\n",
    "        y_train_3 = y_train\n",
    "        x_test_3 = x_test\n",
    "        y_test_3 = y_test\n",
    "model_3.save('model_3.h5')\n",
    "print('Hemos encontrado el mejor modelo, lo puedes encontrar como \"model_3.h5\"')"
   ]
  },
  {
   "cell_type": "code",
   "execution_count": 16,
   "metadata": {},
   "outputs": [
    {
     "name": "stdout",
     "output_type": "stream",
     "text": [
      "RMSE: 0.25312680226811324 0.24431649149364038 0.2759083372353149\n",
      "MSE: 0.0640731780264805 0.059690548015762054 0.07612541055595626\n",
      "MAE: 0.24444159410264765 0.23801775464144628 0.2621071526209514\n",
      "R2: -4.353453143307906 -2.838595516324198 -40.7451174624713\n"
     ]
    },
    {
     "data": {
      "application/vnd.plotly.v1+json": {
       "config": {
        "plotlyServerURL": "https://plot.ly"
       },
       "data": [
        {
         "line": {
          "color": "rgba(0,0,0,0)"
         },
         "mode": "lines",
         "showlegend": false,
         "type": "scatter",
         "y": [
          4.9977803230285645,
          4.979886054992676,
          4.9380879402160645,
          4.899601459503174,
          4.839513778686523,
          4.78523063659668,
          4.781062602996826,
          4.762642860412598,
          4.745430946350098,
          4.740636348724365,
          4.729091167449951,
          4.700586795806885,
          4.664079189300537,
          4.623781204223633,
          4.588351726531982
         ]
        },
        {
         "fill": "tonexty",
         "line": {
          "color": "rgba(100,100,255,1)",
          "width": 0
         },
         "mode": "lines",
         "showlegend": false,
         "type": "scatter",
         "y": [
          3.9852728843688965,
          3.967378616333008,
          3.9255805015563965,
          3.887094020843506,
          3.8270063400268555,
          3.7727231979370117,
          3.768555164337158,
          3.7501354217529297,
          3.7329235076904297,
          3.7281289100646973,
          3.716583728790283,
          3.688079357147217,
          3.651571750640869,
          3.611273765563965,
          3.5758442878723145
         ]
        },
        {
         "line": {
          "color": "black"
         },
         "mode": "markers",
         "name": "Real",
         "type": "scatter",
         "y": [
          4.255,
          4.165333333333333,
          4.143666666666666,
          3.989333333333333,
          4.078333333333333,
          4.099,
          4.139,
          4.066666666666666,
          4.0296666666666665,
          3.977,
          3.9526666666666666,
          3.9410000000000003,
          3.8636666666666666,
          3.8793333333333333,
          3.9356666666666666
         ]
        },
        {
         "line": {
          "color": "rgb(50,50,255)"
         },
         "name": "Model",
         "type": "scatter",
         "y": [
          4.4915266036987305,
          4.473632335662842,
          4.4318342208862305,
          4.39334774017334,
          4.3332600593566895,
          4.278976917266846,
          4.274808883666992,
          4.256389141082764,
          4.239177227020264,
          4.234382629394531,
          4.222837448120117,
          4.194333076477051,
          4.157825469970703,
          4.117527484893799,
          4.082098007202148
         ]
        }
       ],
       "layout": {
        "template": {
         "data": {
          "bar": [
           {
            "error_x": {
             "color": "#2a3f5f"
            },
            "error_y": {
             "color": "#2a3f5f"
            },
            "marker": {
             "line": {
              "color": "#E5ECF6",
              "width": 0.5
             },
             "pattern": {
              "fillmode": "overlay",
              "size": 10,
              "solidity": 0.2
             }
            },
            "type": "bar"
           }
          ],
          "barpolar": [
           {
            "marker": {
             "line": {
              "color": "#E5ECF6",
              "width": 0.5
             },
             "pattern": {
              "fillmode": "overlay",
              "size": 10,
              "solidity": 0.2
             }
            },
            "type": "barpolar"
           }
          ],
          "carpet": [
           {
            "aaxis": {
             "endlinecolor": "#2a3f5f",
             "gridcolor": "white",
             "linecolor": "white",
             "minorgridcolor": "white",
             "startlinecolor": "#2a3f5f"
            },
            "baxis": {
             "endlinecolor": "#2a3f5f",
             "gridcolor": "white",
             "linecolor": "white",
             "minorgridcolor": "white",
             "startlinecolor": "#2a3f5f"
            },
            "type": "carpet"
           }
          ],
          "choropleth": [
           {
            "colorbar": {
             "outlinewidth": 0,
             "ticks": ""
            },
            "type": "choropleth"
           }
          ],
          "contour": [
           {
            "colorbar": {
             "outlinewidth": 0,
             "ticks": ""
            },
            "colorscale": [
             [
              0,
              "#0d0887"
             ],
             [
              0.1111111111111111,
              "#46039f"
             ],
             [
              0.2222222222222222,
              "#7201a8"
             ],
             [
              0.3333333333333333,
              "#9c179e"
             ],
             [
              0.4444444444444444,
              "#bd3786"
             ],
             [
              0.5555555555555556,
              "#d8576b"
             ],
             [
              0.6666666666666666,
              "#ed7953"
             ],
             [
              0.7777777777777778,
              "#fb9f3a"
             ],
             [
              0.8888888888888888,
              "#fdca26"
             ],
             [
              1,
              "#f0f921"
             ]
            ],
            "type": "contour"
           }
          ],
          "contourcarpet": [
           {
            "colorbar": {
             "outlinewidth": 0,
             "ticks": ""
            },
            "type": "contourcarpet"
           }
          ],
          "heatmap": [
           {
            "colorbar": {
             "outlinewidth": 0,
             "ticks": ""
            },
            "colorscale": [
             [
              0,
              "#0d0887"
             ],
             [
              0.1111111111111111,
              "#46039f"
             ],
             [
              0.2222222222222222,
              "#7201a8"
             ],
             [
              0.3333333333333333,
              "#9c179e"
             ],
             [
              0.4444444444444444,
              "#bd3786"
             ],
             [
              0.5555555555555556,
              "#d8576b"
             ],
             [
              0.6666666666666666,
              "#ed7953"
             ],
             [
              0.7777777777777778,
              "#fb9f3a"
             ],
             [
              0.8888888888888888,
              "#fdca26"
             ],
             [
              1,
              "#f0f921"
             ]
            ],
            "type": "heatmap"
           }
          ],
          "heatmapgl": [
           {
            "colorbar": {
             "outlinewidth": 0,
             "ticks": ""
            },
            "colorscale": [
             [
              0,
              "#0d0887"
             ],
             [
              0.1111111111111111,
              "#46039f"
             ],
             [
              0.2222222222222222,
              "#7201a8"
             ],
             [
              0.3333333333333333,
              "#9c179e"
             ],
             [
              0.4444444444444444,
              "#bd3786"
             ],
             [
              0.5555555555555556,
              "#d8576b"
             ],
             [
              0.6666666666666666,
              "#ed7953"
             ],
             [
              0.7777777777777778,
              "#fb9f3a"
             ],
             [
              0.8888888888888888,
              "#fdca26"
             ],
             [
              1,
              "#f0f921"
             ]
            ],
            "type": "heatmapgl"
           }
          ],
          "histogram": [
           {
            "marker": {
             "pattern": {
              "fillmode": "overlay",
              "size": 10,
              "solidity": 0.2
             }
            },
            "type": "histogram"
           }
          ],
          "histogram2d": [
           {
            "colorbar": {
             "outlinewidth": 0,
             "ticks": ""
            },
            "colorscale": [
             [
              0,
              "#0d0887"
             ],
             [
              0.1111111111111111,
              "#46039f"
             ],
             [
              0.2222222222222222,
              "#7201a8"
             ],
             [
              0.3333333333333333,
              "#9c179e"
             ],
             [
              0.4444444444444444,
              "#bd3786"
             ],
             [
              0.5555555555555556,
              "#d8576b"
             ],
             [
              0.6666666666666666,
              "#ed7953"
             ],
             [
              0.7777777777777778,
              "#fb9f3a"
             ],
             [
              0.8888888888888888,
              "#fdca26"
             ],
             [
              1,
              "#f0f921"
             ]
            ],
            "type": "histogram2d"
           }
          ],
          "histogram2dcontour": [
           {
            "colorbar": {
             "outlinewidth": 0,
             "ticks": ""
            },
            "colorscale": [
             [
              0,
              "#0d0887"
             ],
             [
              0.1111111111111111,
              "#46039f"
             ],
             [
              0.2222222222222222,
              "#7201a8"
             ],
             [
              0.3333333333333333,
              "#9c179e"
             ],
             [
              0.4444444444444444,
              "#bd3786"
             ],
             [
              0.5555555555555556,
              "#d8576b"
             ],
             [
              0.6666666666666666,
              "#ed7953"
             ],
             [
              0.7777777777777778,
              "#fb9f3a"
             ],
             [
              0.8888888888888888,
              "#fdca26"
             ],
             [
              1,
              "#f0f921"
             ]
            ],
            "type": "histogram2dcontour"
           }
          ],
          "mesh3d": [
           {
            "colorbar": {
             "outlinewidth": 0,
             "ticks": ""
            },
            "type": "mesh3d"
           }
          ],
          "parcoords": [
           {
            "line": {
             "colorbar": {
              "outlinewidth": 0,
              "ticks": ""
             }
            },
            "type": "parcoords"
           }
          ],
          "pie": [
           {
            "automargin": true,
            "type": "pie"
           }
          ],
          "scatter": [
           {
            "fillpattern": {
             "fillmode": "overlay",
             "size": 10,
             "solidity": 0.2
            },
            "type": "scatter"
           }
          ],
          "scatter3d": [
           {
            "line": {
             "colorbar": {
              "outlinewidth": 0,
              "ticks": ""
             }
            },
            "marker": {
             "colorbar": {
              "outlinewidth": 0,
              "ticks": ""
             }
            },
            "type": "scatter3d"
           }
          ],
          "scattercarpet": [
           {
            "marker": {
             "colorbar": {
              "outlinewidth": 0,
              "ticks": ""
             }
            },
            "type": "scattercarpet"
           }
          ],
          "scattergeo": [
           {
            "marker": {
             "colorbar": {
              "outlinewidth": 0,
              "ticks": ""
             }
            },
            "type": "scattergeo"
           }
          ],
          "scattergl": [
           {
            "marker": {
             "colorbar": {
              "outlinewidth": 0,
              "ticks": ""
             }
            },
            "type": "scattergl"
           }
          ],
          "scattermapbox": [
           {
            "marker": {
             "colorbar": {
              "outlinewidth": 0,
              "ticks": ""
             }
            },
            "type": "scattermapbox"
           }
          ],
          "scatterpolar": [
           {
            "marker": {
             "colorbar": {
              "outlinewidth": 0,
              "ticks": ""
             }
            },
            "type": "scatterpolar"
           }
          ],
          "scatterpolargl": [
           {
            "marker": {
             "colorbar": {
              "outlinewidth": 0,
              "ticks": ""
             }
            },
            "type": "scatterpolargl"
           }
          ],
          "scatterternary": [
           {
            "marker": {
             "colorbar": {
              "outlinewidth": 0,
              "ticks": ""
             }
            },
            "type": "scatterternary"
           }
          ],
          "surface": [
           {
            "colorbar": {
             "outlinewidth": 0,
             "ticks": ""
            },
            "colorscale": [
             [
              0,
              "#0d0887"
             ],
             [
              0.1111111111111111,
              "#46039f"
             ],
             [
              0.2222222222222222,
              "#7201a8"
             ],
             [
              0.3333333333333333,
              "#9c179e"
             ],
             [
              0.4444444444444444,
              "#bd3786"
             ],
             [
              0.5555555555555556,
              "#d8576b"
             ],
             [
              0.6666666666666666,
              "#ed7953"
             ],
             [
              0.7777777777777778,
              "#fb9f3a"
             ],
             [
              0.8888888888888888,
              "#fdca26"
             ],
             [
              1,
              "#f0f921"
             ]
            ],
            "type": "surface"
           }
          ],
          "table": [
           {
            "cells": {
             "fill": {
              "color": "#EBF0F8"
             },
             "line": {
              "color": "white"
             }
            },
            "header": {
             "fill": {
              "color": "#C8D4E3"
             },
             "line": {
              "color": "white"
             }
            },
            "type": "table"
           }
          ]
         },
         "layout": {
          "annotationdefaults": {
           "arrowcolor": "#2a3f5f",
           "arrowhead": 0,
           "arrowwidth": 1
          },
          "autotypenumbers": "strict",
          "coloraxis": {
           "colorbar": {
            "outlinewidth": 0,
            "ticks": ""
           }
          },
          "colorscale": {
           "diverging": [
            [
             0,
             "#8e0152"
            ],
            [
             0.1,
             "#c51b7d"
            ],
            [
             0.2,
             "#de77ae"
            ],
            [
             0.3,
             "#f1b6da"
            ],
            [
             0.4,
             "#fde0ef"
            ],
            [
             0.5,
             "#f7f7f7"
            ],
            [
             0.6,
             "#e6f5d0"
            ],
            [
             0.7,
             "#b8e186"
            ],
            [
             0.8,
             "#7fbc41"
            ],
            [
             0.9,
             "#4d9221"
            ],
            [
             1,
             "#276419"
            ]
           ],
           "sequential": [
            [
             0,
             "#0d0887"
            ],
            [
             0.1111111111111111,
             "#46039f"
            ],
            [
             0.2222222222222222,
             "#7201a8"
            ],
            [
             0.3333333333333333,
             "#9c179e"
            ],
            [
             0.4444444444444444,
             "#bd3786"
            ],
            [
             0.5555555555555556,
             "#d8576b"
            ],
            [
             0.6666666666666666,
             "#ed7953"
            ],
            [
             0.7777777777777778,
             "#fb9f3a"
            ],
            [
             0.8888888888888888,
             "#fdca26"
            ],
            [
             1,
             "#f0f921"
            ]
           ],
           "sequentialminus": [
            [
             0,
             "#0d0887"
            ],
            [
             0.1111111111111111,
             "#46039f"
            ],
            [
             0.2222222222222222,
             "#7201a8"
            ],
            [
             0.3333333333333333,
             "#9c179e"
            ],
            [
             0.4444444444444444,
             "#bd3786"
            ],
            [
             0.5555555555555556,
             "#d8576b"
            ],
            [
             0.6666666666666666,
             "#ed7953"
            ],
            [
             0.7777777777777778,
             "#fb9f3a"
            ],
            [
             0.8888888888888888,
             "#fdca26"
            ],
            [
             1,
             "#f0f921"
            ]
           ]
          },
          "colorway": [
           "#636efa",
           "#EF553B",
           "#00cc96",
           "#ab63fa",
           "#FFA15A",
           "#19d3f3",
           "#FF6692",
           "#B6E880",
           "#FF97FF",
           "#FECB52"
          ],
          "font": {
           "color": "#2a3f5f"
          },
          "geo": {
           "bgcolor": "white",
           "lakecolor": "white",
           "landcolor": "#E5ECF6",
           "showlakes": true,
           "showland": true,
           "subunitcolor": "white"
          },
          "hoverlabel": {
           "align": "left"
          },
          "hovermode": "closest",
          "mapbox": {
           "style": "light"
          },
          "paper_bgcolor": "white",
          "plot_bgcolor": "#E5ECF6",
          "polar": {
           "angularaxis": {
            "gridcolor": "white",
            "linecolor": "white",
            "ticks": ""
           },
           "bgcolor": "#E5ECF6",
           "radialaxis": {
            "gridcolor": "white",
            "linecolor": "white",
            "ticks": ""
           }
          },
          "scene": {
           "xaxis": {
            "backgroundcolor": "#E5ECF6",
            "gridcolor": "white",
            "gridwidth": 2,
            "linecolor": "white",
            "showbackground": true,
            "ticks": "",
            "zerolinecolor": "white"
           },
           "yaxis": {
            "backgroundcolor": "#E5ECF6",
            "gridcolor": "white",
            "gridwidth": 2,
            "linecolor": "white",
            "showbackground": true,
            "ticks": "",
            "zerolinecolor": "white"
           },
           "zaxis": {
            "backgroundcolor": "#E5ECF6",
            "gridcolor": "white",
            "gridwidth": 2,
            "linecolor": "white",
            "showbackground": true,
            "ticks": "",
            "zerolinecolor": "white"
           }
          },
          "shapedefaults": {
           "line": {
            "color": "#2a3f5f"
           }
          },
          "ternary": {
           "aaxis": {
            "gridcolor": "white",
            "linecolor": "white",
            "ticks": ""
           },
           "baxis": {
            "gridcolor": "white",
            "linecolor": "white",
            "ticks": ""
           },
           "bgcolor": "#E5ECF6",
           "caxis": {
            "gridcolor": "white",
            "linecolor": "white",
            "ticks": ""
           }
          },
          "title": {
           "x": 0.05
          },
          "xaxis": {
           "automargin": true,
           "gridcolor": "white",
           "linecolor": "white",
           "ticks": "",
           "title": {
            "standoff": 15
           },
           "zerolinecolor": "white",
           "zerolinewidth": 2
          },
          "yaxis": {
           "automargin": true,
           "gridcolor": "white",
           "linecolor": "white",
           "ticks": "",
           "title": {
            "standoff": 15
           },
           "zerolinecolor": "white",
           "zerolinewidth": 2
          }
         }
        }
       }
      }
     },
     "metadata": {},
     "output_type": "display_data"
    }
   ],
   "source": [
    "# Graficamos Resultados\n",
    "model = models.load_model('model_3.h5')\n",
    "Y_3_p = model.predict(tf.convert_to_tensor(X_3), verbose = 0)\n",
    "rmse_3 = mean_squared_error(Y_3, Y_3_p, squared=False)\n",
    "mse_3 = mean_squared_error(Y_3, Y_3_p)\n",
    "mae_3 = mean_absolute_error(Y_3, Y_3_p)\n",
    "r2_3 = r2_score(Y_3, Y_3_p)\n",
    "y_train_3_p = model.predict(tf.convert_to_tensor(x_train_3), verbose = 0)\n",
    "rmse_3_tr = mean_squared_error(y_train_3, y_train_3_p, squared=False)\n",
    "mse_3_tr = mean_squared_error(y_train_3, y_train_3_p)\n",
    "mae_3_tr = mean_absolute_error(y_train_3, y_train_3_p)\n",
    "r2_3_tr = r2_score(y_train_3, y_train_3_p)\n",
    "y_test_3_p = model.predict(tf.convert_to_tensor(x_test_3), verbose = 0)\n",
    "rmse_3_te = mean_squared_error(y_test_3, y_test_3_p, squared=False)\n",
    "mse_3_te = mean_squared_error(y_test_3, y_test_3_p)\n",
    "mae_3_te = mean_absolute_error(y_test_3, y_test_3_p)\n",
    "r2_3_te = r2_score(y_test_3, y_test_3_p)\n",
    "\n",
    "print('RMSE:',rmse_3, rmse_3_tr, rmse_3_te)\n",
    "print('MSE:',mse_3, mse_3_tr, mse_3_te)\n",
    "print('MAE:',mae_3, mae_3_tr, mae_3_te)\n",
    "print('R2:',r2_3, r2_3_tr, r2_3_te)\n",
    "\n",
    "\n",
    "fig = go.Figure()\n",
    "fig.add_trace(go.Scatter(y = Y_3_p.reshape(-1)+2*rmse_3, mode = 'lines',line_color='rgba(0,0,0,0)',showlegend=False))\n",
    "fig.add_trace(go.Scatter(y = Y_3_p.reshape(-1)-2*rmse_3, fill='tonexty', mode = 'lines',line_color='rgba(100,100,255,1)', line_width=0,showlegend=False))\n",
    "fig.add_trace(go.Scatter(y = Y_3.reshape(-1), name='Real', mode = 'markers', line_color='black'))\n",
    "fig.add_trace(go.Scatter(y = Y_3_p.reshape(-1), name='Model', line_color='rgb(50,50,255)'))\n",
    "fig.show()"
   ]
  },
  {
   "cell_type": "markdown",
   "metadata": {},
   "source": [
    "----\n",
    "## Ts4"
   ]
  },
  {
   "cell_type": "code",
   "execution_count": 17,
   "metadata": {},
   "outputs": [
    {
     "name": "stderr",
     "output_type": "stream",
     "text": [
      "¡Estamos trabajando en encontrar un mejor modelo!: 100%|██████████| 30/30 [00:31<00:00,  1.05s/it]"
     ]
    },
    {
     "name": "stdout",
     "output_type": "stream",
     "text": [
      "Hemos encontrado el mejor modelo, lo puedes encontrar como \"model_4.h5\"\n"
     ]
    },
    {
     "name": "stderr",
     "output_type": "stream",
     "text": [
      "\n"
     ]
    }
   ],
   "source": [
    "# Entrenamos modelo\n",
    "intentos = 30\n",
    "min_calif = 9999999\n",
    "for i in tqdm(range(intentos), desc='¡Estamos trabajando en encontrar un mejor modelo!: '):\n",
    "    x_train,x_test,y_train,y_test=train_test_split(X_4,Y_4,test_size=0.25)\n",
    "    x_train = tf.convert_to_tensor(x_train)\n",
    "    x_test = tf.convert_to_tensor(x_test)\n",
    "    y_train = tf.convert_to_tensor(y_train)\n",
    "    y_test = tf.convert_to_tensor(y_test)\n",
    "\n",
    "    model_=build_model_regression(lr_=0.001)\n",
    "    hist = model_.fit(x_train, y_train,\n",
    "            batch_size=100,\n",
    "            epochs= 50,\n",
    "            verbose = 0)\n",
    "    Y_4_p = model_.predict(tf.convert_to_tensor(X_4), verbose = 0)\n",
    "    calif = mean_squared_error(Y_4, Y_4_p, squared=False)\n",
    "    if min_calif > calif:\n",
    "        min_calif = calif\n",
    "        hist_4 = hist\n",
    "        model_4 = model_\n",
    "        x_train_4 = x_train\n",
    "        y_train_4 = y_train\n",
    "        x_test_4 = x_test\n",
    "        y_test_4 = y_test\n",
    "model_4.save('model_4.h5')\n",
    "print('Hemos encontrado el mejor modelo, lo puedes encontrar como \"model_4.h5\"')"
   ]
  },
  {
   "cell_type": "code",
   "execution_count": 18,
   "metadata": {},
   "outputs": [
    {
     "name": "stdout",
     "output_type": "stream",
     "text": [
      "RMSE: 0.227750120808076 0.2048540415490571 0.2812626891326804\n",
      "MSE: 0.051870117528093215 0.04196517833898281 0.0791087002981468\n",
      "MAE: 0.18835649503843116 0.16517357799899007 0.2521095168968941\n",
      "R2: 0.9893468391716236 0.9914505055627221 0.9796459477944228\n"
     ]
    },
    {
     "data": {
      "application/vnd.plotly.v1+json": {
       "config": {
        "plotlyServerURL": "https://plot.ly"
       },
       "data": [
        {
         "line": {
          "color": "rgba(0,0,0,0)"
         },
         "mode": "lines",
         "showlegend": false,
         "type": "scatter",
         "y": [
          83.43402099609375,
          83.91487884521484,
          84.49305725097656,
          85.26343536376953,
          85.88758850097656,
          86.54035186767578,
          87.09172058105469,
          87.67726135253906,
          88.18427276611328,
          88.76748657226562,
          89.22891235351562,
          89.71942138671875,
          90.16754913330078,
          90.55339050292969,
          90.90338897705078
         ]
        },
        {
         "fill": "tonexty",
         "line": {
          "color": "rgba(100,100,255,1)",
          "width": 0
         },
         "mode": "lines",
         "showlegend": false,
         "type": "scatter",
         "y": [
          82.52302551269531,
          83.0038833618164,
          83.58206176757812,
          84.3524398803711,
          84.97659301757812,
          85.62935638427734,
          86.18072509765625,
          86.76626586914062,
          87.27327728271484,
          87.85649108886719,
          88.31791687011719,
          88.80842590332031,
          89.25655364990234,
          89.64239501953125,
          89.99239349365234
         ]
        },
        {
         "line": {
          "color": "black"
         },
         "mode": "markers",
         "name": "Real",
         "type": "scatter",
         "y": [
          82.85220903225806,
          83.76920483870968,
          84.46507338709677,
          85.11655919354838,
          85.5103420967742,
          86.21060629032259,
          86.67683177419354,
          87.26849258064516,
          87.75136419354838,
          88.20317322580645,
          88.67543677419356,
          89.09992,
          89.4039464516129,
          89.75067225806453,
          90.13487032258065
         ]
        },
        {
         "line": {
          "color": "rgb(50,50,255)"
         },
         "name": "Model",
         "type": "scatter",
         "y": [
          82.97852325439453,
          83.45938110351562,
          84.03755950927734,
          84.80793762207031,
          85.43209075927734,
          86.08485412597656,
          86.63622283935547,
          87.22176361083984,
          87.72877502441406,
          88.3119888305664,
          88.7734146118164,
          89.26392364501953,
          89.71205139160156,
          90.09789276123047,
          90.44789123535156
         ]
        }
       ],
       "layout": {
        "template": {
         "data": {
          "bar": [
           {
            "error_x": {
             "color": "#2a3f5f"
            },
            "error_y": {
             "color": "#2a3f5f"
            },
            "marker": {
             "line": {
              "color": "#E5ECF6",
              "width": 0.5
             },
             "pattern": {
              "fillmode": "overlay",
              "size": 10,
              "solidity": 0.2
             }
            },
            "type": "bar"
           }
          ],
          "barpolar": [
           {
            "marker": {
             "line": {
              "color": "#E5ECF6",
              "width": 0.5
             },
             "pattern": {
              "fillmode": "overlay",
              "size": 10,
              "solidity": 0.2
             }
            },
            "type": "barpolar"
           }
          ],
          "carpet": [
           {
            "aaxis": {
             "endlinecolor": "#2a3f5f",
             "gridcolor": "white",
             "linecolor": "white",
             "minorgridcolor": "white",
             "startlinecolor": "#2a3f5f"
            },
            "baxis": {
             "endlinecolor": "#2a3f5f",
             "gridcolor": "white",
             "linecolor": "white",
             "minorgridcolor": "white",
             "startlinecolor": "#2a3f5f"
            },
            "type": "carpet"
           }
          ],
          "choropleth": [
           {
            "colorbar": {
             "outlinewidth": 0,
             "ticks": ""
            },
            "type": "choropleth"
           }
          ],
          "contour": [
           {
            "colorbar": {
             "outlinewidth": 0,
             "ticks": ""
            },
            "colorscale": [
             [
              0,
              "#0d0887"
             ],
             [
              0.1111111111111111,
              "#46039f"
             ],
             [
              0.2222222222222222,
              "#7201a8"
             ],
             [
              0.3333333333333333,
              "#9c179e"
             ],
             [
              0.4444444444444444,
              "#bd3786"
             ],
             [
              0.5555555555555556,
              "#d8576b"
             ],
             [
              0.6666666666666666,
              "#ed7953"
             ],
             [
              0.7777777777777778,
              "#fb9f3a"
             ],
             [
              0.8888888888888888,
              "#fdca26"
             ],
             [
              1,
              "#f0f921"
             ]
            ],
            "type": "contour"
           }
          ],
          "contourcarpet": [
           {
            "colorbar": {
             "outlinewidth": 0,
             "ticks": ""
            },
            "type": "contourcarpet"
           }
          ],
          "heatmap": [
           {
            "colorbar": {
             "outlinewidth": 0,
             "ticks": ""
            },
            "colorscale": [
             [
              0,
              "#0d0887"
             ],
             [
              0.1111111111111111,
              "#46039f"
             ],
             [
              0.2222222222222222,
              "#7201a8"
             ],
             [
              0.3333333333333333,
              "#9c179e"
             ],
             [
              0.4444444444444444,
              "#bd3786"
             ],
             [
              0.5555555555555556,
              "#d8576b"
             ],
             [
              0.6666666666666666,
              "#ed7953"
             ],
             [
              0.7777777777777778,
              "#fb9f3a"
             ],
             [
              0.8888888888888888,
              "#fdca26"
             ],
             [
              1,
              "#f0f921"
             ]
            ],
            "type": "heatmap"
           }
          ],
          "heatmapgl": [
           {
            "colorbar": {
             "outlinewidth": 0,
             "ticks": ""
            },
            "colorscale": [
             [
              0,
              "#0d0887"
             ],
             [
              0.1111111111111111,
              "#46039f"
             ],
             [
              0.2222222222222222,
              "#7201a8"
             ],
             [
              0.3333333333333333,
              "#9c179e"
             ],
             [
              0.4444444444444444,
              "#bd3786"
             ],
             [
              0.5555555555555556,
              "#d8576b"
             ],
             [
              0.6666666666666666,
              "#ed7953"
             ],
             [
              0.7777777777777778,
              "#fb9f3a"
             ],
             [
              0.8888888888888888,
              "#fdca26"
             ],
             [
              1,
              "#f0f921"
             ]
            ],
            "type": "heatmapgl"
           }
          ],
          "histogram": [
           {
            "marker": {
             "pattern": {
              "fillmode": "overlay",
              "size": 10,
              "solidity": 0.2
             }
            },
            "type": "histogram"
           }
          ],
          "histogram2d": [
           {
            "colorbar": {
             "outlinewidth": 0,
             "ticks": ""
            },
            "colorscale": [
             [
              0,
              "#0d0887"
             ],
             [
              0.1111111111111111,
              "#46039f"
             ],
             [
              0.2222222222222222,
              "#7201a8"
             ],
             [
              0.3333333333333333,
              "#9c179e"
             ],
             [
              0.4444444444444444,
              "#bd3786"
             ],
             [
              0.5555555555555556,
              "#d8576b"
             ],
             [
              0.6666666666666666,
              "#ed7953"
             ],
             [
              0.7777777777777778,
              "#fb9f3a"
             ],
             [
              0.8888888888888888,
              "#fdca26"
             ],
             [
              1,
              "#f0f921"
             ]
            ],
            "type": "histogram2d"
           }
          ],
          "histogram2dcontour": [
           {
            "colorbar": {
             "outlinewidth": 0,
             "ticks": ""
            },
            "colorscale": [
             [
              0,
              "#0d0887"
             ],
             [
              0.1111111111111111,
              "#46039f"
             ],
             [
              0.2222222222222222,
              "#7201a8"
             ],
             [
              0.3333333333333333,
              "#9c179e"
             ],
             [
              0.4444444444444444,
              "#bd3786"
             ],
             [
              0.5555555555555556,
              "#d8576b"
             ],
             [
              0.6666666666666666,
              "#ed7953"
             ],
             [
              0.7777777777777778,
              "#fb9f3a"
             ],
             [
              0.8888888888888888,
              "#fdca26"
             ],
             [
              1,
              "#f0f921"
             ]
            ],
            "type": "histogram2dcontour"
           }
          ],
          "mesh3d": [
           {
            "colorbar": {
             "outlinewidth": 0,
             "ticks": ""
            },
            "type": "mesh3d"
           }
          ],
          "parcoords": [
           {
            "line": {
             "colorbar": {
              "outlinewidth": 0,
              "ticks": ""
             }
            },
            "type": "parcoords"
           }
          ],
          "pie": [
           {
            "automargin": true,
            "type": "pie"
           }
          ],
          "scatter": [
           {
            "fillpattern": {
             "fillmode": "overlay",
             "size": 10,
             "solidity": 0.2
            },
            "type": "scatter"
           }
          ],
          "scatter3d": [
           {
            "line": {
             "colorbar": {
              "outlinewidth": 0,
              "ticks": ""
             }
            },
            "marker": {
             "colorbar": {
              "outlinewidth": 0,
              "ticks": ""
             }
            },
            "type": "scatter3d"
           }
          ],
          "scattercarpet": [
           {
            "marker": {
             "colorbar": {
              "outlinewidth": 0,
              "ticks": ""
             }
            },
            "type": "scattercarpet"
           }
          ],
          "scattergeo": [
           {
            "marker": {
             "colorbar": {
              "outlinewidth": 0,
              "ticks": ""
             }
            },
            "type": "scattergeo"
           }
          ],
          "scattergl": [
           {
            "marker": {
             "colorbar": {
              "outlinewidth": 0,
              "ticks": ""
             }
            },
            "type": "scattergl"
           }
          ],
          "scattermapbox": [
           {
            "marker": {
             "colorbar": {
              "outlinewidth": 0,
              "ticks": ""
             }
            },
            "type": "scattermapbox"
           }
          ],
          "scatterpolar": [
           {
            "marker": {
             "colorbar": {
              "outlinewidth": 0,
              "ticks": ""
             }
            },
            "type": "scatterpolar"
           }
          ],
          "scatterpolargl": [
           {
            "marker": {
             "colorbar": {
              "outlinewidth": 0,
              "ticks": ""
             }
            },
            "type": "scatterpolargl"
           }
          ],
          "scatterternary": [
           {
            "marker": {
             "colorbar": {
              "outlinewidth": 0,
              "ticks": ""
             }
            },
            "type": "scatterternary"
           }
          ],
          "surface": [
           {
            "colorbar": {
             "outlinewidth": 0,
             "ticks": ""
            },
            "colorscale": [
             [
              0,
              "#0d0887"
             ],
             [
              0.1111111111111111,
              "#46039f"
             ],
             [
              0.2222222222222222,
              "#7201a8"
             ],
             [
              0.3333333333333333,
              "#9c179e"
             ],
             [
              0.4444444444444444,
              "#bd3786"
             ],
             [
              0.5555555555555556,
              "#d8576b"
             ],
             [
              0.6666666666666666,
              "#ed7953"
             ],
             [
              0.7777777777777778,
              "#fb9f3a"
             ],
             [
              0.8888888888888888,
              "#fdca26"
             ],
             [
              1,
              "#f0f921"
             ]
            ],
            "type": "surface"
           }
          ],
          "table": [
           {
            "cells": {
             "fill": {
              "color": "#EBF0F8"
             },
             "line": {
              "color": "white"
             }
            },
            "header": {
             "fill": {
              "color": "#C8D4E3"
             },
             "line": {
              "color": "white"
             }
            },
            "type": "table"
           }
          ]
         },
         "layout": {
          "annotationdefaults": {
           "arrowcolor": "#2a3f5f",
           "arrowhead": 0,
           "arrowwidth": 1
          },
          "autotypenumbers": "strict",
          "coloraxis": {
           "colorbar": {
            "outlinewidth": 0,
            "ticks": ""
           }
          },
          "colorscale": {
           "diverging": [
            [
             0,
             "#8e0152"
            ],
            [
             0.1,
             "#c51b7d"
            ],
            [
             0.2,
             "#de77ae"
            ],
            [
             0.3,
             "#f1b6da"
            ],
            [
             0.4,
             "#fde0ef"
            ],
            [
             0.5,
             "#f7f7f7"
            ],
            [
             0.6,
             "#e6f5d0"
            ],
            [
             0.7,
             "#b8e186"
            ],
            [
             0.8,
             "#7fbc41"
            ],
            [
             0.9,
             "#4d9221"
            ],
            [
             1,
             "#276419"
            ]
           ],
           "sequential": [
            [
             0,
             "#0d0887"
            ],
            [
             0.1111111111111111,
             "#46039f"
            ],
            [
             0.2222222222222222,
             "#7201a8"
            ],
            [
             0.3333333333333333,
             "#9c179e"
            ],
            [
             0.4444444444444444,
             "#bd3786"
            ],
            [
             0.5555555555555556,
             "#d8576b"
            ],
            [
             0.6666666666666666,
             "#ed7953"
            ],
            [
             0.7777777777777778,
             "#fb9f3a"
            ],
            [
             0.8888888888888888,
             "#fdca26"
            ],
            [
             1,
             "#f0f921"
            ]
           ],
           "sequentialminus": [
            [
             0,
             "#0d0887"
            ],
            [
             0.1111111111111111,
             "#46039f"
            ],
            [
             0.2222222222222222,
             "#7201a8"
            ],
            [
             0.3333333333333333,
             "#9c179e"
            ],
            [
             0.4444444444444444,
             "#bd3786"
            ],
            [
             0.5555555555555556,
             "#d8576b"
            ],
            [
             0.6666666666666666,
             "#ed7953"
            ],
            [
             0.7777777777777778,
             "#fb9f3a"
            ],
            [
             0.8888888888888888,
             "#fdca26"
            ],
            [
             1,
             "#f0f921"
            ]
           ]
          },
          "colorway": [
           "#636efa",
           "#EF553B",
           "#00cc96",
           "#ab63fa",
           "#FFA15A",
           "#19d3f3",
           "#FF6692",
           "#B6E880",
           "#FF97FF",
           "#FECB52"
          ],
          "font": {
           "color": "#2a3f5f"
          },
          "geo": {
           "bgcolor": "white",
           "lakecolor": "white",
           "landcolor": "#E5ECF6",
           "showlakes": true,
           "showland": true,
           "subunitcolor": "white"
          },
          "hoverlabel": {
           "align": "left"
          },
          "hovermode": "closest",
          "mapbox": {
           "style": "light"
          },
          "paper_bgcolor": "white",
          "plot_bgcolor": "#E5ECF6",
          "polar": {
           "angularaxis": {
            "gridcolor": "white",
            "linecolor": "white",
            "ticks": ""
           },
           "bgcolor": "#E5ECF6",
           "radialaxis": {
            "gridcolor": "white",
            "linecolor": "white",
            "ticks": ""
           }
          },
          "scene": {
           "xaxis": {
            "backgroundcolor": "#E5ECF6",
            "gridcolor": "white",
            "gridwidth": 2,
            "linecolor": "white",
            "showbackground": true,
            "ticks": "",
            "zerolinecolor": "white"
           },
           "yaxis": {
            "backgroundcolor": "#E5ECF6",
            "gridcolor": "white",
            "gridwidth": 2,
            "linecolor": "white",
            "showbackground": true,
            "ticks": "",
            "zerolinecolor": "white"
           },
           "zaxis": {
            "backgroundcolor": "#E5ECF6",
            "gridcolor": "white",
            "gridwidth": 2,
            "linecolor": "white",
            "showbackground": true,
            "ticks": "",
            "zerolinecolor": "white"
           }
          },
          "shapedefaults": {
           "line": {
            "color": "#2a3f5f"
           }
          },
          "ternary": {
           "aaxis": {
            "gridcolor": "white",
            "linecolor": "white",
            "ticks": ""
           },
           "baxis": {
            "gridcolor": "white",
            "linecolor": "white",
            "ticks": ""
           },
           "bgcolor": "#E5ECF6",
           "caxis": {
            "gridcolor": "white",
            "linecolor": "white",
            "ticks": ""
           }
          },
          "title": {
           "x": 0.05
          },
          "xaxis": {
           "automargin": true,
           "gridcolor": "white",
           "linecolor": "white",
           "ticks": "",
           "title": {
            "standoff": 15
           },
           "zerolinecolor": "white",
           "zerolinewidth": 2
          },
          "yaxis": {
           "automargin": true,
           "gridcolor": "white",
           "linecolor": "white",
           "ticks": "",
           "title": {
            "standoff": 15
           },
           "zerolinecolor": "white",
           "zerolinewidth": 2
          }
         }
        }
       }
      }
     },
     "metadata": {},
     "output_type": "display_data"
    }
   ],
   "source": [
    "# Graficamos Resultados\n",
    "model = models.load_model('model_4.h5')\n",
    "Y_4_p = model.predict(tf.convert_to_tensor(X_4), verbose = 0)\n",
    "rmse_4 = mean_squared_error(Y_4, Y_4_p, squared=False)\n",
    "mse_4 = mean_squared_error(Y_4, Y_4_p)\n",
    "mae_4 = mean_absolute_error(Y_4, Y_4_p)\n",
    "r2_4 = r2_score(Y_4, Y_4_p)\n",
    "y_train_4_p = model.predict(tf.convert_to_tensor(x_train_4), verbose = 0)\n",
    "rmse_4_tr = mean_squared_error(y_train_4, y_train_4_p, squared=False)\n",
    "mse_4_tr = mean_squared_error(y_train_4, y_train_4_p)\n",
    "mae_4_tr = mean_absolute_error(y_train_4, y_train_4_p)\n",
    "r2_4_tr = r2_score(y_train_4, y_train_4_p)\n",
    "y_test_4_p = model.predict(tf.convert_to_tensor(x_test_4), verbose = 0)\n",
    "rmse_4_te = mean_squared_error(y_test_4, y_test_4_p, squared=False)\n",
    "mse_4_te = mean_squared_error(y_test_4, y_test_4_p)\n",
    "mae_4_te = mean_absolute_error(y_test_4, y_test_4_p)\n",
    "r2_4_te = r2_score(y_test_4, y_test_4_p)\n",
    "\n",
    "print('RMSE:',rmse_4, rmse_4_tr, rmse_4_te)\n",
    "print('MSE:',mse_4, mse_4_tr, mse_4_te)\n",
    "print('MAE:',mae_4, mae_4_tr, mae_4_te)\n",
    "print('R2:',r2_4, r2_4_tr, r2_4_te)\n",
    "\n",
    "\n",
    "fig = go.Figure()\n",
    "fig.add_trace(go.Scatter(y = Y_4_p.reshape(-1)+2*rmse_4, mode = 'lines',line_color='rgba(0,0,0,0)',showlegend=False))\n",
    "fig.add_trace(go.Scatter(y = Y_4_p.reshape(-1)-2*rmse_4, fill='tonexty', mode = 'lines',line_color='rgba(100,100,255,1)', line_width=0,showlegend=False))\n",
    "fig.add_trace(go.Scatter(y = Y_4.reshape(-1), name='Real', mode = 'markers', line_color='black'))\n",
    "fig.add_trace(go.Scatter(y = Y_4_p.reshape(-1), name='Model', line_color='rgb(50,50,255)'))\n",
    "fig.show()"
   ]
  },
  {
   "cell_type": "markdown",
   "metadata": {},
   "source": [
    "----\n",
    "## Ts5"
   ]
  },
  {
   "cell_type": "code",
   "execution_count": 19,
   "metadata": {},
   "outputs": [
    {
     "name": "stderr",
     "output_type": "stream",
     "text": [
      "¡Estamos trabajando en encontrar un mejor modelo!: 100%|██████████| 30/30 [00:31<00:00,  1.06s/it]"
     ]
    },
    {
     "name": "stdout",
     "output_type": "stream",
     "text": [
      "Hemos encontrado el mejor modelo, lo puedes encontrar como \"model_5.h5\"\n"
     ]
    },
    {
     "name": "stderr",
     "output_type": "stream",
     "text": [
      "\n"
     ]
    }
   ],
   "source": [
    "# Entrenamos modelo\n",
    "intentos = 30\n",
    "min_calif = 9999999\n",
    "for i in tqdm(range(intentos), desc='¡Estamos trabajando en encontrar un mejor modelo!: '):\n",
    "    x_train,x_test,y_train,y_test=train_test_split(X_5,Y_5,test_size=0.25)\n",
    "    x_train = tf.convert_to_tensor(x_train)\n",
    "    x_test = tf.convert_to_tensor(x_test)\n",
    "    y_train = tf.convert_to_tensor(y_train)\n",
    "    y_test = tf.convert_to_tensor(y_test)\n",
    "\n",
    "    model_=build_model_regression(0.001)\n",
    "    hist = model_.fit(x_train, y_train,\n",
    "            batch_size=100,\n",
    "            epochs= 50,\n",
    "            verbose = 0)\n",
    "    Y_5_p = model_.predict(tf.convert_to_tensor(X_5), verbose = 0)\n",
    "    calif = mean_squared_error(Y_5, Y_5_p, squared=False)\n",
    "    if min_calif > calif:\n",
    "        min_calif = calif\n",
    "        hist_5 = hist\n",
    "        model_5 = model_\n",
    "        x_train_5 = x_train\n",
    "        y_train_5 = y_train\n",
    "        x_test_5 = x_test\n",
    "        y_test_5 = y_test\n",
    "model_5.save('model_5.h5')\n",
    "print('Hemos encontrado el mejor modelo, lo puedes encontrar como \"model_5.h5\"')"
   ]
  },
  {
   "cell_type": "code",
   "execution_count": 20,
   "metadata": {},
   "outputs": [
    {
     "name": "stdout",
     "output_type": "stream",
     "text": [
      "RMSE: 0.3940116328224017 0.3497349969301271 0.49578656020906586\n",
      "MSE: 0.15524516679937508 0.122314568077716 0.24580431328393768\n",
      "MAE: 0.33394039654475427 0.2966601475242999 0.4364610813510037\n",
      "R2: 0.8730549081081576 0.8351882091195175 0.5462648276821122\n"
     ]
    },
    {
     "data": {
      "application/vnd.plotly.v1+json": {
       "config": {
        "plotlyServerURL": "https://plot.ly"
       },
       "data": [
        {
         "line": {
          "color": "rgba(0,0,0,0)"
         },
         "mode": "lines",
         "showlegend": false,
         "type": "scatter",
         "y": [
          29.098770141601562,
          28.811996459960938,
          28.449054718017578,
          27.924785614013672,
          27.609954833984375,
          27.365802764892578,
          27.04595184326172,
          26.875791549682617,
          26.808815002441406,
          26.571359634399414,
          26.23146629333496,
          25.793689727783203,
          25.554336547851562,
          25.47952651977539,
          25.407962799072266
         ]
        },
        {
         "fill": "tonexty",
         "line": {
          "color": "rgba(100,100,255,1)",
          "width": 0
         },
         "mode": "lines",
         "showlegend": false,
         "type": "scatter",
         "y": [
          27.522724151611328,
          27.235950469970703,
          26.873008728027344,
          26.348739624023438,
          26.03390884399414,
          25.789756774902344,
          25.469905853271484,
          25.299745559692383,
          25.232769012451172,
          24.99531364440918,
          24.655420303344727,
          24.21764373779297,
          23.978290557861328,
          23.903480529785156,
          23.83191680908203
         ]
        },
        {
         "line": {
          "color": "black"
         },
         "mode": "markers",
         "name": "Real",
         "type": "scatter",
         "y": [
          28.419032258064515,
          27.50741935483871,
          26.905161290322578,
          26.903225806451612,
          26.73516129032258,
          26.469677419354838,
          26.510645161290324,
          26.452903225806452,
          25.97193548387097,
          25.493870967741938,
          24.794516129032257,
          24.81967741935484,
          25.253548387096775,
          25.196129032258067,
          24.202903225806452
         ]
        },
        {
         "line": {
          "color": "rgb(50,50,255)"
         },
         "name": "Model",
         "type": "scatter",
         "y": [
          28.310747146606445,
          28.02397346496582,
          27.66103172302246,
          27.136762619018555,
          26.821931838989258,
          26.57777976989746,
          26.2579288482666,
          26.0877685546875,
          26.02079200744629,
          25.783336639404297,
          25.443443298339844,
          25.005666732788086,
          24.766313552856445,
          24.691503524780273,
          24.61993980407715
         ]
        }
       ],
       "layout": {
        "template": {
         "data": {
          "bar": [
           {
            "error_x": {
             "color": "#2a3f5f"
            },
            "error_y": {
             "color": "#2a3f5f"
            },
            "marker": {
             "line": {
              "color": "#E5ECF6",
              "width": 0.5
             },
             "pattern": {
              "fillmode": "overlay",
              "size": 10,
              "solidity": 0.2
             }
            },
            "type": "bar"
           }
          ],
          "barpolar": [
           {
            "marker": {
             "line": {
              "color": "#E5ECF6",
              "width": 0.5
             },
             "pattern": {
              "fillmode": "overlay",
              "size": 10,
              "solidity": 0.2
             }
            },
            "type": "barpolar"
           }
          ],
          "carpet": [
           {
            "aaxis": {
             "endlinecolor": "#2a3f5f",
             "gridcolor": "white",
             "linecolor": "white",
             "minorgridcolor": "white",
             "startlinecolor": "#2a3f5f"
            },
            "baxis": {
             "endlinecolor": "#2a3f5f",
             "gridcolor": "white",
             "linecolor": "white",
             "minorgridcolor": "white",
             "startlinecolor": "#2a3f5f"
            },
            "type": "carpet"
           }
          ],
          "choropleth": [
           {
            "colorbar": {
             "outlinewidth": 0,
             "ticks": ""
            },
            "type": "choropleth"
           }
          ],
          "contour": [
           {
            "colorbar": {
             "outlinewidth": 0,
             "ticks": ""
            },
            "colorscale": [
             [
              0,
              "#0d0887"
             ],
             [
              0.1111111111111111,
              "#46039f"
             ],
             [
              0.2222222222222222,
              "#7201a8"
             ],
             [
              0.3333333333333333,
              "#9c179e"
             ],
             [
              0.4444444444444444,
              "#bd3786"
             ],
             [
              0.5555555555555556,
              "#d8576b"
             ],
             [
              0.6666666666666666,
              "#ed7953"
             ],
             [
              0.7777777777777778,
              "#fb9f3a"
             ],
             [
              0.8888888888888888,
              "#fdca26"
             ],
             [
              1,
              "#f0f921"
             ]
            ],
            "type": "contour"
           }
          ],
          "contourcarpet": [
           {
            "colorbar": {
             "outlinewidth": 0,
             "ticks": ""
            },
            "type": "contourcarpet"
           }
          ],
          "heatmap": [
           {
            "colorbar": {
             "outlinewidth": 0,
             "ticks": ""
            },
            "colorscale": [
             [
              0,
              "#0d0887"
             ],
             [
              0.1111111111111111,
              "#46039f"
             ],
             [
              0.2222222222222222,
              "#7201a8"
             ],
             [
              0.3333333333333333,
              "#9c179e"
             ],
             [
              0.4444444444444444,
              "#bd3786"
             ],
             [
              0.5555555555555556,
              "#d8576b"
             ],
             [
              0.6666666666666666,
              "#ed7953"
             ],
             [
              0.7777777777777778,
              "#fb9f3a"
             ],
             [
              0.8888888888888888,
              "#fdca26"
             ],
             [
              1,
              "#f0f921"
             ]
            ],
            "type": "heatmap"
           }
          ],
          "heatmapgl": [
           {
            "colorbar": {
             "outlinewidth": 0,
             "ticks": ""
            },
            "colorscale": [
             [
              0,
              "#0d0887"
             ],
             [
              0.1111111111111111,
              "#46039f"
             ],
             [
              0.2222222222222222,
              "#7201a8"
             ],
             [
              0.3333333333333333,
              "#9c179e"
             ],
             [
              0.4444444444444444,
              "#bd3786"
             ],
             [
              0.5555555555555556,
              "#d8576b"
             ],
             [
              0.6666666666666666,
              "#ed7953"
             ],
             [
              0.7777777777777778,
              "#fb9f3a"
             ],
             [
              0.8888888888888888,
              "#fdca26"
             ],
             [
              1,
              "#f0f921"
             ]
            ],
            "type": "heatmapgl"
           }
          ],
          "histogram": [
           {
            "marker": {
             "pattern": {
              "fillmode": "overlay",
              "size": 10,
              "solidity": 0.2
             }
            },
            "type": "histogram"
           }
          ],
          "histogram2d": [
           {
            "colorbar": {
             "outlinewidth": 0,
             "ticks": ""
            },
            "colorscale": [
             [
              0,
              "#0d0887"
             ],
             [
              0.1111111111111111,
              "#46039f"
             ],
             [
              0.2222222222222222,
              "#7201a8"
             ],
             [
              0.3333333333333333,
              "#9c179e"
             ],
             [
              0.4444444444444444,
              "#bd3786"
             ],
             [
              0.5555555555555556,
              "#d8576b"
             ],
             [
              0.6666666666666666,
              "#ed7953"
             ],
             [
              0.7777777777777778,
              "#fb9f3a"
             ],
             [
              0.8888888888888888,
              "#fdca26"
             ],
             [
              1,
              "#f0f921"
             ]
            ],
            "type": "histogram2d"
           }
          ],
          "histogram2dcontour": [
           {
            "colorbar": {
             "outlinewidth": 0,
             "ticks": ""
            },
            "colorscale": [
             [
              0,
              "#0d0887"
             ],
             [
              0.1111111111111111,
              "#46039f"
             ],
             [
              0.2222222222222222,
              "#7201a8"
             ],
             [
              0.3333333333333333,
              "#9c179e"
             ],
             [
              0.4444444444444444,
              "#bd3786"
             ],
             [
              0.5555555555555556,
              "#d8576b"
             ],
             [
              0.6666666666666666,
              "#ed7953"
             ],
             [
              0.7777777777777778,
              "#fb9f3a"
             ],
             [
              0.8888888888888888,
              "#fdca26"
             ],
             [
              1,
              "#f0f921"
             ]
            ],
            "type": "histogram2dcontour"
           }
          ],
          "mesh3d": [
           {
            "colorbar": {
             "outlinewidth": 0,
             "ticks": ""
            },
            "type": "mesh3d"
           }
          ],
          "parcoords": [
           {
            "line": {
             "colorbar": {
              "outlinewidth": 0,
              "ticks": ""
             }
            },
            "type": "parcoords"
           }
          ],
          "pie": [
           {
            "automargin": true,
            "type": "pie"
           }
          ],
          "scatter": [
           {
            "fillpattern": {
             "fillmode": "overlay",
             "size": 10,
             "solidity": 0.2
            },
            "type": "scatter"
           }
          ],
          "scatter3d": [
           {
            "line": {
             "colorbar": {
              "outlinewidth": 0,
              "ticks": ""
             }
            },
            "marker": {
             "colorbar": {
              "outlinewidth": 0,
              "ticks": ""
             }
            },
            "type": "scatter3d"
           }
          ],
          "scattercarpet": [
           {
            "marker": {
             "colorbar": {
              "outlinewidth": 0,
              "ticks": ""
             }
            },
            "type": "scattercarpet"
           }
          ],
          "scattergeo": [
           {
            "marker": {
             "colorbar": {
              "outlinewidth": 0,
              "ticks": ""
             }
            },
            "type": "scattergeo"
           }
          ],
          "scattergl": [
           {
            "marker": {
             "colorbar": {
              "outlinewidth": 0,
              "ticks": ""
             }
            },
            "type": "scattergl"
           }
          ],
          "scattermapbox": [
           {
            "marker": {
             "colorbar": {
              "outlinewidth": 0,
              "ticks": ""
             }
            },
            "type": "scattermapbox"
           }
          ],
          "scatterpolar": [
           {
            "marker": {
             "colorbar": {
              "outlinewidth": 0,
              "ticks": ""
             }
            },
            "type": "scatterpolar"
           }
          ],
          "scatterpolargl": [
           {
            "marker": {
             "colorbar": {
              "outlinewidth": 0,
              "ticks": ""
             }
            },
            "type": "scatterpolargl"
           }
          ],
          "scatterternary": [
           {
            "marker": {
             "colorbar": {
              "outlinewidth": 0,
              "ticks": ""
             }
            },
            "type": "scatterternary"
           }
          ],
          "surface": [
           {
            "colorbar": {
             "outlinewidth": 0,
             "ticks": ""
            },
            "colorscale": [
             [
              0,
              "#0d0887"
             ],
             [
              0.1111111111111111,
              "#46039f"
             ],
             [
              0.2222222222222222,
              "#7201a8"
             ],
             [
              0.3333333333333333,
              "#9c179e"
             ],
             [
              0.4444444444444444,
              "#bd3786"
             ],
             [
              0.5555555555555556,
              "#d8576b"
             ],
             [
              0.6666666666666666,
              "#ed7953"
             ],
             [
              0.7777777777777778,
              "#fb9f3a"
             ],
             [
              0.8888888888888888,
              "#fdca26"
             ],
             [
              1,
              "#f0f921"
             ]
            ],
            "type": "surface"
           }
          ],
          "table": [
           {
            "cells": {
             "fill": {
              "color": "#EBF0F8"
             },
             "line": {
              "color": "white"
             }
            },
            "header": {
             "fill": {
              "color": "#C8D4E3"
             },
             "line": {
              "color": "white"
             }
            },
            "type": "table"
           }
          ]
         },
         "layout": {
          "annotationdefaults": {
           "arrowcolor": "#2a3f5f",
           "arrowhead": 0,
           "arrowwidth": 1
          },
          "autotypenumbers": "strict",
          "coloraxis": {
           "colorbar": {
            "outlinewidth": 0,
            "ticks": ""
           }
          },
          "colorscale": {
           "diverging": [
            [
             0,
             "#8e0152"
            ],
            [
             0.1,
             "#c51b7d"
            ],
            [
             0.2,
             "#de77ae"
            ],
            [
             0.3,
             "#f1b6da"
            ],
            [
             0.4,
             "#fde0ef"
            ],
            [
             0.5,
             "#f7f7f7"
            ],
            [
             0.6,
             "#e6f5d0"
            ],
            [
             0.7,
             "#b8e186"
            ],
            [
             0.8,
             "#7fbc41"
            ],
            [
             0.9,
             "#4d9221"
            ],
            [
             1,
             "#276419"
            ]
           ],
           "sequential": [
            [
             0,
             "#0d0887"
            ],
            [
             0.1111111111111111,
             "#46039f"
            ],
            [
             0.2222222222222222,
             "#7201a8"
            ],
            [
             0.3333333333333333,
             "#9c179e"
            ],
            [
             0.4444444444444444,
             "#bd3786"
            ],
            [
             0.5555555555555556,
             "#d8576b"
            ],
            [
             0.6666666666666666,
             "#ed7953"
            ],
            [
             0.7777777777777778,
             "#fb9f3a"
            ],
            [
             0.8888888888888888,
             "#fdca26"
            ],
            [
             1,
             "#f0f921"
            ]
           ],
           "sequentialminus": [
            [
             0,
             "#0d0887"
            ],
            [
             0.1111111111111111,
             "#46039f"
            ],
            [
             0.2222222222222222,
             "#7201a8"
            ],
            [
             0.3333333333333333,
             "#9c179e"
            ],
            [
             0.4444444444444444,
             "#bd3786"
            ],
            [
             0.5555555555555556,
             "#d8576b"
            ],
            [
             0.6666666666666666,
             "#ed7953"
            ],
            [
             0.7777777777777778,
             "#fb9f3a"
            ],
            [
             0.8888888888888888,
             "#fdca26"
            ],
            [
             1,
             "#f0f921"
            ]
           ]
          },
          "colorway": [
           "#636efa",
           "#EF553B",
           "#00cc96",
           "#ab63fa",
           "#FFA15A",
           "#19d3f3",
           "#FF6692",
           "#B6E880",
           "#FF97FF",
           "#FECB52"
          ],
          "font": {
           "color": "#2a3f5f"
          },
          "geo": {
           "bgcolor": "white",
           "lakecolor": "white",
           "landcolor": "#E5ECF6",
           "showlakes": true,
           "showland": true,
           "subunitcolor": "white"
          },
          "hoverlabel": {
           "align": "left"
          },
          "hovermode": "closest",
          "mapbox": {
           "style": "light"
          },
          "paper_bgcolor": "white",
          "plot_bgcolor": "#E5ECF6",
          "polar": {
           "angularaxis": {
            "gridcolor": "white",
            "linecolor": "white",
            "ticks": ""
           },
           "bgcolor": "#E5ECF6",
           "radialaxis": {
            "gridcolor": "white",
            "linecolor": "white",
            "ticks": ""
           }
          },
          "scene": {
           "xaxis": {
            "backgroundcolor": "#E5ECF6",
            "gridcolor": "white",
            "gridwidth": 2,
            "linecolor": "white",
            "showbackground": true,
            "ticks": "",
            "zerolinecolor": "white"
           },
           "yaxis": {
            "backgroundcolor": "#E5ECF6",
            "gridcolor": "white",
            "gridwidth": 2,
            "linecolor": "white",
            "showbackground": true,
            "ticks": "",
            "zerolinecolor": "white"
           },
           "zaxis": {
            "backgroundcolor": "#E5ECF6",
            "gridcolor": "white",
            "gridwidth": 2,
            "linecolor": "white",
            "showbackground": true,
            "ticks": "",
            "zerolinecolor": "white"
           }
          },
          "shapedefaults": {
           "line": {
            "color": "#2a3f5f"
           }
          },
          "ternary": {
           "aaxis": {
            "gridcolor": "white",
            "linecolor": "white",
            "ticks": ""
           },
           "baxis": {
            "gridcolor": "white",
            "linecolor": "white",
            "ticks": ""
           },
           "bgcolor": "#E5ECF6",
           "caxis": {
            "gridcolor": "white",
            "linecolor": "white",
            "ticks": ""
           }
          },
          "title": {
           "x": 0.05
          },
          "xaxis": {
           "automargin": true,
           "gridcolor": "white",
           "linecolor": "white",
           "ticks": "",
           "title": {
            "standoff": 15
           },
           "zerolinecolor": "white",
           "zerolinewidth": 2
          },
          "yaxis": {
           "automargin": true,
           "gridcolor": "white",
           "linecolor": "white",
           "ticks": "",
           "title": {
            "standoff": 15
           },
           "zerolinecolor": "white",
           "zerolinewidth": 2
          }
         }
        }
       }
      }
     },
     "metadata": {},
     "output_type": "display_data"
    }
   ],
   "source": [
    "# Graficamos Resultados\n",
    "model = models.load_model('model_5.h5')\n",
    "Y_5_p = model.predict(tf.convert_to_tensor(X_5), verbose = 0)\n",
    "rmse_5 = mean_squared_error(Y_5, Y_5_p, squared=False)\n",
    "mse_5 = mean_squared_error(Y_5, Y_5_p)\n",
    "mae_5 = mean_absolute_error(Y_5, Y_5_p)\n",
    "r2_5 = r2_score(Y_5, Y_5_p)\n",
    "y_train_5_p = model.predict(tf.convert_to_tensor(x_train_5), verbose = 0)\n",
    "rmse_5_tr = mean_squared_error(y_train_5, y_train_5_p, squared=False)\n",
    "mse_5_tr = mean_squared_error(y_train_5, y_train_5_p)\n",
    "mae_5_tr = mean_absolute_error(y_train_5, y_train_5_p)\n",
    "r2_5_tr = r2_score(y_train_5, y_train_5_p)\n",
    "y_test_5_p = model.predict(tf.convert_to_tensor(x_test_5), verbose = 0)\n",
    "rmse_5_te = mean_squared_error(y_test_5, y_test_5_p, squared=False)\n",
    "mse_5_te = mean_squared_error(y_test_5, y_test_5_p)\n",
    "mae_5_te = mean_absolute_error(y_test_5, y_test_5_p)\n",
    "r2_5_te = r2_score(y_test_5, y_test_5_p)\n",
    "\n",
    "print('RMSE:',rmse_5, rmse_5_tr, rmse_5_te)\n",
    "print('MSE:',mse_5, mse_5_tr, mse_5_te)\n",
    "print('MAE:',mae_5, mae_5_tr, mae_5_te)\n",
    "print('R2:',r2_5, r2_5_tr, r2_5_te)\n",
    "\n",
    "\n",
    "fig = go.Figure()\n",
    "fig.add_trace(go.Scatter(y = Y_5_p.reshape(-1)+2*rmse_5, mode = 'lines',line_color='rgba(0,0,0,0)',showlegend=False))\n",
    "fig.add_trace(go.Scatter(y = Y_5_p.reshape(-1)-2*rmse_5, fill='tonexty', mode = 'lines',line_color='rgba(100,100,255,1)', line_width=0,showlegend=False))\n",
    "fig.add_trace(go.Scatter(y = Y_5.reshape(-1), name='Real', mode = 'markers', line_color='black'))\n",
    "fig.add_trace(go.Scatter(y = Y_5_p.reshape(-1), name='Model', line_color='rgb(50,50,255)'))\n",
    "fig.show()"
   ]
  },
  {
   "cell_type": "markdown",
   "metadata": {},
   "source": [
    "----"
   ]
  },
  {
   "cell_type": "code",
   "execution_count": null,
   "metadata": {},
   "outputs": [],
   "source": []
  },
  {
   "cell_type": "code",
   "execution_count": 102,
   "metadata": {},
   "outputs": [
    {
     "data": {
      "application/vnd.plotly.v1+json": {
       "config": {
        "plotlyServerURL": "https://plot.ly"
       },
       "data": [
        {
         "line": {
          "color": "rgba(0,0,0,0)"
         },
         "mode": "lines",
         "showlegend": false,
         "type": "scatter",
         "x": [
          2020,
          2021,
          2022,
          2023,
          2024,
          2025,
          2026,
          2027,
          2028,
          2029,
          2030
         ],
         "y": [
          90.90339147696771,
          91.72294353743152,
          92.5179289475047,
          93.32134483853493,
          94.13625822712373,
          94.93078587352504,
          95.74728617617635,
          96.55289170343703,
          97.36219748704536,
          98.17712613442323,
          98.9854858731097
         ]
        },
        {
         "fill": "tonexty",
         "line": {
          "color": "rgba(100,100,255,1)",
          "width": 0
         },
         "mode": "lines",
         "showlegend": false,
         "type": "scatter",
         "x": [
          2020,
          2021,
          2022,
          2023,
          2024,
          2025,
          2026,
          2027,
          2028,
          2029,
          2030
         ],
         "y": [
          89.99239099373541,
          89.90094257096692,
          89.7849274978078,
          89.6773429056057,
          89.5812558109622,
          89.46478297413121,
          89.37028279355022,
          89.2648878375786,
          89.16319313795464,
          89.0671213021002,
          88.96448055755437
         ]
        },
        {
         "line": {
          "color": "rgb(50,50,255)"
         },
         "mode": "lines",
         "name": "model",
         "type": "scatter",
         "x": [
          2005,
          2006,
          2007,
          2008,
          2009,
          2010,
          2011,
          2012,
          2013,
          2014,
          2015,
          2016,
          2017,
          2018,
          2019,
          2020,
          2021,
          2022,
          2023,
          2024,
          2025,
          2026,
          2027,
          2028,
          2029,
          2030
         ],
         "y": [
          82.97852325439453,
          83.45938110351562,
          84.03755950927734,
          84.80793762207031,
          85.43209075927734,
          86.08485412597656,
          86.63622283935547,
          87.22176361083984,
          87.72877502441406,
          88.3119888305664,
          88.7734146118164,
          89.26392364501953,
          89.71205139160156,
          90.09789276123047,
          90.44789123535156,
          90.44789123535156,
          90.81194305419922,
          91.15142822265625,
          91.49934387207031,
          91.85875701904297,
          92.19778442382812,
          92.55878448486328,
          92.90888977050781,
          93.2626953125,
          93.62212371826172,
          93.97498321533203
         ]
        },
        {
         "line": {
          "color": "black"
         },
         "mode": "markers",
         "name": "Real",
         "type": "scatter",
         "x": [
          2000,
          2001,
          2002,
          2003,
          2004,
          2005,
          2006,
          2007,
          2008,
          2009,
          2010,
          2011,
          2012,
          2013,
          2014,
          2015,
          2016,
          2017,
          2018,
          2019
         ],
         "y": [
          80.18266451612904,
          80.83369838709677,
          81.46779564516129,
          81.95691161290323,
          82.52404725806451,
          82.85220903225806,
          83.76920483870968,
          84.46507338709677,
          85.11655919354838,
          85.5103420967742,
          86.21060629032259,
          86.67683177419354,
          87.26849258064516,
          87.75136419354838,
          88.20317322580645,
          88.67543677419356,
          89.09992,
          89.4039464516129,
          89.75067225806453,
          90.13487032258065
         ]
        }
       ],
       "layout": {
        "template": {
         "data": {
          "bar": [
           {
            "error_x": {
             "color": "#2a3f5f"
            },
            "error_y": {
             "color": "#2a3f5f"
            },
            "marker": {
             "line": {
              "color": "#E5ECF6",
              "width": 0.5
             },
             "pattern": {
              "fillmode": "overlay",
              "size": 10,
              "solidity": 0.2
             }
            },
            "type": "bar"
           }
          ],
          "barpolar": [
           {
            "marker": {
             "line": {
              "color": "#E5ECF6",
              "width": 0.5
             },
             "pattern": {
              "fillmode": "overlay",
              "size": 10,
              "solidity": 0.2
             }
            },
            "type": "barpolar"
           }
          ],
          "carpet": [
           {
            "aaxis": {
             "endlinecolor": "#2a3f5f",
             "gridcolor": "white",
             "linecolor": "white",
             "minorgridcolor": "white",
             "startlinecolor": "#2a3f5f"
            },
            "baxis": {
             "endlinecolor": "#2a3f5f",
             "gridcolor": "white",
             "linecolor": "white",
             "minorgridcolor": "white",
             "startlinecolor": "#2a3f5f"
            },
            "type": "carpet"
           }
          ],
          "choropleth": [
           {
            "colorbar": {
             "outlinewidth": 0,
             "ticks": ""
            },
            "type": "choropleth"
           }
          ],
          "contour": [
           {
            "colorbar": {
             "outlinewidth": 0,
             "ticks": ""
            },
            "colorscale": [
             [
              0,
              "#0d0887"
             ],
             [
              0.1111111111111111,
              "#46039f"
             ],
             [
              0.2222222222222222,
              "#7201a8"
             ],
             [
              0.3333333333333333,
              "#9c179e"
             ],
             [
              0.4444444444444444,
              "#bd3786"
             ],
             [
              0.5555555555555556,
              "#d8576b"
             ],
             [
              0.6666666666666666,
              "#ed7953"
             ],
             [
              0.7777777777777778,
              "#fb9f3a"
             ],
             [
              0.8888888888888888,
              "#fdca26"
             ],
             [
              1,
              "#f0f921"
             ]
            ],
            "type": "contour"
           }
          ],
          "contourcarpet": [
           {
            "colorbar": {
             "outlinewidth": 0,
             "ticks": ""
            },
            "type": "contourcarpet"
           }
          ],
          "heatmap": [
           {
            "colorbar": {
             "outlinewidth": 0,
             "ticks": ""
            },
            "colorscale": [
             [
              0,
              "#0d0887"
             ],
             [
              0.1111111111111111,
              "#46039f"
             ],
             [
              0.2222222222222222,
              "#7201a8"
             ],
             [
              0.3333333333333333,
              "#9c179e"
             ],
             [
              0.4444444444444444,
              "#bd3786"
             ],
             [
              0.5555555555555556,
              "#d8576b"
             ],
             [
              0.6666666666666666,
              "#ed7953"
             ],
             [
              0.7777777777777778,
              "#fb9f3a"
             ],
             [
              0.8888888888888888,
              "#fdca26"
             ],
             [
              1,
              "#f0f921"
             ]
            ],
            "type": "heatmap"
           }
          ],
          "heatmapgl": [
           {
            "colorbar": {
             "outlinewidth": 0,
             "ticks": ""
            },
            "colorscale": [
             [
              0,
              "#0d0887"
             ],
             [
              0.1111111111111111,
              "#46039f"
             ],
             [
              0.2222222222222222,
              "#7201a8"
             ],
             [
              0.3333333333333333,
              "#9c179e"
             ],
             [
              0.4444444444444444,
              "#bd3786"
             ],
             [
              0.5555555555555556,
              "#d8576b"
             ],
             [
              0.6666666666666666,
              "#ed7953"
             ],
             [
              0.7777777777777778,
              "#fb9f3a"
             ],
             [
              0.8888888888888888,
              "#fdca26"
             ],
             [
              1,
              "#f0f921"
             ]
            ],
            "type": "heatmapgl"
           }
          ],
          "histogram": [
           {
            "marker": {
             "pattern": {
              "fillmode": "overlay",
              "size": 10,
              "solidity": 0.2
             }
            },
            "type": "histogram"
           }
          ],
          "histogram2d": [
           {
            "colorbar": {
             "outlinewidth": 0,
             "ticks": ""
            },
            "colorscale": [
             [
              0,
              "#0d0887"
             ],
             [
              0.1111111111111111,
              "#46039f"
             ],
             [
              0.2222222222222222,
              "#7201a8"
             ],
             [
              0.3333333333333333,
              "#9c179e"
             ],
             [
              0.4444444444444444,
              "#bd3786"
             ],
             [
              0.5555555555555556,
              "#d8576b"
             ],
             [
              0.6666666666666666,
              "#ed7953"
             ],
             [
              0.7777777777777778,
              "#fb9f3a"
             ],
             [
              0.8888888888888888,
              "#fdca26"
             ],
             [
              1,
              "#f0f921"
             ]
            ],
            "type": "histogram2d"
           }
          ],
          "histogram2dcontour": [
           {
            "colorbar": {
             "outlinewidth": 0,
             "ticks": ""
            },
            "colorscale": [
             [
              0,
              "#0d0887"
             ],
             [
              0.1111111111111111,
              "#46039f"
             ],
             [
              0.2222222222222222,
              "#7201a8"
             ],
             [
              0.3333333333333333,
              "#9c179e"
             ],
             [
              0.4444444444444444,
              "#bd3786"
             ],
             [
              0.5555555555555556,
              "#d8576b"
             ],
             [
              0.6666666666666666,
              "#ed7953"
             ],
             [
              0.7777777777777778,
              "#fb9f3a"
             ],
             [
              0.8888888888888888,
              "#fdca26"
             ],
             [
              1,
              "#f0f921"
             ]
            ],
            "type": "histogram2dcontour"
           }
          ],
          "mesh3d": [
           {
            "colorbar": {
             "outlinewidth": 0,
             "ticks": ""
            },
            "type": "mesh3d"
           }
          ],
          "parcoords": [
           {
            "line": {
             "colorbar": {
              "outlinewidth": 0,
              "ticks": ""
             }
            },
            "type": "parcoords"
           }
          ],
          "pie": [
           {
            "automargin": true,
            "type": "pie"
           }
          ],
          "scatter": [
           {
            "fillpattern": {
             "fillmode": "overlay",
             "size": 10,
             "solidity": 0.2
            },
            "type": "scatter"
           }
          ],
          "scatter3d": [
           {
            "line": {
             "colorbar": {
              "outlinewidth": 0,
              "ticks": ""
             }
            },
            "marker": {
             "colorbar": {
              "outlinewidth": 0,
              "ticks": ""
             }
            },
            "type": "scatter3d"
           }
          ],
          "scattercarpet": [
           {
            "marker": {
             "colorbar": {
              "outlinewidth": 0,
              "ticks": ""
             }
            },
            "type": "scattercarpet"
           }
          ],
          "scattergeo": [
           {
            "marker": {
             "colorbar": {
              "outlinewidth": 0,
              "ticks": ""
             }
            },
            "type": "scattergeo"
           }
          ],
          "scattergl": [
           {
            "marker": {
             "colorbar": {
              "outlinewidth": 0,
              "ticks": ""
             }
            },
            "type": "scattergl"
           }
          ],
          "scattermapbox": [
           {
            "marker": {
             "colorbar": {
              "outlinewidth": 0,
              "ticks": ""
             }
            },
            "type": "scattermapbox"
           }
          ],
          "scatterpolar": [
           {
            "marker": {
             "colorbar": {
              "outlinewidth": 0,
              "ticks": ""
             }
            },
            "type": "scatterpolar"
           }
          ],
          "scatterpolargl": [
           {
            "marker": {
             "colorbar": {
              "outlinewidth": 0,
              "ticks": ""
             }
            },
            "type": "scatterpolargl"
           }
          ],
          "scatterternary": [
           {
            "marker": {
             "colorbar": {
              "outlinewidth": 0,
              "ticks": ""
             }
            },
            "type": "scatterternary"
           }
          ],
          "surface": [
           {
            "colorbar": {
             "outlinewidth": 0,
             "ticks": ""
            },
            "colorscale": [
             [
              0,
              "#0d0887"
             ],
             [
              0.1111111111111111,
              "#46039f"
             ],
             [
              0.2222222222222222,
              "#7201a8"
             ],
             [
              0.3333333333333333,
              "#9c179e"
             ],
             [
              0.4444444444444444,
              "#bd3786"
             ],
             [
              0.5555555555555556,
              "#d8576b"
             ],
             [
              0.6666666666666666,
              "#ed7953"
             ],
             [
              0.7777777777777778,
              "#fb9f3a"
             ],
             [
              0.8888888888888888,
              "#fdca26"
             ],
             [
              1,
              "#f0f921"
             ]
            ],
            "type": "surface"
           }
          ],
          "table": [
           {
            "cells": {
             "fill": {
              "color": "#EBF0F8"
             },
             "line": {
              "color": "white"
             }
            },
            "header": {
             "fill": {
              "color": "#C8D4E3"
             },
             "line": {
              "color": "white"
             }
            },
            "type": "table"
           }
          ]
         },
         "layout": {
          "annotationdefaults": {
           "arrowcolor": "#2a3f5f",
           "arrowhead": 0,
           "arrowwidth": 1
          },
          "autotypenumbers": "strict",
          "coloraxis": {
           "colorbar": {
            "outlinewidth": 0,
            "ticks": ""
           }
          },
          "colorscale": {
           "diverging": [
            [
             0,
             "#8e0152"
            ],
            [
             0.1,
             "#c51b7d"
            ],
            [
             0.2,
             "#de77ae"
            ],
            [
             0.3,
             "#f1b6da"
            ],
            [
             0.4,
             "#fde0ef"
            ],
            [
             0.5,
             "#f7f7f7"
            ],
            [
             0.6,
             "#e6f5d0"
            ],
            [
             0.7,
             "#b8e186"
            ],
            [
             0.8,
             "#7fbc41"
            ],
            [
             0.9,
             "#4d9221"
            ],
            [
             1,
             "#276419"
            ]
           ],
           "sequential": [
            [
             0,
             "#0d0887"
            ],
            [
             0.1111111111111111,
             "#46039f"
            ],
            [
             0.2222222222222222,
             "#7201a8"
            ],
            [
             0.3333333333333333,
             "#9c179e"
            ],
            [
             0.4444444444444444,
             "#bd3786"
            ],
            [
             0.5555555555555556,
             "#d8576b"
            ],
            [
             0.6666666666666666,
             "#ed7953"
            ],
            [
             0.7777777777777778,
             "#fb9f3a"
            ],
            [
             0.8888888888888888,
             "#fdca26"
            ],
            [
             1,
             "#f0f921"
            ]
           ],
           "sequentialminus": [
            [
             0,
             "#0d0887"
            ],
            [
             0.1111111111111111,
             "#46039f"
            ],
            [
             0.2222222222222222,
             "#7201a8"
            ],
            [
             0.3333333333333333,
             "#9c179e"
            ],
            [
             0.4444444444444444,
             "#bd3786"
            ],
            [
             0.5555555555555556,
             "#d8576b"
            ],
            [
             0.6666666666666666,
             "#ed7953"
            ],
            [
             0.7777777777777778,
             "#fb9f3a"
            ],
            [
             0.8888888888888888,
             "#fdca26"
            ],
            [
             1,
             "#f0f921"
            ]
           ]
          },
          "colorway": [
           "#636efa",
           "#EF553B",
           "#00cc96",
           "#ab63fa",
           "#FFA15A",
           "#19d3f3",
           "#FF6692",
           "#B6E880",
           "#FF97FF",
           "#FECB52"
          ],
          "font": {
           "color": "#2a3f5f"
          },
          "geo": {
           "bgcolor": "white",
           "lakecolor": "white",
           "landcolor": "#E5ECF6",
           "showlakes": true,
           "showland": true,
           "subunitcolor": "white"
          },
          "hoverlabel": {
           "align": "left"
          },
          "hovermode": "closest",
          "mapbox": {
           "style": "light"
          },
          "paper_bgcolor": "white",
          "plot_bgcolor": "#E5ECF6",
          "polar": {
           "angularaxis": {
            "gridcolor": "white",
            "linecolor": "white",
            "ticks": ""
           },
           "bgcolor": "#E5ECF6",
           "radialaxis": {
            "gridcolor": "white",
            "linecolor": "white",
            "ticks": ""
           }
          },
          "scene": {
           "xaxis": {
            "backgroundcolor": "#E5ECF6",
            "gridcolor": "white",
            "gridwidth": 2,
            "linecolor": "white",
            "showbackground": true,
            "ticks": "",
            "zerolinecolor": "white"
           },
           "yaxis": {
            "backgroundcolor": "#E5ECF6",
            "gridcolor": "white",
            "gridwidth": 2,
            "linecolor": "white",
            "showbackground": true,
            "ticks": "",
            "zerolinecolor": "white"
           },
           "zaxis": {
            "backgroundcolor": "#E5ECF6",
            "gridcolor": "white",
            "gridwidth": 2,
            "linecolor": "white",
            "showbackground": true,
            "ticks": "",
            "zerolinecolor": "white"
           }
          },
          "shapedefaults": {
           "line": {
            "color": "#2a3f5f"
           }
          },
          "ternary": {
           "aaxis": {
            "gridcolor": "white",
            "linecolor": "white",
            "ticks": ""
           },
           "baxis": {
            "gridcolor": "white",
            "linecolor": "white",
            "ticks": ""
           },
           "bgcolor": "#E5ECF6",
           "caxis": {
            "gridcolor": "white",
            "linecolor": "white",
            "ticks": ""
           }
          },
          "title": {
           "x": 0.05
          },
          "xaxis": {
           "automargin": true,
           "gridcolor": "white",
           "linecolor": "white",
           "ticks": "",
           "title": {
            "standoff": 15
           },
           "zerolinecolor": "white",
           "zerolinewidth": 2
          },
          "yaxis": {
           "automargin": true,
           "gridcolor": "white",
           "linecolor": "white",
           "ticks": "",
           "title": {
            "standoff": 15
           },
           "zerolinecolor": "white",
           "zerolinewidth": 2
          }
         }
        }
       }
      }
     },
     "metadata": {},
     "output_type": "display_data"
    }
   ],
   "source": [
    "model = models.load_model('model_4.h5')\n",
    "X_f, Y_f = preparar_datos(ts4)\n",
    "X_f = np.array(X_f, dtype=float)\n",
    "X_f = tf.convert_to_tensor(X_f)\n",
    "Y_f_p = model.predict(X_f, verbose=0).reshape(-1)\n",
    "ts4_c = ts4.copy()\n",
    "for i in range(11):\n",
    "    X_, Y_ = preparar_datos(ts4_c)\n",
    "    X_ = np.array(X_, dtype=float)\n",
    "    X_ = tf.convert_to_tensor(X_[-1].reshape(1,-1))\n",
    "    Y_proy = model.predict(X_, verbose = 0)[0][0]\n",
    "    Anio_pr = ts4_c['Anio'].values[-1] + 1\n",
    "    ts4_c.loc[len(ts4_c)] = [Anio_pr, Y_proy]\n",
    "    Y_f_p = np.append(Y_f_p, Y_proy)\n",
    "anios_p = ts4_c.Anio.values[5:]\n",
    "anios_proy = np.arange(2020,2031)\n",
    "proms = Y_f_p[-11:]\n",
    "max = np.array([])\n",
    "min = np.array([])\n",
    "error = 2*rmse_4\n",
    "suma = 0\n",
    "for prom in proms:\n",
    "    suma += error\n",
    "    max = np.append(max,prom+suma)\n",
    "    min = np.append(min,prom-suma)\n",
    "fig = go.Figure()\n",
    "fig.add_trace(go.Scatter(x = anios_proy, y = max, mode = 'lines',line_color='rgba(0,0,0,0)',showlegend=False))\n",
    "fig.add_trace(go.Scatter(x = anios_proy, y = min, fill='tonexty', mode = 'lines',line_color='rgba(100,100,255,1)', line_width=0,showlegend=False))\n",
    "fig.add_trace(go.Scatter(x = anios_p, y = Y_f_p, mode = 'lines', line_color = 'rgb(50,50,255)', name = 'model'))\n",
    "fig.add_trace(go.Scatter(x = ts4.Anio, y = ts4.prom, mode = 'markers', line_color = 'black', name = 'Real'))\n",
    "fig.show()\n"
   ]
  },
  {
   "cell_type": "code",
   "execution_count": 133,
   "metadata": {},
   "outputs": [
    {
     "data": {
      "application/vnd.plotly.v1+json": {
       "config": {
        "plotlyServerURL": "https://plot.ly"
       },
       "data": [
        {
         "line": {
          "color": "rgba(0,0,0,0)"
         },
         "mode": "lines",
         "showlegend": false,
         "type": "scatter",
         "x": [
          2005,
          2006,
          2007,
          2008,
          2009,
          2010,
          2011,
          2012,
          2013,
          2014,
          2015,
          2016,
          2017,
          2018,
          2019,
          2020,
          2021,
          2022,
          2023,
          2024,
          2025,
          2026,
          2027,
          2028,
          2029,
          2030
         ],
         "y": [
          4.9977803230285645,
          4.979886054992676,
          4.9380879402160645,
          4.899601459503174,
          4.839513778686523,
          4.78523063659668,
          4.781062602996826,
          4.762642860412598,
          4.745430946350098,
          4.740636348724365,
          4.729091167449951,
          4.700586795806885,
          4.664079189300537,
          4.623781204223633,
          4.588351726531982,
          4.588351611738375,
          5.048783036515559,
          5.492960432813438,
          5.8959996800882175,
          6.260003484843772,
          6.617509176579825,
          6.9330590264677125,
          7.208571435159536,
          7.469821482376709,
          7.703437716736177,
          7.920494791191193
         ]
        },
        {
         "fill": "tonexty",
         "line": {
          "color": "rgba(100,100,255,1)",
          "width": 0
         },
         "mode": "lines",
         "showlegend": false,
         "type": "scatter",
         "x": [
          2005,
          2006,
          2007,
          2008,
          2009,
          2010,
          2011,
          2012,
          2013,
          2014,
          2015,
          2016,
          2017,
          2018,
          2019,
          2020,
          2021,
          2022,
          2023,
          2024,
          2025,
          2026,
          2027,
          2028,
          2029,
          2030
         ],
         "y": [
          3.9852728843688965,
          3.967378616333008,
          3.9255805015563965,
          3.887094020843506,
          3.8270063400268555,
          3.7727231979370117,
          3.768555164337158,
          3.7501354217529297,
          3.7329235076904297,
          3.7281289100646973,
          3.716583728790283,
          3.688079357147217,
          3.651571750640869,
          3.611273765563965,
          3.5758442878723145,
          3.575844402665922,
          3.125019339277898,
          2.7490658962270897,
          2.413987388088052,
          2.11368521297117,
          1.8733155228220304,
          1.6507775290132445,
          1.4420108783780616,
          1.2674097722009283,
          1.108759968505522,
          0.9727776087111506
         ]
        },
        {
         "line": {
          "color": "rgb(50,50,255)"
         },
         "mode": "lines",
         "name": "model",
         "type": "scatter",
         "x": [
          2005,
          2006,
          2007,
          2008,
          2009,
          2010,
          2011,
          2012,
          2013,
          2014,
          2015,
          2016,
          2017,
          2018,
          2019,
          2020,
          2021,
          2022,
          2023,
          2024,
          2025,
          2026,
          2027,
          2028,
          2029,
          2030
         ],
         "y": [
          4.4915266036987305,
          4.473632335662842,
          4.4318342208862305,
          4.39334774017334,
          4.3332600593566895,
          4.278976917266846,
          4.274808883666992,
          4.256389141082764,
          4.239177227020264,
          4.234382629394531,
          4.222837448120117,
          4.194333076477051,
          4.157825469970703,
          4.117527484893799,
          4.082098007202148,
          4.082098007202148,
          4.0869011878967285,
          4.121013164520264,
          4.154993534088135,
          4.186844348907471,
          4.245412349700928,
          4.2919182777404785,
          4.325291156768799,
          4.368615627288818,
          4.40609884262085,
          4.446636199951172
         ]
        },
        {
         "line": {
          "color": "black"
         },
         "mode": "markers",
         "name": "Real",
         "type": "scatter",
         "x": [
          2000,
          2001,
          2002,
          2003,
          2004,
          2005,
          2006,
          2007,
          2008,
          2009,
          2010,
          2011,
          2012,
          2013,
          2014,
          2015,
          2016,
          2017,
          2018,
          2019
         ],
         "y": [
          4.328333333333333,
          4.379333333333333,
          4.335,
          4.337000000000001,
          4.301666666666667,
          4.255,
          4.165333333333333,
          4.143666666666666,
          3.989333333333333,
          4.078333333333333,
          4.099,
          4.139,
          4.066666666666666,
          4.0296666666666665,
          3.977,
          3.9526666666666666,
          3.9410000000000003,
          3.8636666666666666,
          3.8793333333333333,
          3.9356666666666666
         ]
        }
       ],
       "layout": {
        "template": {
         "data": {
          "bar": [
           {
            "error_x": {
             "color": "#2a3f5f"
            },
            "error_y": {
             "color": "#2a3f5f"
            },
            "marker": {
             "line": {
              "color": "#E5ECF6",
              "width": 0.5
             },
             "pattern": {
              "fillmode": "overlay",
              "size": 10,
              "solidity": 0.2
             }
            },
            "type": "bar"
           }
          ],
          "barpolar": [
           {
            "marker": {
             "line": {
              "color": "#E5ECF6",
              "width": 0.5
             },
             "pattern": {
              "fillmode": "overlay",
              "size": 10,
              "solidity": 0.2
             }
            },
            "type": "barpolar"
           }
          ],
          "carpet": [
           {
            "aaxis": {
             "endlinecolor": "#2a3f5f",
             "gridcolor": "white",
             "linecolor": "white",
             "minorgridcolor": "white",
             "startlinecolor": "#2a3f5f"
            },
            "baxis": {
             "endlinecolor": "#2a3f5f",
             "gridcolor": "white",
             "linecolor": "white",
             "minorgridcolor": "white",
             "startlinecolor": "#2a3f5f"
            },
            "type": "carpet"
           }
          ],
          "choropleth": [
           {
            "colorbar": {
             "outlinewidth": 0,
             "ticks": ""
            },
            "type": "choropleth"
           }
          ],
          "contour": [
           {
            "colorbar": {
             "outlinewidth": 0,
             "ticks": ""
            },
            "colorscale": [
             [
              0,
              "#0d0887"
             ],
             [
              0.1111111111111111,
              "#46039f"
             ],
             [
              0.2222222222222222,
              "#7201a8"
             ],
             [
              0.3333333333333333,
              "#9c179e"
             ],
             [
              0.4444444444444444,
              "#bd3786"
             ],
             [
              0.5555555555555556,
              "#d8576b"
             ],
             [
              0.6666666666666666,
              "#ed7953"
             ],
             [
              0.7777777777777778,
              "#fb9f3a"
             ],
             [
              0.8888888888888888,
              "#fdca26"
             ],
             [
              1,
              "#f0f921"
             ]
            ],
            "type": "contour"
           }
          ],
          "contourcarpet": [
           {
            "colorbar": {
             "outlinewidth": 0,
             "ticks": ""
            },
            "type": "contourcarpet"
           }
          ],
          "heatmap": [
           {
            "colorbar": {
             "outlinewidth": 0,
             "ticks": ""
            },
            "colorscale": [
             [
              0,
              "#0d0887"
             ],
             [
              0.1111111111111111,
              "#46039f"
             ],
             [
              0.2222222222222222,
              "#7201a8"
             ],
             [
              0.3333333333333333,
              "#9c179e"
             ],
             [
              0.4444444444444444,
              "#bd3786"
             ],
             [
              0.5555555555555556,
              "#d8576b"
             ],
             [
              0.6666666666666666,
              "#ed7953"
             ],
             [
              0.7777777777777778,
              "#fb9f3a"
             ],
             [
              0.8888888888888888,
              "#fdca26"
             ],
             [
              1,
              "#f0f921"
             ]
            ],
            "type": "heatmap"
           }
          ],
          "heatmapgl": [
           {
            "colorbar": {
             "outlinewidth": 0,
             "ticks": ""
            },
            "colorscale": [
             [
              0,
              "#0d0887"
             ],
             [
              0.1111111111111111,
              "#46039f"
             ],
             [
              0.2222222222222222,
              "#7201a8"
             ],
             [
              0.3333333333333333,
              "#9c179e"
             ],
             [
              0.4444444444444444,
              "#bd3786"
             ],
             [
              0.5555555555555556,
              "#d8576b"
             ],
             [
              0.6666666666666666,
              "#ed7953"
             ],
             [
              0.7777777777777778,
              "#fb9f3a"
             ],
             [
              0.8888888888888888,
              "#fdca26"
             ],
             [
              1,
              "#f0f921"
             ]
            ],
            "type": "heatmapgl"
           }
          ],
          "histogram": [
           {
            "marker": {
             "pattern": {
              "fillmode": "overlay",
              "size": 10,
              "solidity": 0.2
             }
            },
            "type": "histogram"
           }
          ],
          "histogram2d": [
           {
            "colorbar": {
             "outlinewidth": 0,
             "ticks": ""
            },
            "colorscale": [
             [
              0,
              "#0d0887"
             ],
             [
              0.1111111111111111,
              "#46039f"
             ],
             [
              0.2222222222222222,
              "#7201a8"
             ],
             [
              0.3333333333333333,
              "#9c179e"
             ],
             [
              0.4444444444444444,
              "#bd3786"
             ],
             [
              0.5555555555555556,
              "#d8576b"
             ],
             [
              0.6666666666666666,
              "#ed7953"
             ],
             [
              0.7777777777777778,
              "#fb9f3a"
             ],
             [
              0.8888888888888888,
              "#fdca26"
             ],
             [
              1,
              "#f0f921"
             ]
            ],
            "type": "histogram2d"
           }
          ],
          "histogram2dcontour": [
           {
            "colorbar": {
             "outlinewidth": 0,
             "ticks": ""
            },
            "colorscale": [
             [
              0,
              "#0d0887"
             ],
             [
              0.1111111111111111,
              "#46039f"
             ],
             [
              0.2222222222222222,
              "#7201a8"
             ],
             [
              0.3333333333333333,
              "#9c179e"
             ],
             [
              0.4444444444444444,
              "#bd3786"
             ],
             [
              0.5555555555555556,
              "#d8576b"
             ],
             [
              0.6666666666666666,
              "#ed7953"
             ],
             [
              0.7777777777777778,
              "#fb9f3a"
             ],
             [
              0.8888888888888888,
              "#fdca26"
             ],
             [
              1,
              "#f0f921"
             ]
            ],
            "type": "histogram2dcontour"
           }
          ],
          "mesh3d": [
           {
            "colorbar": {
             "outlinewidth": 0,
             "ticks": ""
            },
            "type": "mesh3d"
           }
          ],
          "parcoords": [
           {
            "line": {
             "colorbar": {
              "outlinewidth": 0,
              "ticks": ""
             }
            },
            "type": "parcoords"
           }
          ],
          "pie": [
           {
            "automargin": true,
            "type": "pie"
           }
          ],
          "scatter": [
           {
            "fillpattern": {
             "fillmode": "overlay",
             "size": 10,
             "solidity": 0.2
            },
            "type": "scatter"
           }
          ],
          "scatter3d": [
           {
            "line": {
             "colorbar": {
              "outlinewidth": 0,
              "ticks": ""
             }
            },
            "marker": {
             "colorbar": {
              "outlinewidth": 0,
              "ticks": ""
             }
            },
            "type": "scatter3d"
           }
          ],
          "scattercarpet": [
           {
            "marker": {
             "colorbar": {
              "outlinewidth": 0,
              "ticks": ""
             }
            },
            "type": "scattercarpet"
           }
          ],
          "scattergeo": [
           {
            "marker": {
             "colorbar": {
              "outlinewidth": 0,
              "ticks": ""
             }
            },
            "type": "scattergeo"
           }
          ],
          "scattergl": [
           {
            "marker": {
             "colorbar": {
              "outlinewidth": 0,
              "ticks": ""
             }
            },
            "type": "scattergl"
           }
          ],
          "scattermapbox": [
           {
            "marker": {
             "colorbar": {
              "outlinewidth": 0,
              "ticks": ""
             }
            },
            "type": "scattermapbox"
           }
          ],
          "scatterpolar": [
           {
            "marker": {
             "colorbar": {
              "outlinewidth": 0,
              "ticks": ""
             }
            },
            "type": "scatterpolar"
           }
          ],
          "scatterpolargl": [
           {
            "marker": {
             "colorbar": {
              "outlinewidth": 0,
              "ticks": ""
             }
            },
            "type": "scatterpolargl"
           }
          ],
          "scatterternary": [
           {
            "marker": {
             "colorbar": {
              "outlinewidth": 0,
              "ticks": ""
             }
            },
            "type": "scatterternary"
           }
          ],
          "surface": [
           {
            "colorbar": {
             "outlinewidth": 0,
             "ticks": ""
            },
            "colorscale": [
             [
              0,
              "#0d0887"
             ],
             [
              0.1111111111111111,
              "#46039f"
             ],
             [
              0.2222222222222222,
              "#7201a8"
             ],
             [
              0.3333333333333333,
              "#9c179e"
             ],
             [
              0.4444444444444444,
              "#bd3786"
             ],
             [
              0.5555555555555556,
              "#d8576b"
             ],
             [
              0.6666666666666666,
              "#ed7953"
             ],
             [
              0.7777777777777778,
              "#fb9f3a"
             ],
             [
              0.8888888888888888,
              "#fdca26"
             ],
             [
              1,
              "#f0f921"
             ]
            ],
            "type": "surface"
           }
          ],
          "table": [
           {
            "cells": {
             "fill": {
              "color": "#EBF0F8"
             },
             "line": {
              "color": "white"
             }
            },
            "header": {
             "fill": {
              "color": "#C8D4E3"
             },
             "line": {
              "color": "white"
             }
            },
            "type": "table"
           }
          ]
         },
         "layout": {
          "annotationdefaults": {
           "arrowcolor": "#2a3f5f",
           "arrowhead": 0,
           "arrowwidth": 1
          },
          "autotypenumbers": "strict",
          "coloraxis": {
           "colorbar": {
            "outlinewidth": 0,
            "ticks": ""
           }
          },
          "colorscale": {
           "diverging": [
            [
             0,
             "#8e0152"
            ],
            [
             0.1,
             "#c51b7d"
            ],
            [
             0.2,
             "#de77ae"
            ],
            [
             0.3,
             "#f1b6da"
            ],
            [
             0.4,
             "#fde0ef"
            ],
            [
             0.5,
             "#f7f7f7"
            ],
            [
             0.6,
             "#e6f5d0"
            ],
            [
             0.7,
             "#b8e186"
            ],
            [
             0.8,
             "#7fbc41"
            ],
            [
             0.9,
             "#4d9221"
            ],
            [
             1,
             "#276419"
            ]
           ],
           "sequential": [
            [
             0,
             "#0d0887"
            ],
            [
             0.1111111111111111,
             "#46039f"
            ],
            [
             0.2222222222222222,
             "#7201a8"
            ],
            [
             0.3333333333333333,
             "#9c179e"
            ],
            [
             0.4444444444444444,
             "#bd3786"
            ],
            [
             0.5555555555555556,
             "#d8576b"
            ],
            [
             0.6666666666666666,
             "#ed7953"
            ],
            [
             0.7777777777777778,
             "#fb9f3a"
            ],
            [
             0.8888888888888888,
             "#fdca26"
            ],
            [
             1,
             "#f0f921"
            ]
           ],
           "sequentialminus": [
            [
             0,
             "#0d0887"
            ],
            [
             0.1111111111111111,
             "#46039f"
            ],
            [
             0.2222222222222222,
             "#7201a8"
            ],
            [
             0.3333333333333333,
             "#9c179e"
            ],
            [
             0.4444444444444444,
             "#bd3786"
            ],
            [
             0.5555555555555556,
             "#d8576b"
            ],
            [
             0.6666666666666666,
             "#ed7953"
            ],
            [
             0.7777777777777778,
             "#fb9f3a"
            ],
            [
             0.8888888888888888,
             "#fdca26"
            ],
            [
             1,
             "#f0f921"
            ]
           ]
          },
          "colorway": [
           "#636efa",
           "#EF553B",
           "#00cc96",
           "#ab63fa",
           "#FFA15A",
           "#19d3f3",
           "#FF6692",
           "#B6E880",
           "#FF97FF",
           "#FECB52"
          ],
          "font": {
           "color": "#2a3f5f"
          },
          "geo": {
           "bgcolor": "white",
           "lakecolor": "white",
           "landcolor": "#E5ECF6",
           "showlakes": true,
           "showland": true,
           "subunitcolor": "white"
          },
          "hoverlabel": {
           "align": "left"
          },
          "hovermode": "closest",
          "mapbox": {
           "style": "light"
          },
          "paper_bgcolor": "white",
          "plot_bgcolor": "#E5ECF6",
          "polar": {
           "angularaxis": {
            "gridcolor": "white",
            "linecolor": "white",
            "ticks": ""
           },
           "bgcolor": "#E5ECF6",
           "radialaxis": {
            "gridcolor": "white",
            "linecolor": "white",
            "ticks": ""
           }
          },
          "scene": {
           "xaxis": {
            "backgroundcolor": "#E5ECF6",
            "gridcolor": "white",
            "gridwidth": 2,
            "linecolor": "white",
            "showbackground": true,
            "ticks": "",
            "zerolinecolor": "white"
           },
           "yaxis": {
            "backgroundcolor": "#E5ECF6",
            "gridcolor": "white",
            "gridwidth": 2,
            "linecolor": "white",
            "showbackground": true,
            "ticks": "",
            "zerolinecolor": "white"
           },
           "zaxis": {
            "backgroundcolor": "#E5ECF6",
            "gridcolor": "white",
            "gridwidth": 2,
            "linecolor": "white",
            "showbackground": true,
            "ticks": "",
            "zerolinecolor": "white"
           }
          },
          "shapedefaults": {
           "line": {
            "color": "#2a3f5f"
           }
          },
          "ternary": {
           "aaxis": {
            "gridcolor": "white",
            "linecolor": "white",
            "ticks": ""
           },
           "baxis": {
            "gridcolor": "white",
            "linecolor": "white",
            "ticks": ""
           },
           "bgcolor": "#E5ECF6",
           "caxis": {
            "gridcolor": "white",
            "linecolor": "white",
            "ticks": ""
           }
          },
          "title": {
           "x": 0.05
          },
          "xaxis": {
           "automargin": true,
           "gridcolor": "white",
           "linecolor": "white",
           "ticks": "",
           "title": {
            "standoff": 15
           },
           "zerolinecolor": "white",
           "zerolinewidth": 2
          },
          "yaxis": {
           "automargin": true,
           "gridcolor": "white",
           "linecolor": "white",
           "ticks": "",
           "title": {
            "standoff": 15
           },
           "zerolinecolor": "white",
           "zerolinewidth": 2
          }
         }
        }
       }
      }
     },
     "metadata": {},
     "output_type": "display_data"
    }
   ],
   "source": [
    "model = models.load_model('model_3.h5')\n",
    "ts = ts3.copy()\n",
    "num_proy = 11\n",
    "rmse = rmse_3\n",
    "\n",
    "time_col_name = ts.columns[0]\n",
    "value_col_name = ts.columns[1]\n",
    "last_anio = ts[time_col_name].values[-1]\n",
    "\n",
    "X, Y = preparar_datos(ts)\n",
    "X = np.array(X, dtype=float)\n",
    "X = tf.convert_to_tensor(X)\n",
    "Y_pred_proy = model.predict(X, verbose=0).reshape(-1)\n",
    "\n",
    "ts_c = ts.copy()\n",
    "for i in range(num_proy):\n",
    "    X_last, _ = preparar_datos(ts_c)\n",
    "    X_last = np.array(X_last, dtype=float)\n",
    "    X_last = tf.convert_to_tensor(X_last[-1].reshape(1,-1))\n",
    "    Y_proy = model.predict(X_last, verbose = 0)[0][0]\n",
    "    Anio_next = ts_c[time_col_name].values[-1] + 1\n",
    "    ts_c.loc[len(ts_c)] = [Anio_next, Y_proy]\n",
    "    Y_pred_proy = np.append(Y_pred_proy, Y_proy)\n",
    "anios_pred_proy = ts_c.Anio.values[5:]\n",
    "Y_proy = Y_pred_proy[-num_proy:]\n",
    "Y_pred = Y_pred_proy[:-num_proy]\n",
    "error = 2*rmse\n",
    "max_arr = Y_pred + error\n",
    "min_arr = Y_pred - error\n",
    "suma_error = error\n",
    "i = 0\n",
    "for value in Y_proy:\n",
    "    i += 1 \n",
    "    max_arr = np.append(max_arr,value+suma_error)\n",
    "    min_arr = np.append(min_arr,value-suma_error)\n",
    "    suma_error += error*0.9**i\n",
    "    suma_error += 0\n",
    "fig = go.Figure()\n",
    "fig.add_trace(go.Scatter(x = anios_pred_proy, y = max_arr, mode = 'lines',line_color='rgba(0,0,0,0)',showlegend=False))\n",
    "fig.add_trace(go.Scatter(x = anios_pred_proy, y = min_arr, fill='tonexty', mode = 'lines',line_color='rgba(100,100,255,1)', line_width=0,showlegend=False))\n",
    "fig.add_trace(go.Scatter(x = anios_pred_proy, y = Y_pred_proy, mode = 'lines', line_color = 'rgb(50,50,255)', name = 'model'))\n",
    "fig.add_trace(go.Scatter(x = ts[time_col_name], y = ts[value_col_name], mode = 'markers', line_color = 'black', name = 'Real'))\n",
    "fig.show()"
   ]
  },
  {
   "cell_type": "code",
   "execution_count": 113,
   "metadata": {},
   "outputs": [
    {
     "data": {
      "text/plain": [
       "array([23.644115, 23.56026 , 23.502636, 23.526539, 23.496538, 23.405155,\n",
       "       23.479374, 23.547726, 23.42976 , 23.464005, 23.584192, 23.463638,\n",
       "       23.444279, 23.491756, 23.532238, 23.43711 , 23.451443, 23.462967,\n",
       "       23.47036 , 23.483028, 23.477423, 23.666733, 23.54797 , 23.591305,\n",
       "       23.611187, 23.60713 , 23.614391, 23.712841, 23.643204, 23.643791,\n",
       "       23.66224 , 23.740019, 23.696917, 23.576036, 23.708246, 23.759361,\n",
       "       23.835339, 23.778477, 23.760563, 23.884426, 23.800909, 23.763325,\n",
       "       23.800842, 23.806374, 23.675003, 23.603355, 23.770807, 23.703194,\n",
       "       23.741436, 23.580902, 23.646797, 23.56332 , 23.772255, 23.811302,\n",
       "       23.770638, 23.862808, 23.899643, 23.814934, 23.874088, 23.737797,\n",
       "       23.797401, 23.753723, 23.70174 , 23.630283, 23.906355, 23.678349,\n",
       "       23.615253, 23.866714, 23.787434, 23.593216, 23.684402, 23.602068,\n",
       "       23.815807, 23.724863, 23.835785, 24.006199, 23.93286 , 24.03215 ,\n",
       "       24.145285, 23.87152 , 23.99653 , 23.99621 , 24.192123, 23.980503,\n",
       "       24.019398, 24.1802  , 24.165215, 24.046453, 24.135754, 24.203094,\n",
       "       24.213505, 24.063023, 24.349632, 24.419277, 24.127625, 24.21542 ,\n",
       "       24.342201, 24.323063, 24.292355, 24.270409, 24.358498, 24.369747,\n",
       "       24.250408, 24.237951, 24.375515, 24.260323, 24.251976, 24.333672,\n",
       "       24.317173, 24.412441, 24.603   , 24.56097 , 24.615414, 24.49924 ,\n",
       "       24.697763, 24.646574], dtype=float32)"
      ]
     },
     "execution_count": 113,
     "metadata": {},
     "output_type": "execute_result"
    }
   ],
   "source": [
    "Y_pred + error"
   ]
  },
  {
   "cell_type": "code",
   "execution_count": 107,
   "metadata": {},
   "outputs": [
    {
     "data": {
      "text/plain": [
       "array([81.386894, 81.804924, 82.575294, 83.15806 , 83.811386, 84.31926 ,\n",
       "       85.019684, 85.50497 , 86.09501 , 86.58853 , 87.084816, 87.56896 ,\n",
       "       88.01436 , 88.38065 , 88.763374, 92.24467 , 92.24467 , 92.24467 ,\n",
       "       92.24467 , 92.24467 , 92.24467 , 92.24467 , 92.24467 , 92.24467 ],\n",
       "      dtype=float32)"
      ]
     },
     "execution_count": 107,
     "metadata": {},
     "output_type": "execute_result"
    }
   ],
   "source": [
    "Y_pred_proy"
   ]
  }
 ],
 "metadata": {
  "kernelspec": {
   "display_name": "Python 3.10.2 64-bit",
   "language": "python",
   "name": "python3"
  },
  "language_info": {
   "codemirror_mode": {
    "name": "ipython",
    "version": 3
   },
   "file_extension": ".py",
   "mimetype": "text/x-python",
   "name": "python",
   "nbconvert_exporter": "python",
   "pygments_lexer": "ipython3",
   "version": "3.10.2"
  },
  "orig_nbformat": 4,
  "vscode": {
   "interpreter": {
    "hash": "ed449d678b2c1eb2d054f3ecf73eb9588e3708dcf99ab7b6fdac6947a13ce72b"
   }
  }
 },
 "nbformat": 4,
 "nbformat_minor": 2
}
